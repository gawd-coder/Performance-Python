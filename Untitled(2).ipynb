{
  "nbformat": 4,
  "nbformat_minor": 0,
  "metadata": {
    "colab": {
      "name": "Untitled",
      "provenance": [],
      "collapsed_sections": []
    },
    "kernelspec": {
      "name": "python3",
      "display_name": "Python 3"
    }
  },
  "cells": [
    {
      "cell_type": "markdown",
      "metadata": {
        "id": "N4bgEhTTRE5J",
        "colab_type": "text"
      },
      "source": [
        "*Don’t lower your expectations to meet your performance. Raise your\n",
        "level of performance to meet your expectations.*"
      ]
    },
    {
      "cell_type": "markdown",
      "metadata": {
        "id": "LBhGw7nrSSTA",
        "colab_type": "text"
      },
      "source": [
        "***Loops -***\n",
        "A function shall be written that draws a certain “large” number of random numbers and returns the average of the values. The execution time is of interest, which can be estimated by the magic functions ***%time*** and ***%timeit*** .\n",
        "\n",
        "Vanilla Python"
      ]
    },
    {
      "cell_type": "code",
      "metadata": {
        "id": "3d9ia1BfSRb9",
        "colab_type": "code",
        "colab": {
          "base_uri": "https://localhost:8080/",
          "height": 69
        },
        "outputId": "29a077e8-4d43-402c-d85d-be1c35482932"
      },
      "source": [
        "import random\n",
        "\n",
        "def average_py(n): \n",
        "    s = 0\n",
        "    for i in range(n):\n",
        "        s += random.random()\n",
        "    return s / n\n",
        "\n",
        "n = 10000000\n",
        "\n",
        "#Times the function once.\n",
        "%time average_py(n)"
      ],
      "execution_count": 1,
      "outputs": [
        {
          "output_type": "stream",
          "text": [
            "CPU times: user 1.07 s, sys: 1.59 ms, total: 1.07 s\n",
            "Wall time: 1.07 s\n"
          ],
          "name": "stdout"
        },
        {
          "output_type": "execute_result",
          "data": {
            "text/plain": [
              "0.4998776761933478"
            ]
          },
          "metadata": {
            "tags": []
          },
          "execution_count": 1
        }
      ]
    },
    {
      "cell_type": "code",
      "metadata": {
        "id": "6qrnY8VlTFZA",
        "colab_type": "code",
        "colab": {
          "base_uri": "https://localhost:8080/",
          "height": 34
        },
        "outputId": "edc66db9-10ef-48f7-f560-3f50aa5846f3"
      },
      "source": [
        "#Times the function multiple times for a more reliable estimate.\n",
        "%timeit average_py(n)"
      ],
      "execution_count": 2,
      "outputs": [
        {
          "output_type": "stream",
          "text": [
            "1 loop, best of 3: 1.06 s per loop\n"
          ],
          "name": "stdout"
        }
      ]
    },
    {
      "cell_type": "code",
      "metadata": {
        "id": "JA_sxrYYTUlq",
        "colab_type": "code",
        "colab": {
          "base_uri": "https://localhost:8080/",
          "height": 69
        },
        "outputId": "c23b3ad5-df44-4de1-d6ba-ef03d155786b"
      },
      "source": [
        "#Uses a list comprehension instead of the function.\n",
        "%time sum([random.random() for i in range(n)])/n"
      ],
      "execution_count": 3,
      "outputs": [
        {
          "output_type": "stream",
          "text": [
            "CPU times: user 1.31 s, sys: 358 ms, total: 1.66 s\n",
            "Wall time: 1.67 s\n"
          ],
          "name": "stdout"
        },
        {
          "output_type": "execute_result",
          "data": {
            "text/plain": [
              "0.5001035567680536"
            ]
          },
          "metadata": {
            "tags": []
          },
          "execution_count": 3
        }
      ]
    },
    {
      "cell_type": "markdown",
      "metadata": {
        "id": "D8Iou6UlTo0S",
        "colab_type": "text"
      },
      "source": [
        "***NumPy -***\n",
        "The strength of NumPy lies in its ***vectorization capabilities***. Formally, loops\n",
        "vanish on the Python level; the looping takes place one level deeper based\n",
        "on optimized and compiled routines provided by NumPy ."
      ]
    },
    {
      "cell_type": "code",
      "metadata": {
        "id": "gkCNICasTggp",
        "colab_type": "code",
        "colab": {
          "base_uri": "https://localhost:8080/",
          "height": 69
        },
        "outputId": "acd6f8c4-a87d-4d53-c25e-61b8bf1902dc"
      },
      "source": [
        "import numpy as np\n",
        "\n",
        "def average_py(n):\n",
        "    s = np.random.random(n)\n",
        "    return s.mean()\n",
        "\n",
        "%time average_py(n)"
      ],
      "execution_count": 4,
      "outputs": [
        {
          "output_type": "stream",
          "text": [
            "CPU times: user 107 ms, sys: 962 µs, total: 108 ms\n",
            "Wall time: 109 ms\n"
          ],
          "name": "stdout"
        },
        {
          "output_type": "execute_result",
          "data": {
            "text/plain": [
              "0.5000113077725143"
            ]
          },
          "metadata": {
            "tags": []
          },
          "execution_count": 4
        }
      ]
    },
    {
      "cell_type": "code",
      "metadata": {
        "id": "pNL2EozkT76k",
        "colab_type": "code",
        "colab": {
          "base_uri": "https://localhost:8080/",
          "height": 34
        },
        "outputId": "99543d40-f899-480b-acc2-aa33ddb26b00"
      },
      "source": [
        "%timeit average_py(n)"
      ],
      "execution_count": 5,
      "outputs": [
        {
          "output_type": "stream",
          "text": [
            "10 loops, best of 3: 106 ms per loop\n"
          ],
          "name": "stdout"
        }
      ]
    },
    {
      "cell_type": "code",
      "metadata": {
        "id": "C_pckZT5UA5m",
        "colab_type": "code",
        "colab": {
          "base_uri": "https://localhost:8080/",
          "height": 34
        },
        "outputId": "11fd1092-9209-4aaa-b586-0e114701bc3c"
      },
      "source": [
        "#Number of bytes used for the created ndarray object.\n",
        "s = np.random.random(n)\n",
        "s.nbytes"
      ],
      "execution_count": 6,
      "outputs": [
        {
          "output_type": "execute_result",
          "data": {
            "text/plain": [
              "80000000"
            ]
          },
          "metadata": {
            "tags": []
          },
          "execution_count": 6
        }
      ]
    },
    {
      "cell_type": "markdown",
      "metadata": {
        "id": "LQMB9gGdUWa4",
        "colab_type": "text"
      },
      "source": [
        "The speedup is considerable, reaching almost a factor of 10 or an order of\n",
        "magnitude. However, the price that must be paid is significantly higher\n",
        "memory usage. This is due to the fact that NumPy attains speed by\n",
        "preallocating data that can be processed in the compiled layer. As a\n",
        "consquence, there is no way, given this approach, to work with “streamed”\n",
        "data. This increased memory usage might even be prohibitively large\n",
        "depending on the algorithm or problem at hand."
      ]
    },
    {
      "cell_type": "markdown",
      "metadata": {
        "id": "ri8XWouxmbpG",
        "colab_type": "text"
      },
      "source": [
        "***Numba -***\n",
        "is a package that allows the dynamic compiling of pure Python code\n",
        "by the use of LLVM. The application in a simple case, like the one at hand,\n",
        "is surprisingly straightforward and the dynamically compiled function\n",
        "average_nb() can be called directly from Python:"
      ]
    },
    {
      "cell_type": "code",
      "metadata": {
        "id": "NWTKwezDULGq",
        "colab_type": "code",
        "colab": {}
      },
      "source": [
        "import numba"
      ],
      "execution_count": 7,
      "outputs": []
    },
    {
      "cell_type": "code",
      "metadata": {
        "id": "YQuSqN5GmjOD",
        "colab_type": "code",
        "colab": {
          "base_uri": "https://localhost:8080/",
          "height": 69
        },
        "outputId": "bc5e48ab-a94a-4b7d-c5d5-5d410fb41bfb"
      },
      "source": [
        "average_nb = numba.jit(average_py)\n",
        "#The compiling happens during runtime, leading to some overhead.\n",
        "%time average_nb(n)"
      ],
      "execution_count": 8,
      "outputs": [
        {
          "output_type": "stream",
          "text": [
            "CPU times: user 484 ms, sys: 36.1 ms, total: 520 ms\n",
            "Wall time: 585 ms\n"
          ],
          "name": "stdout"
        },
        {
          "output_type": "execute_result",
          "data": {
            "text/plain": [
              "0.5001158547028887"
            ]
          },
          "metadata": {
            "tags": []
          },
          "execution_count": 8
        }
      ]
    },
    {
      "cell_type": "code",
      "metadata": {
        "id": "0AbVT8rnmvqR",
        "colab_type": "code",
        "colab": {
          "base_uri": "https://localhost:8080/",
          "height": 69
        },
        "outputId": "5d1de807-ac01-4f8f-c4e7-704e0e5916b8"
      },
      "source": [
        "#From the second execution (with the same input data types), the execution is faster.\n",
        "%time average_nb(n)"
      ],
      "execution_count": 9,
      "outputs": [
        {
          "output_type": "stream",
          "text": [
            "CPU times: user 99.9 ms, sys: 948 µs, total: 101 ms\n",
            "Wall time: 102 ms\n"
          ],
          "name": "stdout"
        },
        {
          "output_type": "execute_result",
          "data": {
            "text/plain": [
              "0.49997318169706473"
            ]
          },
          "metadata": {
            "tags": []
          },
          "execution_count": 9
        }
      ]
    },
    {
      "cell_type": "markdown",
      "metadata": {
        "id": "x6eNWRWem-hB",
        "colab_type": "text"
      },
      "source": [
        "***The combination of pure Python with Numba beats the NumPy version and\n",
        "preserves the memory efficiency of the original loop-based implementation.***"
      ]
    },
    {
      "cell_type": "markdown",
      "metadata": {
        "id": "Ry3hZXvRm-bh",
        "colab_type": "text"
      },
      "source": [
        "***Cython -***\n",
        "allows one to statically compile Python code. However, the\n",
        "application is not as simple as with Numba since the code generally needs to\n",
        "be changed to see significant speed improvements. To begin with, consider\n",
        "the Cython function average_cy1() , which introduces static type\n",
        "declarations for the used variables:"
      ]
    },
    {
      "cell_type": "code",
      "metadata": {
        "id": "eY6R00S4m5Pg",
        "colab_type": "code",
        "colab": {}
      },
      "source": [
        "%load_ext Cython"
      ],
      "execution_count": 10,
      "outputs": []
    },
    {
      "cell_type": "code",
      "metadata": {
        "id": "Oc0fa6uZnRNl",
        "colab_type": "code",
        "colab": {
          "base_uri": "https://localhost:8080/",
          "height": 243
        },
        "outputId": "6950866c-bfb6-475f-914e-077d28a5a176"
      },
      "source": [
        "%%cython -a\n",
        "#Imports the random module within the Cython context.\n",
        "import random\n",
        "#Adds static type declarations for the variables n , i , and s .\n",
        "def average_cy1(int n):\n",
        "    cdef int i\n",
        "    cdef float s = 0\n",
        "    for i in range(n):\n",
        "        s += random.random()\n",
        "    return s/n"
      ],
      "execution_count": 11,
      "outputs": [
        {
          "output_type": "execute_result",
          "data": {
            "text/html": [
              "<!DOCTYPE html>\n",
              "<!-- Generated by Cython 0.29.21 -->\n",
              "<html>\n",
              "<head>\n",
              "    <meta http-equiv=\"Content-Type\" content=\"text/html; charset=utf-8\" />\n",
              "    <title>Cython: _cython_magic_692a562f3ea187ea4c5656331a7530e9.pyx</title>\n",
              "    <style type=\"text/css\">\n",
              "    \n",
              "body.cython { font-family: courier; font-size: 12; }\n",
              "\n",
              ".cython.tag  {  }\n",
              ".cython.line { margin: 0em }\n",
              ".cython.code { font-size: 9; color: #444444; display: none; margin: 0px 0px 0px 8px; border-left: 8px none; }\n",
              "\n",
              ".cython.line .run { background-color: #B0FFB0; }\n",
              ".cython.line .mis { background-color: #FFB0B0; }\n",
              ".cython.code.run  { border-left: 8px solid #B0FFB0; }\n",
              ".cython.code.mis  { border-left: 8px solid #FFB0B0; }\n",
              "\n",
              ".cython.code .py_c_api  { color: red; }\n",
              ".cython.code .py_macro_api  { color: #FF7000; }\n",
              ".cython.code .pyx_c_api  { color: #FF3000; }\n",
              ".cython.code .pyx_macro_api  { color: #FF7000; }\n",
              ".cython.code .refnanny  { color: #FFA000; }\n",
              ".cython.code .trace  { color: #FFA000; }\n",
              ".cython.code .error_goto  { color: #FFA000; }\n",
              "\n",
              ".cython.code .coerce  { color: #008000; border: 1px dotted #008000 }\n",
              ".cython.code .py_attr { color: #FF0000; font-weight: bold; }\n",
              ".cython.code .c_attr  { color: #0000FF; }\n",
              ".cython.code .py_call { color: #FF0000; font-weight: bold; }\n",
              ".cython.code .c_call  { color: #0000FF; }\n",
              "\n",
              ".cython.score-0 {background-color: #FFFFff;}\n",
              ".cython.score-1 {background-color: #FFFFe7;}\n",
              ".cython.score-2 {background-color: #FFFFd4;}\n",
              ".cython.score-3 {background-color: #FFFFc4;}\n",
              ".cython.score-4 {background-color: #FFFFb6;}\n",
              ".cython.score-5 {background-color: #FFFFaa;}\n",
              ".cython.score-6 {background-color: #FFFF9f;}\n",
              ".cython.score-7 {background-color: #FFFF96;}\n",
              ".cython.score-8 {background-color: #FFFF8d;}\n",
              ".cython.score-9 {background-color: #FFFF86;}\n",
              ".cython.score-10 {background-color: #FFFF7f;}\n",
              ".cython.score-11 {background-color: #FFFF79;}\n",
              ".cython.score-12 {background-color: #FFFF73;}\n",
              ".cython.score-13 {background-color: #FFFF6e;}\n",
              ".cython.score-14 {background-color: #FFFF6a;}\n",
              ".cython.score-15 {background-color: #FFFF66;}\n",
              ".cython.score-16 {background-color: #FFFF62;}\n",
              ".cython.score-17 {background-color: #FFFF5e;}\n",
              ".cython.score-18 {background-color: #FFFF5b;}\n",
              ".cython.score-19 {background-color: #FFFF57;}\n",
              ".cython.score-20 {background-color: #FFFF55;}\n",
              ".cython.score-21 {background-color: #FFFF52;}\n",
              ".cython.score-22 {background-color: #FFFF4f;}\n",
              ".cython.score-23 {background-color: #FFFF4d;}\n",
              ".cython.score-24 {background-color: #FFFF4b;}\n",
              ".cython.score-25 {background-color: #FFFF48;}\n",
              ".cython.score-26 {background-color: #FFFF46;}\n",
              ".cython.score-27 {background-color: #FFFF44;}\n",
              ".cython.score-28 {background-color: #FFFF43;}\n",
              ".cython.score-29 {background-color: #FFFF41;}\n",
              ".cython.score-30 {background-color: #FFFF3f;}\n",
              ".cython.score-31 {background-color: #FFFF3e;}\n",
              ".cython.score-32 {background-color: #FFFF3c;}\n",
              ".cython.score-33 {background-color: #FFFF3b;}\n",
              ".cython.score-34 {background-color: #FFFF39;}\n",
              ".cython.score-35 {background-color: #FFFF38;}\n",
              ".cython.score-36 {background-color: #FFFF37;}\n",
              ".cython.score-37 {background-color: #FFFF36;}\n",
              ".cython.score-38 {background-color: #FFFF35;}\n",
              ".cython.score-39 {background-color: #FFFF34;}\n",
              ".cython.score-40 {background-color: #FFFF33;}\n",
              ".cython.score-41 {background-color: #FFFF32;}\n",
              ".cython.score-42 {background-color: #FFFF31;}\n",
              ".cython.score-43 {background-color: #FFFF30;}\n",
              ".cython.score-44 {background-color: #FFFF2f;}\n",
              ".cython.score-45 {background-color: #FFFF2e;}\n",
              ".cython.score-46 {background-color: #FFFF2d;}\n",
              ".cython.score-47 {background-color: #FFFF2c;}\n",
              ".cython.score-48 {background-color: #FFFF2b;}\n",
              ".cython.score-49 {background-color: #FFFF2b;}\n",
              ".cython.score-50 {background-color: #FFFF2a;}\n",
              ".cython.score-51 {background-color: #FFFF29;}\n",
              ".cython.score-52 {background-color: #FFFF29;}\n",
              ".cython.score-53 {background-color: #FFFF28;}\n",
              ".cython.score-54 {background-color: #FFFF27;}\n",
              ".cython.score-55 {background-color: #FFFF27;}\n",
              ".cython.score-56 {background-color: #FFFF26;}\n",
              ".cython.score-57 {background-color: #FFFF26;}\n",
              ".cython.score-58 {background-color: #FFFF25;}\n",
              ".cython.score-59 {background-color: #FFFF24;}\n",
              ".cython.score-60 {background-color: #FFFF24;}\n",
              ".cython.score-61 {background-color: #FFFF23;}\n",
              ".cython.score-62 {background-color: #FFFF23;}\n",
              ".cython.score-63 {background-color: #FFFF22;}\n",
              ".cython.score-64 {background-color: #FFFF22;}\n",
              ".cython.score-65 {background-color: #FFFF22;}\n",
              ".cython.score-66 {background-color: #FFFF21;}\n",
              ".cython.score-67 {background-color: #FFFF21;}\n",
              ".cython.score-68 {background-color: #FFFF20;}\n",
              ".cython.score-69 {background-color: #FFFF20;}\n",
              ".cython.score-70 {background-color: #FFFF1f;}\n",
              ".cython.score-71 {background-color: #FFFF1f;}\n",
              ".cython.score-72 {background-color: #FFFF1f;}\n",
              ".cython.score-73 {background-color: #FFFF1e;}\n",
              ".cython.score-74 {background-color: #FFFF1e;}\n",
              ".cython.score-75 {background-color: #FFFF1e;}\n",
              ".cython.score-76 {background-color: #FFFF1d;}\n",
              ".cython.score-77 {background-color: #FFFF1d;}\n",
              ".cython.score-78 {background-color: #FFFF1c;}\n",
              ".cython.score-79 {background-color: #FFFF1c;}\n",
              ".cython.score-80 {background-color: #FFFF1c;}\n",
              ".cython.score-81 {background-color: #FFFF1c;}\n",
              ".cython.score-82 {background-color: #FFFF1b;}\n",
              ".cython.score-83 {background-color: #FFFF1b;}\n",
              ".cython.score-84 {background-color: #FFFF1b;}\n",
              ".cython.score-85 {background-color: #FFFF1a;}\n",
              ".cython.score-86 {background-color: #FFFF1a;}\n",
              ".cython.score-87 {background-color: #FFFF1a;}\n",
              ".cython.score-88 {background-color: #FFFF1a;}\n",
              ".cython.score-89 {background-color: #FFFF19;}\n",
              ".cython.score-90 {background-color: #FFFF19;}\n",
              ".cython.score-91 {background-color: #FFFF19;}\n",
              ".cython.score-92 {background-color: #FFFF19;}\n",
              ".cython.score-93 {background-color: #FFFF18;}\n",
              ".cython.score-94 {background-color: #FFFF18;}\n",
              ".cython.score-95 {background-color: #FFFF18;}\n",
              ".cython.score-96 {background-color: #FFFF18;}\n",
              ".cython.score-97 {background-color: #FFFF17;}\n",
              ".cython.score-98 {background-color: #FFFF17;}\n",
              ".cython.score-99 {background-color: #FFFF17;}\n",
              ".cython.score-100 {background-color: #FFFF17;}\n",
              ".cython.score-101 {background-color: #FFFF16;}\n",
              ".cython.score-102 {background-color: #FFFF16;}\n",
              ".cython.score-103 {background-color: #FFFF16;}\n",
              ".cython.score-104 {background-color: #FFFF16;}\n",
              ".cython.score-105 {background-color: #FFFF16;}\n",
              ".cython.score-106 {background-color: #FFFF15;}\n",
              ".cython.score-107 {background-color: #FFFF15;}\n",
              ".cython.score-108 {background-color: #FFFF15;}\n",
              ".cython.score-109 {background-color: #FFFF15;}\n",
              ".cython.score-110 {background-color: #FFFF15;}\n",
              ".cython.score-111 {background-color: #FFFF15;}\n",
              ".cython.score-112 {background-color: #FFFF14;}\n",
              ".cython.score-113 {background-color: #FFFF14;}\n",
              ".cython.score-114 {background-color: #FFFF14;}\n",
              ".cython.score-115 {background-color: #FFFF14;}\n",
              ".cython.score-116 {background-color: #FFFF14;}\n",
              ".cython.score-117 {background-color: #FFFF14;}\n",
              ".cython.score-118 {background-color: #FFFF13;}\n",
              ".cython.score-119 {background-color: #FFFF13;}\n",
              ".cython.score-120 {background-color: #FFFF13;}\n",
              ".cython.score-121 {background-color: #FFFF13;}\n",
              ".cython.score-122 {background-color: #FFFF13;}\n",
              ".cython.score-123 {background-color: #FFFF13;}\n",
              ".cython.score-124 {background-color: #FFFF13;}\n",
              ".cython.score-125 {background-color: #FFFF12;}\n",
              ".cython.score-126 {background-color: #FFFF12;}\n",
              ".cython.score-127 {background-color: #FFFF12;}\n",
              ".cython.score-128 {background-color: #FFFF12;}\n",
              ".cython.score-129 {background-color: #FFFF12;}\n",
              ".cython.score-130 {background-color: #FFFF12;}\n",
              ".cython.score-131 {background-color: #FFFF12;}\n",
              ".cython.score-132 {background-color: #FFFF11;}\n",
              ".cython.score-133 {background-color: #FFFF11;}\n",
              ".cython.score-134 {background-color: #FFFF11;}\n",
              ".cython.score-135 {background-color: #FFFF11;}\n",
              ".cython.score-136 {background-color: #FFFF11;}\n",
              ".cython.score-137 {background-color: #FFFF11;}\n",
              ".cython.score-138 {background-color: #FFFF11;}\n",
              ".cython.score-139 {background-color: #FFFF11;}\n",
              ".cython.score-140 {background-color: #FFFF11;}\n",
              ".cython.score-141 {background-color: #FFFF10;}\n",
              ".cython.score-142 {background-color: #FFFF10;}\n",
              ".cython.score-143 {background-color: #FFFF10;}\n",
              ".cython.score-144 {background-color: #FFFF10;}\n",
              ".cython.score-145 {background-color: #FFFF10;}\n",
              ".cython.score-146 {background-color: #FFFF10;}\n",
              ".cython.score-147 {background-color: #FFFF10;}\n",
              ".cython.score-148 {background-color: #FFFF10;}\n",
              ".cython.score-149 {background-color: #FFFF10;}\n",
              ".cython.score-150 {background-color: #FFFF0f;}\n",
              ".cython.score-151 {background-color: #FFFF0f;}\n",
              ".cython.score-152 {background-color: #FFFF0f;}\n",
              ".cython.score-153 {background-color: #FFFF0f;}\n",
              ".cython.score-154 {background-color: #FFFF0f;}\n",
              ".cython.score-155 {background-color: #FFFF0f;}\n",
              ".cython.score-156 {background-color: #FFFF0f;}\n",
              ".cython.score-157 {background-color: #FFFF0f;}\n",
              ".cython.score-158 {background-color: #FFFF0f;}\n",
              ".cython.score-159 {background-color: #FFFF0f;}\n",
              ".cython.score-160 {background-color: #FFFF0f;}\n",
              ".cython.score-161 {background-color: #FFFF0e;}\n",
              ".cython.score-162 {background-color: #FFFF0e;}\n",
              ".cython.score-163 {background-color: #FFFF0e;}\n",
              ".cython.score-164 {background-color: #FFFF0e;}\n",
              ".cython.score-165 {background-color: #FFFF0e;}\n",
              ".cython.score-166 {background-color: #FFFF0e;}\n",
              ".cython.score-167 {background-color: #FFFF0e;}\n",
              ".cython.score-168 {background-color: #FFFF0e;}\n",
              ".cython.score-169 {background-color: #FFFF0e;}\n",
              ".cython.score-170 {background-color: #FFFF0e;}\n",
              ".cython.score-171 {background-color: #FFFF0e;}\n",
              ".cython.score-172 {background-color: #FFFF0e;}\n",
              ".cython.score-173 {background-color: #FFFF0d;}\n",
              ".cython.score-174 {background-color: #FFFF0d;}\n",
              ".cython.score-175 {background-color: #FFFF0d;}\n",
              ".cython.score-176 {background-color: #FFFF0d;}\n",
              ".cython.score-177 {background-color: #FFFF0d;}\n",
              ".cython.score-178 {background-color: #FFFF0d;}\n",
              ".cython.score-179 {background-color: #FFFF0d;}\n",
              ".cython.score-180 {background-color: #FFFF0d;}\n",
              ".cython.score-181 {background-color: #FFFF0d;}\n",
              ".cython.score-182 {background-color: #FFFF0d;}\n",
              ".cython.score-183 {background-color: #FFFF0d;}\n",
              ".cython.score-184 {background-color: #FFFF0d;}\n",
              ".cython.score-185 {background-color: #FFFF0d;}\n",
              ".cython.score-186 {background-color: #FFFF0d;}\n",
              ".cython.score-187 {background-color: #FFFF0c;}\n",
              ".cython.score-188 {background-color: #FFFF0c;}\n",
              ".cython.score-189 {background-color: #FFFF0c;}\n",
              ".cython.score-190 {background-color: #FFFF0c;}\n",
              ".cython.score-191 {background-color: #FFFF0c;}\n",
              ".cython.score-192 {background-color: #FFFF0c;}\n",
              ".cython.score-193 {background-color: #FFFF0c;}\n",
              ".cython.score-194 {background-color: #FFFF0c;}\n",
              ".cython.score-195 {background-color: #FFFF0c;}\n",
              ".cython.score-196 {background-color: #FFFF0c;}\n",
              ".cython.score-197 {background-color: #FFFF0c;}\n",
              ".cython.score-198 {background-color: #FFFF0c;}\n",
              ".cython.score-199 {background-color: #FFFF0c;}\n",
              ".cython.score-200 {background-color: #FFFF0c;}\n",
              ".cython.score-201 {background-color: #FFFF0c;}\n",
              ".cython.score-202 {background-color: #FFFF0c;}\n",
              ".cython.score-203 {background-color: #FFFF0b;}\n",
              ".cython.score-204 {background-color: #FFFF0b;}\n",
              ".cython.score-205 {background-color: #FFFF0b;}\n",
              ".cython.score-206 {background-color: #FFFF0b;}\n",
              ".cython.score-207 {background-color: #FFFF0b;}\n",
              ".cython.score-208 {background-color: #FFFF0b;}\n",
              ".cython.score-209 {background-color: #FFFF0b;}\n",
              ".cython.score-210 {background-color: #FFFF0b;}\n",
              ".cython.score-211 {background-color: #FFFF0b;}\n",
              ".cython.score-212 {background-color: #FFFF0b;}\n",
              ".cython.score-213 {background-color: #FFFF0b;}\n",
              ".cython.score-214 {background-color: #FFFF0b;}\n",
              ".cython.score-215 {background-color: #FFFF0b;}\n",
              ".cython.score-216 {background-color: #FFFF0b;}\n",
              ".cython.score-217 {background-color: #FFFF0b;}\n",
              ".cython.score-218 {background-color: #FFFF0b;}\n",
              ".cython.score-219 {background-color: #FFFF0b;}\n",
              ".cython.score-220 {background-color: #FFFF0b;}\n",
              ".cython.score-221 {background-color: #FFFF0b;}\n",
              ".cython.score-222 {background-color: #FFFF0a;}\n",
              ".cython.score-223 {background-color: #FFFF0a;}\n",
              ".cython.score-224 {background-color: #FFFF0a;}\n",
              ".cython.score-225 {background-color: #FFFF0a;}\n",
              ".cython.score-226 {background-color: #FFFF0a;}\n",
              ".cython.score-227 {background-color: #FFFF0a;}\n",
              ".cython.score-228 {background-color: #FFFF0a;}\n",
              ".cython.score-229 {background-color: #FFFF0a;}\n",
              ".cython.score-230 {background-color: #FFFF0a;}\n",
              ".cython.score-231 {background-color: #FFFF0a;}\n",
              ".cython.score-232 {background-color: #FFFF0a;}\n",
              ".cython.score-233 {background-color: #FFFF0a;}\n",
              ".cython.score-234 {background-color: #FFFF0a;}\n",
              ".cython.score-235 {background-color: #FFFF0a;}\n",
              ".cython.score-236 {background-color: #FFFF0a;}\n",
              ".cython.score-237 {background-color: #FFFF0a;}\n",
              ".cython.score-238 {background-color: #FFFF0a;}\n",
              ".cython.score-239 {background-color: #FFFF0a;}\n",
              ".cython.score-240 {background-color: #FFFF0a;}\n",
              ".cython.score-241 {background-color: #FFFF0a;}\n",
              ".cython.score-242 {background-color: #FFFF0a;}\n",
              ".cython.score-243 {background-color: #FFFF0a;}\n",
              ".cython.score-244 {background-color: #FFFF0a;}\n",
              ".cython.score-245 {background-color: #FFFF0a;}\n",
              ".cython.score-246 {background-color: #FFFF09;}\n",
              ".cython.score-247 {background-color: #FFFF09;}\n",
              ".cython.score-248 {background-color: #FFFF09;}\n",
              ".cython.score-249 {background-color: #FFFF09;}\n",
              ".cython.score-250 {background-color: #FFFF09;}\n",
              ".cython.score-251 {background-color: #FFFF09;}\n",
              ".cython.score-252 {background-color: #FFFF09;}\n",
              ".cython.score-253 {background-color: #FFFF09;}\n",
              ".cython.score-254 {background-color: #FFFF09;}\n",
              ".cython .hll { background-color: #ffffcc }\n",
              ".cython  { background: #f8f8f8; }\n",
              ".cython .c { color: #408080; font-style: italic } /* Comment */\n",
              ".cython .err { border: 1px solid #FF0000 } /* Error */\n",
              ".cython .k { color: #008000; font-weight: bold } /* Keyword */\n",
              ".cython .o { color: #666666 } /* Operator */\n",
              ".cython .ch { color: #408080; font-style: italic } /* Comment.Hashbang */\n",
              ".cython .cm { color: #408080; font-style: italic } /* Comment.Multiline */\n",
              ".cython .cp { color: #BC7A00 } /* Comment.Preproc */\n",
              ".cython .cpf { color: #408080; font-style: italic } /* Comment.PreprocFile */\n",
              ".cython .c1 { color: #408080; font-style: italic } /* Comment.Single */\n",
              ".cython .cs { color: #408080; font-style: italic } /* Comment.Special */\n",
              ".cython .gd { color: #A00000 } /* Generic.Deleted */\n",
              ".cython .ge { font-style: italic } /* Generic.Emph */\n",
              ".cython .gr { color: #FF0000 } /* Generic.Error */\n",
              ".cython .gh { color: #000080; font-weight: bold } /* Generic.Heading */\n",
              ".cython .gi { color: #00A000 } /* Generic.Inserted */\n",
              ".cython .go { color: #888888 } /* Generic.Output */\n",
              ".cython .gp { color: #000080; font-weight: bold } /* Generic.Prompt */\n",
              ".cython .gs { font-weight: bold } /* Generic.Strong */\n",
              ".cython .gu { color: #800080; font-weight: bold } /* Generic.Subheading */\n",
              ".cython .gt { color: #0044DD } /* Generic.Traceback */\n",
              ".cython .kc { color: #008000; font-weight: bold } /* Keyword.Constant */\n",
              ".cython .kd { color: #008000; font-weight: bold } /* Keyword.Declaration */\n",
              ".cython .kn { color: #008000; font-weight: bold } /* Keyword.Namespace */\n",
              ".cython .kp { color: #008000 } /* Keyword.Pseudo */\n",
              ".cython .kr { color: #008000; font-weight: bold } /* Keyword.Reserved */\n",
              ".cython .kt { color: #B00040 } /* Keyword.Type */\n",
              ".cython .m { color: #666666 } /* Literal.Number */\n",
              ".cython .s { color: #BA2121 } /* Literal.String */\n",
              ".cython .na { color: #7D9029 } /* Name.Attribute */\n",
              ".cython .nb { color: #008000 } /* Name.Builtin */\n",
              ".cython .nc { color: #0000FF; font-weight: bold } /* Name.Class */\n",
              ".cython .no { color: #880000 } /* Name.Constant */\n",
              ".cython .nd { color: #AA22FF } /* Name.Decorator */\n",
              ".cython .ni { color: #999999; font-weight: bold } /* Name.Entity */\n",
              ".cython .ne { color: #D2413A; font-weight: bold } /* Name.Exception */\n",
              ".cython .nf { color: #0000FF } /* Name.Function */\n",
              ".cython .nl { color: #A0A000 } /* Name.Label */\n",
              ".cython .nn { color: #0000FF; font-weight: bold } /* Name.Namespace */\n",
              ".cython .nt { color: #008000; font-weight: bold } /* Name.Tag */\n",
              ".cython .nv { color: #19177C } /* Name.Variable */\n",
              ".cython .ow { color: #AA22FF; font-weight: bold } /* Operator.Word */\n",
              ".cython .w { color: #bbbbbb } /* Text.Whitespace */\n",
              ".cython .mb { color: #666666 } /* Literal.Number.Bin */\n",
              ".cython .mf { color: #666666 } /* Literal.Number.Float */\n",
              ".cython .mh { color: #666666 } /* Literal.Number.Hex */\n",
              ".cython .mi { color: #666666 } /* Literal.Number.Integer */\n",
              ".cython .mo { color: #666666 } /* Literal.Number.Oct */\n",
              ".cython .sb { color: #BA2121 } /* Literal.String.Backtick */\n",
              ".cython .sc { color: #BA2121 } /* Literal.String.Char */\n",
              ".cython .sd { color: #BA2121; font-style: italic } /* Literal.String.Doc */\n",
              ".cython .s2 { color: #BA2121 } /* Literal.String.Double */\n",
              ".cython .se { color: #BB6622; font-weight: bold } /* Literal.String.Escape */\n",
              ".cython .sh { color: #BA2121 } /* Literal.String.Heredoc */\n",
              ".cython .si { color: #BB6688; font-weight: bold } /* Literal.String.Interpol */\n",
              ".cython .sx { color: #008000 } /* Literal.String.Other */\n",
              ".cython .sr { color: #BB6688 } /* Literal.String.Regex */\n",
              ".cython .s1 { color: #BA2121 } /* Literal.String.Single */\n",
              ".cython .ss { color: #19177C } /* Literal.String.Symbol */\n",
              ".cython .bp { color: #008000 } /* Name.Builtin.Pseudo */\n",
              ".cython .vc { color: #19177C } /* Name.Variable.Class */\n",
              ".cython .vg { color: #19177C } /* Name.Variable.Global */\n",
              ".cython .vi { color: #19177C } /* Name.Variable.Instance */\n",
              ".cython .il { color: #666666 } /* Literal.Number.Integer.Long */\n",
              "    </style>\n",
              "</head>\n",
              "<body class=\"cython\">\n",
              "<p><span style=\"border-bottom: solid 1px grey;\">Generated by Cython 0.29.21</span></p>\n",
              "<p>\n",
              "    <span style=\"background-color: #FFFF00\">Yellow lines</span> hint at Python interaction.<br />\n",
              "    Click on a line that starts with a \"<code>+</code>\" to see the C code that Cython generated for it.\n",
              "</p>\n",
              "<div class=\"cython\"><pre class=\"cython line score-0\">&#xA0;<span class=\"\">1</span>: <span class=\"c\">#Imports the random module within the Cython context.</span></pre>\n",
              "<pre class=\"cython line score-8\" onclick=\"(function(s){s.display=s.display==='block'?'none':'block'})(this.nextElementSibling.style)\">+<span class=\"\">2</span>: <span class=\"k\">import</span> <span class=\"nn\">random</span></pre>\n",
              "<pre class='cython code score-8 '>  __pyx_t_1 = <span class='pyx_c_api'>__Pyx_Import</span>(__pyx_n_s_random, 0, 0);<span class='error_goto'> if (unlikely(!__pyx_t_1)) __PYX_ERR(0, 2, __pyx_L1_error)</span>\n",
              "  <span class='refnanny'>__Pyx_GOTREF</span>(__pyx_t_1);\n",
              "  if (<span class='py_c_api'>PyDict_SetItem</span>(__pyx_d, __pyx_n_s_random, __pyx_t_1) &lt; 0) <span class='error_goto'>__PYX_ERR(0, 2, __pyx_L1_error)</span>\n",
              "  <span class='pyx_macro_api'>__Pyx_DECREF</span>(__pyx_t_1); __pyx_t_1 = 0;\n",
              "</pre><pre class=\"cython line score-0\">&#xA0;<span class=\"\">3</span>: <span class=\"c\">#Adds static type declarations for the variables n , i , and s .</span></pre>\n",
              "<pre class=\"cython line score-26\" onclick=\"(function(s){s.display=s.display==='block'?'none':'block'})(this.nextElementSibling.style)\">+<span class=\"\">4</span>: <span class=\"k\">def</span> <span class=\"nf\">average_cy1</span><span class=\"p\">(</span><span class=\"nb\">int</span> <span class=\"n\">n</span><span class=\"p\">):</span></pre>\n",
              "<pre class='cython code score-26 '>/* Python wrapper */\n",
              "static PyObject *__pyx_pw_46_cython_magic_692a562f3ea187ea4c5656331a7530e9_1average_cy1(PyObject *__pyx_self, PyObject *__pyx_arg_n); /*proto*/\n",
              "static PyMethodDef __pyx_mdef_46_cython_magic_692a562f3ea187ea4c5656331a7530e9_1average_cy1 = {\"average_cy1\", (PyCFunction)__pyx_pw_46_cython_magic_692a562f3ea187ea4c5656331a7530e9_1average_cy1, METH_O, 0};\n",
              "static PyObject *__pyx_pw_46_cython_magic_692a562f3ea187ea4c5656331a7530e9_1average_cy1(PyObject *__pyx_self, PyObject *__pyx_arg_n) {\n",
              "  int __pyx_v_n;\n",
              "  PyObject *__pyx_r = 0;\n",
              "  <span class='refnanny'>__Pyx_RefNannyDeclarations</span>\n",
              "  <span class='refnanny'>__Pyx_RefNannySetupContext</span>(\"average_cy1 (wrapper)\", 0);\n",
              "  assert(__pyx_arg_n); {\n",
              "    __pyx_v_n = <span class='pyx_c_api'>__Pyx_PyInt_As_int</span>(__pyx_arg_n); if (unlikely((__pyx_v_n == (int)-1) &amp;&amp; <span class='py_c_api'>PyErr_Occurred</span>())) <span class='error_goto'>__PYX_ERR(0, 4, __pyx_L3_error)</span>\n",
              "  }\n",
              "  goto __pyx_L4_argument_unpacking_done;\n",
              "  __pyx_L3_error:;\n",
              "  <span class='pyx_c_api'>__Pyx_AddTraceback</span>(\"_cython_magic_692a562f3ea187ea4c5656331a7530e9.average_cy1\", __pyx_clineno, __pyx_lineno, __pyx_filename);\n",
              "  <span class='refnanny'>__Pyx_RefNannyFinishContext</span>();\n",
              "  return NULL;\n",
              "  __pyx_L4_argument_unpacking_done:;\n",
              "  __pyx_r = __pyx_pf_46_cython_magic_692a562f3ea187ea4c5656331a7530e9_average_cy1(__pyx_self, ((int)__pyx_v_n));\n",
              "  int __pyx_lineno = 0;\n",
              "  const char *__pyx_filename = NULL;\n",
              "  int __pyx_clineno = 0;\n",
              "\n",
              "  /* function exit code */\n",
              "  <span class='refnanny'>__Pyx_RefNannyFinishContext</span>();\n",
              "  return __pyx_r;\n",
              "}\n",
              "\n",
              "static PyObject *__pyx_pf_46_cython_magic_692a562f3ea187ea4c5656331a7530e9_average_cy1(CYTHON_UNUSED PyObject *__pyx_self, int __pyx_v_n) {\n",
              "  CYTHON_UNUSED int __pyx_v_i;\n",
              "  float __pyx_v_s;\n",
              "  PyObject *__pyx_r = NULL;\n",
              "  <span class='refnanny'>__Pyx_RefNannyDeclarations</span>\n",
              "  <span class='refnanny'>__Pyx_RefNannySetupContext</span>(\"average_cy1\", 0);\n",
              "/* … */\n",
              "  /* function exit code */\n",
              "  __pyx_L1_error:;\n",
              "  <span class='pyx_macro_api'>__Pyx_XDECREF</span>(__pyx_t_4);\n",
              "  <span class='pyx_macro_api'>__Pyx_XDECREF</span>(__pyx_t_5);\n",
              "  <span class='pyx_macro_api'>__Pyx_XDECREF</span>(__pyx_t_6);\n",
              "  <span class='pyx_macro_api'>__Pyx_XDECREF</span>(__pyx_t_7);\n",
              "  <span class='pyx_c_api'>__Pyx_AddTraceback</span>(\"_cython_magic_692a562f3ea187ea4c5656331a7530e9.average_cy1\", __pyx_clineno, __pyx_lineno, __pyx_filename);\n",
              "  __pyx_r = NULL;\n",
              "  __pyx_L0:;\n",
              "  <span class='refnanny'>__Pyx_XGIVEREF</span>(__pyx_r);\n",
              "  <span class='refnanny'>__Pyx_RefNannyFinishContext</span>();\n",
              "  return __pyx_r;\n",
              "}\n",
              "/* … */\n",
              "  __pyx_tuple_ = <span class='py_c_api'>PyTuple_Pack</span>(4, __pyx_n_s_n, __pyx_n_s_n, __pyx_n_s_i, __pyx_n_s_s);<span class='error_goto'> if (unlikely(!__pyx_tuple_)) __PYX_ERR(0, 4, __pyx_L1_error)</span>\n",
              "  <span class='refnanny'>__Pyx_GOTREF</span>(__pyx_tuple_);\n",
              "  <span class='refnanny'>__Pyx_GIVEREF</span>(__pyx_tuple_);\n",
              "/* … */\n",
              "  __pyx_t_1 = PyCFunction_NewEx(&amp;__pyx_mdef_46_cython_magic_692a562f3ea187ea4c5656331a7530e9_1average_cy1, NULL, __pyx_n_s_cython_magic_692a562f3ea187ea4c);<span class='error_goto'> if (unlikely(!__pyx_t_1)) __PYX_ERR(0, 4, __pyx_L1_error)</span>\n",
              "  <span class='refnanny'>__Pyx_GOTREF</span>(__pyx_t_1);\n",
              "  if (<span class='py_c_api'>PyDict_SetItem</span>(__pyx_d, __pyx_n_s_average_cy1, __pyx_t_1) &lt; 0) <span class='error_goto'>__PYX_ERR(0, 4, __pyx_L1_error)</span>\n",
              "  <span class='pyx_macro_api'>__Pyx_DECREF</span>(__pyx_t_1); __pyx_t_1 = 0;\n",
              "</pre><pre class=\"cython line score-0\">&#xA0;<span class=\"\">5</span>:     <span class=\"k\">cdef</span> <span class=\"kt\">int</span> <span class=\"nf\">i</span></pre>\n",
              "<pre class=\"cython line score-0\" onclick=\"(function(s){s.display=s.display==='block'?'none':'block'})(this.nextElementSibling.style)\">+<span class=\"\">6</span>:     <span class=\"k\">cdef</span> <span class=\"kt\">float</span> <span class=\"nf\">s</span> <span class=\"o\">=</span> <span class=\"mf\">0</span></pre>\n",
              "<pre class='cython code score-0 '>  __pyx_v_s = 0.0;\n",
              "</pre><pre class=\"cython line score-0\" onclick=\"(function(s){s.display=s.display==='block'?'none':'block'})(this.nextElementSibling.style)\">+<span class=\"\">7</span>:     <span class=\"k\">for</span> <span class=\"n\">i</span> <span class=\"ow\">in</span> <span class=\"nb\">range</span><span class=\"p\">(</span><span class=\"n\">n</span><span class=\"p\">):</span></pre>\n",
              "<pre class='cython code score-0 '>  __pyx_t_1 = __pyx_v_n;\n",
              "  __pyx_t_2 = __pyx_t_1;\n",
              "  for (__pyx_t_3 = 0; __pyx_t_3 &lt; __pyx_t_2; __pyx_t_3+=1) {\n",
              "    __pyx_v_i = __pyx_t_3;\n",
              "</pre><pre class=\"cython line score-44\" onclick=\"(function(s){s.display=s.display==='block'?'none':'block'})(this.nextElementSibling.style)\">+<span class=\"\">8</span>:         <span class=\"n\">s</span> <span class=\"o\">+=</span> <span class=\"n\">random</span><span class=\"o\">.</span><span class=\"n\">random</span><span class=\"p\">()</span></pre>\n",
              "<pre class='cython code score-44 '>    __pyx_t_4 = <span class='py_c_api'>PyFloat_FromDouble</span>(__pyx_v_s);<span class='error_goto'> if (unlikely(!__pyx_t_4)) __PYX_ERR(0, 8, __pyx_L1_error)</span>\n",
              "    <span class='refnanny'>__Pyx_GOTREF</span>(__pyx_t_4);\n",
              "    <span class='pyx_c_api'>__Pyx_GetModuleGlobalName</span>(__pyx_t_6, __pyx_n_s_random);<span class='error_goto'> if (unlikely(!__pyx_t_6)) __PYX_ERR(0, 8, __pyx_L1_error)</span>\n",
              "    <span class='refnanny'>__Pyx_GOTREF</span>(__pyx_t_6);\n",
              "    __pyx_t_7 = <span class='pyx_c_api'>__Pyx_PyObject_GetAttrStr</span>(__pyx_t_6, __pyx_n_s_random);<span class='error_goto'> if (unlikely(!__pyx_t_7)) __PYX_ERR(0, 8, __pyx_L1_error)</span>\n",
              "    <span class='refnanny'>__Pyx_GOTREF</span>(__pyx_t_7);\n",
              "    <span class='pyx_macro_api'>__Pyx_DECREF</span>(__pyx_t_6); __pyx_t_6 = 0;\n",
              "    __pyx_t_6 = NULL;\n",
              "    if (CYTHON_UNPACK_METHODS &amp;&amp; unlikely(<span class='py_c_api'>PyMethod_Check</span>(__pyx_t_7))) {\n",
              "      __pyx_t_6 = <span class='py_macro_api'>PyMethod_GET_SELF</span>(__pyx_t_7);\n",
              "      if (likely(__pyx_t_6)) {\n",
              "        PyObject* function = <span class='py_macro_api'>PyMethod_GET_FUNCTION</span>(__pyx_t_7);\n",
              "        <span class='pyx_macro_api'>__Pyx_INCREF</span>(__pyx_t_6);\n",
              "        <span class='pyx_macro_api'>__Pyx_INCREF</span>(function);\n",
              "        <span class='pyx_macro_api'>__Pyx_DECREF_SET</span>(__pyx_t_7, function);\n",
              "      }\n",
              "    }\n",
              "    __pyx_t_5 = (__pyx_t_6) ? <span class='pyx_c_api'>__Pyx_PyObject_CallOneArg</span>(__pyx_t_7, __pyx_t_6) : <span class='pyx_c_api'>__Pyx_PyObject_CallNoArg</span>(__pyx_t_7);\n",
              "    <span class='pyx_macro_api'>__Pyx_XDECREF</span>(__pyx_t_6); __pyx_t_6 = 0;\n",
              "    if (unlikely(!__pyx_t_5)) <span class='error_goto'>__PYX_ERR(0, 8, __pyx_L1_error)</span>\n",
              "    <span class='refnanny'>__Pyx_GOTREF</span>(__pyx_t_5);\n",
              "    <span class='pyx_macro_api'>__Pyx_DECREF</span>(__pyx_t_7); __pyx_t_7 = 0;\n",
              "    __pyx_t_7 = <span class='py_c_api'>PyNumber_InPlaceAdd</span>(__pyx_t_4, __pyx_t_5);<span class='error_goto'> if (unlikely(!__pyx_t_7)) __PYX_ERR(0, 8, __pyx_L1_error)</span>\n",
              "    <span class='refnanny'>__Pyx_GOTREF</span>(__pyx_t_7);\n",
              "    <span class='pyx_macro_api'>__Pyx_DECREF</span>(__pyx_t_4); __pyx_t_4 = 0;\n",
              "    <span class='pyx_macro_api'>__Pyx_DECREF</span>(__pyx_t_5); __pyx_t_5 = 0;\n",
              "    __pyx_t_8 = __pyx_<span class='py_c_api'>PyFloat_AsFloat</span>(__pyx_t_7); if (unlikely((__pyx_t_8 == (float)-1) &amp;&amp; <span class='py_c_api'>PyErr_Occurred</span>())) <span class='error_goto'>__PYX_ERR(0, 8, __pyx_L1_error)</span>\n",
              "    <span class='pyx_macro_api'>__Pyx_DECREF</span>(__pyx_t_7); __pyx_t_7 = 0;\n",
              "    __pyx_v_s = __pyx_t_8;\n",
              "  }\n",
              "</pre><pre class=\"cython line score-11\" onclick=\"(function(s){s.display=s.display==='block'?'none':'block'})(this.nextElementSibling.style)\">+<span class=\"\">9</span>:     <span class=\"k\">return</span> <span class=\"n\">s</span><span class=\"o\">/</span><span class=\"n\">n</span></pre>\n",
              "<pre class='cython code score-11 '>  <span class='pyx_macro_api'>__Pyx_XDECREF</span>(__pyx_r);\n",
              "  if (unlikely(__pyx_v_n == 0)) {\n",
              "    <span class='py_c_api'>PyErr_SetString</span>(PyExc_ZeroDivisionError, \"float division\");\n",
              "    <span class='error_goto'>__PYX_ERR(0, 9, __pyx_L1_error)</span>\n",
              "  }\n",
              "  __pyx_t_7 = <span class='py_c_api'>PyFloat_FromDouble</span>((__pyx_v_s / ((float)__pyx_v_n)));<span class='error_goto'> if (unlikely(!__pyx_t_7)) __PYX_ERR(0, 9, __pyx_L1_error)</span>\n",
              "  <span class='refnanny'>__Pyx_GOTREF</span>(__pyx_t_7);\n",
              "  __pyx_r = __pyx_t_7;\n",
              "  __pyx_t_7 = 0;\n",
              "  goto __pyx_L0;\n",
              "</pre></div></body></html>"
            ],
            "text/plain": [
              "<IPython.core.display.HTML object>"
            ]
          },
          "metadata": {
            "tags": []
          },
          "execution_count": 11
        }
      ]
    },
    {
      "cell_type": "code",
      "metadata": {
        "id": "DwJMKH2SnpYM",
        "colab_type": "code",
        "colab": {
          "base_uri": "https://localhost:8080/",
          "height": 69
        },
        "outputId": "606e530b-fc6c-4461-94c4-552c3ceb8359"
      },
      "source": [
        "%time average_cy1(n)"
      ],
      "execution_count": 12,
      "outputs": [
        {
          "output_type": "stream",
          "text": [
            "CPU times: user 672 ms, sys: 897 µs, total: 673 ms\n",
            "Wall time: 678 ms\n"
          ],
          "name": "stdout"
        },
        {
          "output_type": "execute_result",
          "data": {
            "text/plain": [
              "0.5000127553939819"
            ]
          },
          "metadata": {
            "tags": []
          },
          "execution_count": 12
        }
      ]
    },
    {
      "cell_type": "code",
      "metadata": {
        "id": "iEJF5_EFn1RQ",
        "colab_type": "code",
        "colab": {
          "base_uri": "https://localhost:8080/",
          "height": 69
        },
        "outputId": "3a2735db-50ca-4263-d5fb-c211945a17cf"
      },
      "source": [
        "%time average_cy1(n)"
      ],
      "execution_count": 13,
      "outputs": [
        {
          "output_type": "stream",
          "text": [
            "CPU times: user 646 ms, sys: 0 ns, total: 646 ms\n",
            "Wall time: 648 ms\n"
          ],
          "name": "stdout"
        },
        {
          "output_type": "execute_result",
          "data": {
            "text/plain": [
              "0.4998173415660858"
            ]
          },
          "metadata": {
            "tags": []
          },
          "execution_count": 13
        }
      ]
    },
    {
      "cell_type": "markdown",
      "metadata": {
        "id": "IaPXvOI9n9Fi",
        "colab_type": "text"
      },
      "source": [
        "Some speedup is observed, but not even close to that achieved by, for\n",
        "example, the NumPy version. A bit more Cython optimization is necessary to\n",
        "beat even the Numba version:"
      ]
    },
    {
      "cell_type": "code",
      "metadata": {
        "id": "oYi5ONRXn3LA",
        "colab_type": "code",
        "colab": {
          "base_uri": "https://localhost:8080/",
          "height": 104
        },
        "outputId": "242329c9-9a41-4a37-d60c-748ea1653483"
      },
      "source": [
        "%%cython\n",
        "#Imports a random number generator from C\n",
        "from libc.stdlib cimport rand\n",
        "#Imports a constant value for the scaling of the random numbers.\n",
        "cdef extern from 'limits.h':\n",
        "    int INT_MAX\n",
        "cdef int i\n",
        "cdef float rn\n",
        "for i in range(5):\n",
        "    rn = rand() / INT_MAX\n",
        "    print (rn)"
      ],
      "execution_count": 14,
      "outputs": [
        {
          "output_type": "stream",
          "text": [
            "0.27777472138404846\n",
            "0.5539699792861938\n",
            "0.47739705443382263\n",
            "0.6288709044456482\n",
            "0.36478447914123535\n"
          ],
          "name": "stdout"
        }
      ]
    },
    {
      "cell_type": "code",
      "metadata": {
        "id": "vjpWsEfpobiB",
        "colab_type": "code",
        "colab": {
          "base_uri": "https://localhost:8080/",
          "height": 243
        },
        "outputId": "c121e4c3-471e-41b5-8dc0-73f846b4b782"
      },
      "source": [
        "%%cython -a\n",
        "from libc.stdlib cimport rand\n",
        "cdef extern from 'limits.h':\n",
        "    int INT_MAX\n",
        "def average_cy2(int n):\n",
        "    cdef int i\n",
        "    cdef float s = 0\n",
        "    for i in range(n):\n",
        "        s += rand() / INT_MAX\n",
        "    return s / n"
      ],
      "execution_count": 15,
      "outputs": [
        {
          "output_type": "execute_result",
          "data": {
            "text/html": [
              "<!DOCTYPE html>\n",
              "<!-- Generated by Cython 0.29.21 -->\n",
              "<html>\n",
              "<head>\n",
              "    <meta http-equiv=\"Content-Type\" content=\"text/html; charset=utf-8\" />\n",
              "    <title>Cython: _cython_magic_2139f8d330f4284451c0ff942bc60494.pyx</title>\n",
              "    <style type=\"text/css\">\n",
              "    \n",
              "body.cython { font-family: courier; font-size: 12; }\n",
              "\n",
              ".cython.tag  {  }\n",
              ".cython.line { margin: 0em }\n",
              ".cython.code { font-size: 9; color: #444444; display: none; margin: 0px 0px 0px 8px; border-left: 8px none; }\n",
              "\n",
              ".cython.line .run { background-color: #B0FFB0; }\n",
              ".cython.line .mis { background-color: #FFB0B0; }\n",
              ".cython.code.run  { border-left: 8px solid #B0FFB0; }\n",
              ".cython.code.mis  { border-left: 8px solid #FFB0B0; }\n",
              "\n",
              ".cython.code .py_c_api  { color: red; }\n",
              ".cython.code .py_macro_api  { color: #FF7000; }\n",
              ".cython.code .pyx_c_api  { color: #FF3000; }\n",
              ".cython.code .pyx_macro_api  { color: #FF7000; }\n",
              ".cython.code .refnanny  { color: #FFA000; }\n",
              ".cython.code .trace  { color: #FFA000; }\n",
              ".cython.code .error_goto  { color: #FFA000; }\n",
              "\n",
              ".cython.code .coerce  { color: #008000; border: 1px dotted #008000 }\n",
              ".cython.code .py_attr { color: #FF0000; font-weight: bold; }\n",
              ".cython.code .c_attr  { color: #0000FF; }\n",
              ".cython.code .py_call { color: #FF0000; font-weight: bold; }\n",
              ".cython.code .c_call  { color: #0000FF; }\n",
              "\n",
              ".cython.score-0 {background-color: #FFFFff;}\n",
              ".cython.score-1 {background-color: #FFFFe7;}\n",
              ".cython.score-2 {background-color: #FFFFd4;}\n",
              ".cython.score-3 {background-color: #FFFFc4;}\n",
              ".cython.score-4 {background-color: #FFFFb6;}\n",
              ".cython.score-5 {background-color: #FFFFaa;}\n",
              ".cython.score-6 {background-color: #FFFF9f;}\n",
              ".cython.score-7 {background-color: #FFFF96;}\n",
              ".cython.score-8 {background-color: #FFFF8d;}\n",
              ".cython.score-9 {background-color: #FFFF86;}\n",
              ".cython.score-10 {background-color: #FFFF7f;}\n",
              ".cython.score-11 {background-color: #FFFF79;}\n",
              ".cython.score-12 {background-color: #FFFF73;}\n",
              ".cython.score-13 {background-color: #FFFF6e;}\n",
              ".cython.score-14 {background-color: #FFFF6a;}\n",
              ".cython.score-15 {background-color: #FFFF66;}\n",
              ".cython.score-16 {background-color: #FFFF62;}\n",
              ".cython.score-17 {background-color: #FFFF5e;}\n",
              ".cython.score-18 {background-color: #FFFF5b;}\n",
              ".cython.score-19 {background-color: #FFFF57;}\n",
              ".cython.score-20 {background-color: #FFFF55;}\n",
              ".cython.score-21 {background-color: #FFFF52;}\n",
              ".cython.score-22 {background-color: #FFFF4f;}\n",
              ".cython.score-23 {background-color: #FFFF4d;}\n",
              ".cython.score-24 {background-color: #FFFF4b;}\n",
              ".cython.score-25 {background-color: #FFFF48;}\n",
              ".cython.score-26 {background-color: #FFFF46;}\n",
              ".cython.score-27 {background-color: #FFFF44;}\n",
              ".cython.score-28 {background-color: #FFFF43;}\n",
              ".cython.score-29 {background-color: #FFFF41;}\n",
              ".cython.score-30 {background-color: #FFFF3f;}\n",
              ".cython.score-31 {background-color: #FFFF3e;}\n",
              ".cython.score-32 {background-color: #FFFF3c;}\n",
              ".cython.score-33 {background-color: #FFFF3b;}\n",
              ".cython.score-34 {background-color: #FFFF39;}\n",
              ".cython.score-35 {background-color: #FFFF38;}\n",
              ".cython.score-36 {background-color: #FFFF37;}\n",
              ".cython.score-37 {background-color: #FFFF36;}\n",
              ".cython.score-38 {background-color: #FFFF35;}\n",
              ".cython.score-39 {background-color: #FFFF34;}\n",
              ".cython.score-40 {background-color: #FFFF33;}\n",
              ".cython.score-41 {background-color: #FFFF32;}\n",
              ".cython.score-42 {background-color: #FFFF31;}\n",
              ".cython.score-43 {background-color: #FFFF30;}\n",
              ".cython.score-44 {background-color: #FFFF2f;}\n",
              ".cython.score-45 {background-color: #FFFF2e;}\n",
              ".cython.score-46 {background-color: #FFFF2d;}\n",
              ".cython.score-47 {background-color: #FFFF2c;}\n",
              ".cython.score-48 {background-color: #FFFF2b;}\n",
              ".cython.score-49 {background-color: #FFFF2b;}\n",
              ".cython.score-50 {background-color: #FFFF2a;}\n",
              ".cython.score-51 {background-color: #FFFF29;}\n",
              ".cython.score-52 {background-color: #FFFF29;}\n",
              ".cython.score-53 {background-color: #FFFF28;}\n",
              ".cython.score-54 {background-color: #FFFF27;}\n",
              ".cython.score-55 {background-color: #FFFF27;}\n",
              ".cython.score-56 {background-color: #FFFF26;}\n",
              ".cython.score-57 {background-color: #FFFF26;}\n",
              ".cython.score-58 {background-color: #FFFF25;}\n",
              ".cython.score-59 {background-color: #FFFF24;}\n",
              ".cython.score-60 {background-color: #FFFF24;}\n",
              ".cython.score-61 {background-color: #FFFF23;}\n",
              ".cython.score-62 {background-color: #FFFF23;}\n",
              ".cython.score-63 {background-color: #FFFF22;}\n",
              ".cython.score-64 {background-color: #FFFF22;}\n",
              ".cython.score-65 {background-color: #FFFF22;}\n",
              ".cython.score-66 {background-color: #FFFF21;}\n",
              ".cython.score-67 {background-color: #FFFF21;}\n",
              ".cython.score-68 {background-color: #FFFF20;}\n",
              ".cython.score-69 {background-color: #FFFF20;}\n",
              ".cython.score-70 {background-color: #FFFF1f;}\n",
              ".cython.score-71 {background-color: #FFFF1f;}\n",
              ".cython.score-72 {background-color: #FFFF1f;}\n",
              ".cython.score-73 {background-color: #FFFF1e;}\n",
              ".cython.score-74 {background-color: #FFFF1e;}\n",
              ".cython.score-75 {background-color: #FFFF1e;}\n",
              ".cython.score-76 {background-color: #FFFF1d;}\n",
              ".cython.score-77 {background-color: #FFFF1d;}\n",
              ".cython.score-78 {background-color: #FFFF1c;}\n",
              ".cython.score-79 {background-color: #FFFF1c;}\n",
              ".cython.score-80 {background-color: #FFFF1c;}\n",
              ".cython.score-81 {background-color: #FFFF1c;}\n",
              ".cython.score-82 {background-color: #FFFF1b;}\n",
              ".cython.score-83 {background-color: #FFFF1b;}\n",
              ".cython.score-84 {background-color: #FFFF1b;}\n",
              ".cython.score-85 {background-color: #FFFF1a;}\n",
              ".cython.score-86 {background-color: #FFFF1a;}\n",
              ".cython.score-87 {background-color: #FFFF1a;}\n",
              ".cython.score-88 {background-color: #FFFF1a;}\n",
              ".cython.score-89 {background-color: #FFFF19;}\n",
              ".cython.score-90 {background-color: #FFFF19;}\n",
              ".cython.score-91 {background-color: #FFFF19;}\n",
              ".cython.score-92 {background-color: #FFFF19;}\n",
              ".cython.score-93 {background-color: #FFFF18;}\n",
              ".cython.score-94 {background-color: #FFFF18;}\n",
              ".cython.score-95 {background-color: #FFFF18;}\n",
              ".cython.score-96 {background-color: #FFFF18;}\n",
              ".cython.score-97 {background-color: #FFFF17;}\n",
              ".cython.score-98 {background-color: #FFFF17;}\n",
              ".cython.score-99 {background-color: #FFFF17;}\n",
              ".cython.score-100 {background-color: #FFFF17;}\n",
              ".cython.score-101 {background-color: #FFFF16;}\n",
              ".cython.score-102 {background-color: #FFFF16;}\n",
              ".cython.score-103 {background-color: #FFFF16;}\n",
              ".cython.score-104 {background-color: #FFFF16;}\n",
              ".cython.score-105 {background-color: #FFFF16;}\n",
              ".cython.score-106 {background-color: #FFFF15;}\n",
              ".cython.score-107 {background-color: #FFFF15;}\n",
              ".cython.score-108 {background-color: #FFFF15;}\n",
              ".cython.score-109 {background-color: #FFFF15;}\n",
              ".cython.score-110 {background-color: #FFFF15;}\n",
              ".cython.score-111 {background-color: #FFFF15;}\n",
              ".cython.score-112 {background-color: #FFFF14;}\n",
              ".cython.score-113 {background-color: #FFFF14;}\n",
              ".cython.score-114 {background-color: #FFFF14;}\n",
              ".cython.score-115 {background-color: #FFFF14;}\n",
              ".cython.score-116 {background-color: #FFFF14;}\n",
              ".cython.score-117 {background-color: #FFFF14;}\n",
              ".cython.score-118 {background-color: #FFFF13;}\n",
              ".cython.score-119 {background-color: #FFFF13;}\n",
              ".cython.score-120 {background-color: #FFFF13;}\n",
              ".cython.score-121 {background-color: #FFFF13;}\n",
              ".cython.score-122 {background-color: #FFFF13;}\n",
              ".cython.score-123 {background-color: #FFFF13;}\n",
              ".cython.score-124 {background-color: #FFFF13;}\n",
              ".cython.score-125 {background-color: #FFFF12;}\n",
              ".cython.score-126 {background-color: #FFFF12;}\n",
              ".cython.score-127 {background-color: #FFFF12;}\n",
              ".cython.score-128 {background-color: #FFFF12;}\n",
              ".cython.score-129 {background-color: #FFFF12;}\n",
              ".cython.score-130 {background-color: #FFFF12;}\n",
              ".cython.score-131 {background-color: #FFFF12;}\n",
              ".cython.score-132 {background-color: #FFFF11;}\n",
              ".cython.score-133 {background-color: #FFFF11;}\n",
              ".cython.score-134 {background-color: #FFFF11;}\n",
              ".cython.score-135 {background-color: #FFFF11;}\n",
              ".cython.score-136 {background-color: #FFFF11;}\n",
              ".cython.score-137 {background-color: #FFFF11;}\n",
              ".cython.score-138 {background-color: #FFFF11;}\n",
              ".cython.score-139 {background-color: #FFFF11;}\n",
              ".cython.score-140 {background-color: #FFFF11;}\n",
              ".cython.score-141 {background-color: #FFFF10;}\n",
              ".cython.score-142 {background-color: #FFFF10;}\n",
              ".cython.score-143 {background-color: #FFFF10;}\n",
              ".cython.score-144 {background-color: #FFFF10;}\n",
              ".cython.score-145 {background-color: #FFFF10;}\n",
              ".cython.score-146 {background-color: #FFFF10;}\n",
              ".cython.score-147 {background-color: #FFFF10;}\n",
              ".cython.score-148 {background-color: #FFFF10;}\n",
              ".cython.score-149 {background-color: #FFFF10;}\n",
              ".cython.score-150 {background-color: #FFFF0f;}\n",
              ".cython.score-151 {background-color: #FFFF0f;}\n",
              ".cython.score-152 {background-color: #FFFF0f;}\n",
              ".cython.score-153 {background-color: #FFFF0f;}\n",
              ".cython.score-154 {background-color: #FFFF0f;}\n",
              ".cython.score-155 {background-color: #FFFF0f;}\n",
              ".cython.score-156 {background-color: #FFFF0f;}\n",
              ".cython.score-157 {background-color: #FFFF0f;}\n",
              ".cython.score-158 {background-color: #FFFF0f;}\n",
              ".cython.score-159 {background-color: #FFFF0f;}\n",
              ".cython.score-160 {background-color: #FFFF0f;}\n",
              ".cython.score-161 {background-color: #FFFF0e;}\n",
              ".cython.score-162 {background-color: #FFFF0e;}\n",
              ".cython.score-163 {background-color: #FFFF0e;}\n",
              ".cython.score-164 {background-color: #FFFF0e;}\n",
              ".cython.score-165 {background-color: #FFFF0e;}\n",
              ".cython.score-166 {background-color: #FFFF0e;}\n",
              ".cython.score-167 {background-color: #FFFF0e;}\n",
              ".cython.score-168 {background-color: #FFFF0e;}\n",
              ".cython.score-169 {background-color: #FFFF0e;}\n",
              ".cython.score-170 {background-color: #FFFF0e;}\n",
              ".cython.score-171 {background-color: #FFFF0e;}\n",
              ".cython.score-172 {background-color: #FFFF0e;}\n",
              ".cython.score-173 {background-color: #FFFF0d;}\n",
              ".cython.score-174 {background-color: #FFFF0d;}\n",
              ".cython.score-175 {background-color: #FFFF0d;}\n",
              ".cython.score-176 {background-color: #FFFF0d;}\n",
              ".cython.score-177 {background-color: #FFFF0d;}\n",
              ".cython.score-178 {background-color: #FFFF0d;}\n",
              ".cython.score-179 {background-color: #FFFF0d;}\n",
              ".cython.score-180 {background-color: #FFFF0d;}\n",
              ".cython.score-181 {background-color: #FFFF0d;}\n",
              ".cython.score-182 {background-color: #FFFF0d;}\n",
              ".cython.score-183 {background-color: #FFFF0d;}\n",
              ".cython.score-184 {background-color: #FFFF0d;}\n",
              ".cython.score-185 {background-color: #FFFF0d;}\n",
              ".cython.score-186 {background-color: #FFFF0d;}\n",
              ".cython.score-187 {background-color: #FFFF0c;}\n",
              ".cython.score-188 {background-color: #FFFF0c;}\n",
              ".cython.score-189 {background-color: #FFFF0c;}\n",
              ".cython.score-190 {background-color: #FFFF0c;}\n",
              ".cython.score-191 {background-color: #FFFF0c;}\n",
              ".cython.score-192 {background-color: #FFFF0c;}\n",
              ".cython.score-193 {background-color: #FFFF0c;}\n",
              ".cython.score-194 {background-color: #FFFF0c;}\n",
              ".cython.score-195 {background-color: #FFFF0c;}\n",
              ".cython.score-196 {background-color: #FFFF0c;}\n",
              ".cython.score-197 {background-color: #FFFF0c;}\n",
              ".cython.score-198 {background-color: #FFFF0c;}\n",
              ".cython.score-199 {background-color: #FFFF0c;}\n",
              ".cython.score-200 {background-color: #FFFF0c;}\n",
              ".cython.score-201 {background-color: #FFFF0c;}\n",
              ".cython.score-202 {background-color: #FFFF0c;}\n",
              ".cython.score-203 {background-color: #FFFF0b;}\n",
              ".cython.score-204 {background-color: #FFFF0b;}\n",
              ".cython.score-205 {background-color: #FFFF0b;}\n",
              ".cython.score-206 {background-color: #FFFF0b;}\n",
              ".cython.score-207 {background-color: #FFFF0b;}\n",
              ".cython.score-208 {background-color: #FFFF0b;}\n",
              ".cython.score-209 {background-color: #FFFF0b;}\n",
              ".cython.score-210 {background-color: #FFFF0b;}\n",
              ".cython.score-211 {background-color: #FFFF0b;}\n",
              ".cython.score-212 {background-color: #FFFF0b;}\n",
              ".cython.score-213 {background-color: #FFFF0b;}\n",
              ".cython.score-214 {background-color: #FFFF0b;}\n",
              ".cython.score-215 {background-color: #FFFF0b;}\n",
              ".cython.score-216 {background-color: #FFFF0b;}\n",
              ".cython.score-217 {background-color: #FFFF0b;}\n",
              ".cython.score-218 {background-color: #FFFF0b;}\n",
              ".cython.score-219 {background-color: #FFFF0b;}\n",
              ".cython.score-220 {background-color: #FFFF0b;}\n",
              ".cython.score-221 {background-color: #FFFF0b;}\n",
              ".cython.score-222 {background-color: #FFFF0a;}\n",
              ".cython.score-223 {background-color: #FFFF0a;}\n",
              ".cython.score-224 {background-color: #FFFF0a;}\n",
              ".cython.score-225 {background-color: #FFFF0a;}\n",
              ".cython.score-226 {background-color: #FFFF0a;}\n",
              ".cython.score-227 {background-color: #FFFF0a;}\n",
              ".cython.score-228 {background-color: #FFFF0a;}\n",
              ".cython.score-229 {background-color: #FFFF0a;}\n",
              ".cython.score-230 {background-color: #FFFF0a;}\n",
              ".cython.score-231 {background-color: #FFFF0a;}\n",
              ".cython.score-232 {background-color: #FFFF0a;}\n",
              ".cython.score-233 {background-color: #FFFF0a;}\n",
              ".cython.score-234 {background-color: #FFFF0a;}\n",
              ".cython.score-235 {background-color: #FFFF0a;}\n",
              ".cython.score-236 {background-color: #FFFF0a;}\n",
              ".cython.score-237 {background-color: #FFFF0a;}\n",
              ".cython.score-238 {background-color: #FFFF0a;}\n",
              ".cython.score-239 {background-color: #FFFF0a;}\n",
              ".cython.score-240 {background-color: #FFFF0a;}\n",
              ".cython.score-241 {background-color: #FFFF0a;}\n",
              ".cython.score-242 {background-color: #FFFF0a;}\n",
              ".cython.score-243 {background-color: #FFFF0a;}\n",
              ".cython.score-244 {background-color: #FFFF0a;}\n",
              ".cython.score-245 {background-color: #FFFF0a;}\n",
              ".cython.score-246 {background-color: #FFFF09;}\n",
              ".cython.score-247 {background-color: #FFFF09;}\n",
              ".cython.score-248 {background-color: #FFFF09;}\n",
              ".cython.score-249 {background-color: #FFFF09;}\n",
              ".cython.score-250 {background-color: #FFFF09;}\n",
              ".cython.score-251 {background-color: #FFFF09;}\n",
              ".cython.score-252 {background-color: #FFFF09;}\n",
              ".cython.score-253 {background-color: #FFFF09;}\n",
              ".cython.score-254 {background-color: #FFFF09;}\n",
              ".cython .hll { background-color: #ffffcc }\n",
              ".cython  { background: #f8f8f8; }\n",
              ".cython .c { color: #408080; font-style: italic } /* Comment */\n",
              ".cython .err { border: 1px solid #FF0000 } /* Error */\n",
              ".cython .k { color: #008000; font-weight: bold } /* Keyword */\n",
              ".cython .o { color: #666666 } /* Operator */\n",
              ".cython .ch { color: #408080; font-style: italic } /* Comment.Hashbang */\n",
              ".cython .cm { color: #408080; font-style: italic } /* Comment.Multiline */\n",
              ".cython .cp { color: #BC7A00 } /* Comment.Preproc */\n",
              ".cython .cpf { color: #408080; font-style: italic } /* Comment.PreprocFile */\n",
              ".cython .c1 { color: #408080; font-style: italic } /* Comment.Single */\n",
              ".cython .cs { color: #408080; font-style: italic } /* Comment.Special */\n",
              ".cython .gd { color: #A00000 } /* Generic.Deleted */\n",
              ".cython .ge { font-style: italic } /* Generic.Emph */\n",
              ".cython .gr { color: #FF0000 } /* Generic.Error */\n",
              ".cython .gh { color: #000080; font-weight: bold } /* Generic.Heading */\n",
              ".cython .gi { color: #00A000 } /* Generic.Inserted */\n",
              ".cython .go { color: #888888 } /* Generic.Output */\n",
              ".cython .gp { color: #000080; font-weight: bold } /* Generic.Prompt */\n",
              ".cython .gs { font-weight: bold } /* Generic.Strong */\n",
              ".cython .gu { color: #800080; font-weight: bold } /* Generic.Subheading */\n",
              ".cython .gt { color: #0044DD } /* Generic.Traceback */\n",
              ".cython .kc { color: #008000; font-weight: bold } /* Keyword.Constant */\n",
              ".cython .kd { color: #008000; font-weight: bold } /* Keyword.Declaration */\n",
              ".cython .kn { color: #008000; font-weight: bold } /* Keyword.Namespace */\n",
              ".cython .kp { color: #008000 } /* Keyword.Pseudo */\n",
              ".cython .kr { color: #008000; font-weight: bold } /* Keyword.Reserved */\n",
              ".cython .kt { color: #B00040 } /* Keyword.Type */\n",
              ".cython .m { color: #666666 } /* Literal.Number */\n",
              ".cython .s { color: #BA2121 } /* Literal.String */\n",
              ".cython .na { color: #7D9029 } /* Name.Attribute */\n",
              ".cython .nb { color: #008000 } /* Name.Builtin */\n",
              ".cython .nc { color: #0000FF; font-weight: bold } /* Name.Class */\n",
              ".cython .no { color: #880000 } /* Name.Constant */\n",
              ".cython .nd { color: #AA22FF } /* Name.Decorator */\n",
              ".cython .ni { color: #999999; font-weight: bold } /* Name.Entity */\n",
              ".cython .ne { color: #D2413A; font-weight: bold } /* Name.Exception */\n",
              ".cython .nf { color: #0000FF } /* Name.Function */\n",
              ".cython .nl { color: #A0A000 } /* Name.Label */\n",
              ".cython .nn { color: #0000FF; font-weight: bold } /* Name.Namespace */\n",
              ".cython .nt { color: #008000; font-weight: bold } /* Name.Tag */\n",
              ".cython .nv { color: #19177C } /* Name.Variable */\n",
              ".cython .ow { color: #AA22FF; font-weight: bold } /* Operator.Word */\n",
              ".cython .w { color: #bbbbbb } /* Text.Whitespace */\n",
              ".cython .mb { color: #666666 } /* Literal.Number.Bin */\n",
              ".cython .mf { color: #666666 } /* Literal.Number.Float */\n",
              ".cython .mh { color: #666666 } /* Literal.Number.Hex */\n",
              ".cython .mi { color: #666666 } /* Literal.Number.Integer */\n",
              ".cython .mo { color: #666666 } /* Literal.Number.Oct */\n",
              ".cython .sb { color: #BA2121 } /* Literal.String.Backtick */\n",
              ".cython .sc { color: #BA2121 } /* Literal.String.Char */\n",
              ".cython .sd { color: #BA2121; font-style: italic } /* Literal.String.Doc */\n",
              ".cython .s2 { color: #BA2121 } /* Literal.String.Double */\n",
              ".cython .se { color: #BB6622; font-weight: bold } /* Literal.String.Escape */\n",
              ".cython .sh { color: #BA2121 } /* Literal.String.Heredoc */\n",
              ".cython .si { color: #BB6688; font-weight: bold } /* Literal.String.Interpol */\n",
              ".cython .sx { color: #008000 } /* Literal.String.Other */\n",
              ".cython .sr { color: #BB6688 } /* Literal.String.Regex */\n",
              ".cython .s1 { color: #BA2121 } /* Literal.String.Single */\n",
              ".cython .ss { color: #19177C } /* Literal.String.Symbol */\n",
              ".cython .bp { color: #008000 } /* Name.Builtin.Pseudo */\n",
              ".cython .vc { color: #19177C } /* Name.Variable.Class */\n",
              ".cython .vg { color: #19177C } /* Name.Variable.Global */\n",
              ".cython .vi { color: #19177C } /* Name.Variable.Instance */\n",
              ".cython .il { color: #666666 } /* Literal.Number.Integer.Long */\n",
              "    </style>\n",
              "</head>\n",
              "<body class=\"cython\">\n",
              "<p><span style=\"border-bottom: solid 1px grey;\">Generated by Cython 0.29.21</span></p>\n",
              "<p>\n",
              "    <span style=\"background-color: #FFFF00\">Yellow lines</span> hint at Python interaction.<br />\n",
              "    Click on a line that starts with a \"<code>+</code>\" to see the C code that Cython generated for it.\n",
              "</p>\n",
              "<div class=\"cython\"><pre class=\"cython line score-0\">&#xA0;<span class=\"\">1</span>: <span class=\"k\">from</span> <span class=\"nn\">libc.stdlib</span> <span class=\"k\">cimport</span> <span class=\"n\">rand</span></pre>\n",
              "<pre class=\"cython line score-0\">&#xA0;<span class=\"\">2</span>: <span class=\"k\">cdef</span> <span class=\"kr\">extern</span> <span class=\"k\">from</span> <span class=\"s\">&#39;limits.h&#39;</span><span class=\"p\">:</span></pre>\n",
              "<pre class=\"cython line score-0\">&#xA0;<span class=\"\">3</span>:     <span class=\"nb\">int</span> <span class=\"n\">INT_MAX</span></pre>\n",
              "<pre class=\"cython line score-23\" onclick=\"(function(s){s.display=s.display==='block'?'none':'block'})(this.nextElementSibling.style)\">+<span class=\"\">4</span>: <span class=\"k\">def</span> <span class=\"nf\">average_cy2</span><span class=\"p\">(</span><span class=\"nb\">int</span> <span class=\"n\">n</span><span class=\"p\">):</span></pre>\n",
              "<pre class='cython code score-23 '>/* Python wrapper */\n",
              "static PyObject *__pyx_pw_46_cython_magic_2139f8d330f4284451c0ff942bc60494_1average_cy2(PyObject *__pyx_self, PyObject *__pyx_arg_n); /*proto*/\n",
              "static PyMethodDef __pyx_mdef_46_cython_magic_2139f8d330f4284451c0ff942bc60494_1average_cy2 = {\"average_cy2\", (PyCFunction)__pyx_pw_46_cython_magic_2139f8d330f4284451c0ff942bc60494_1average_cy2, METH_O, 0};\n",
              "static PyObject *__pyx_pw_46_cython_magic_2139f8d330f4284451c0ff942bc60494_1average_cy2(PyObject *__pyx_self, PyObject *__pyx_arg_n) {\n",
              "  int __pyx_v_n;\n",
              "  PyObject *__pyx_r = 0;\n",
              "  <span class='refnanny'>__Pyx_RefNannyDeclarations</span>\n",
              "  <span class='refnanny'>__Pyx_RefNannySetupContext</span>(\"average_cy2 (wrapper)\", 0);\n",
              "  assert(__pyx_arg_n); {\n",
              "    __pyx_v_n = <span class='pyx_c_api'>__Pyx_PyInt_As_int</span>(__pyx_arg_n); if (unlikely((__pyx_v_n == (int)-1) &amp;&amp; <span class='py_c_api'>PyErr_Occurred</span>())) <span class='error_goto'>__PYX_ERR(0, 4, __pyx_L3_error)</span>\n",
              "  }\n",
              "  goto __pyx_L4_argument_unpacking_done;\n",
              "  __pyx_L3_error:;\n",
              "  <span class='pyx_c_api'>__Pyx_AddTraceback</span>(\"_cython_magic_2139f8d330f4284451c0ff942bc60494.average_cy2\", __pyx_clineno, __pyx_lineno, __pyx_filename);\n",
              "  <span class='refnanny'>__Pyx_RefNannyFinishContext</span>();\n",
              "  return NULL;\n",
              "  __pyx_L4_argument_unpacking_done:;\n",
              "  __pyx_r = __pyx_pf_46_cython_magic_2139f8d330f4284451c0ff942bc60494_average_cy2(__pyx_self, ((int)__pyx_v_n));\n",
              "  int __pyx_lineno = 0;\n",
              "  const char *__pyx_filename = NULL;\n",
              "  int __pyx_clineno = 0;\n",
              "\n",
              "  /* function exit code */\n",
              "  <span class='refnanny'>__Pyx_RefNannyFinishContext</span>();\n",
              "  return __pyx_r;\n",
              "}\n",
              "\n",
              "static PyObject *__pyx_pf_46_cython_magic_2139f8d330f4284451c0ff942bc60494_average_cy2(CYTHON_UNUSED PyObject *__pyx_self, int __pyx_v_n) {\n",
              "  CYTHON_UNUSED int __pyx_v_i;\n",
              "  float __pyx_v_s;\n",
              "  PyObject *__pyx_r = NULL;\n",
              "  <span class='refnanny'>__Pyx_RefNannyDeclarations</span>\n",
              "  <span class='refnanny'>__Pyx_RefNannySetupContext</span>(\"average_cy2\", 0);\n",
              "/* … */\n",
              "  /* function exit code */\n",
              "  __pyx_L1_error:;\n",
              "  <span class='pyx_macro_api'>__Pyx_XDECREF</span>(__pyx_t_5);\n",
              "  <span class='pyx_c_api'>__Pyx_AddTraceback</span>(\"_cython_magic_2139f8d330f4284451c0ff942bc60494.average_cy2\", __pyx_clineno, __pyx_lineno, __pyx_filename);\n",
              "  __pyx_r = NULL;\n",
              "  __pyx_L0:;\n",
              "  <span class='refnanny'>__Pyx_XGIVEREF</span>(__pyx_r);\n",
              "  <span class='refnanny'>__Pyx_RefNannyFinishContext</span>();\n",
              "  return __pyx_r;\n",
              "}\n",
              "/* … */\n",
              "  __pyx_tuple_ = <span class='py_c_api'>PyTuple_Pack</span>(4, __pyx_n_s_n, __pyx_n_s_n, __pyx_n_s_i, __pyx_n_s_s);<span class='error_goto'> if (unlikely(!__pyx_tuple_)) __PYX_ERR(0, 4, __pyx_L1_error)</span>\n",
              "  <span class='refnanny'>__Pyx_GOTREF</span>(__pyx_tuple_);\n",
              "  <span class='refnanny'>__Pyx_GIVEREF</span>(__pyx_tuple_);\n",
              "/* … */\n",
              "  __pyx_t_1 = PyCFunction_NewEx(&amp;__pyx_mdef_46_cython_magic_2139f8d330f4284451c0ff942bc60494_1average_cy2, NULL, __pyx_n_s_cython_magic_2139f8d330f4284451);<span class='error_goto'> if (unlikely(!__pyx_t_1)) __PYX_ERR(0, 4, __pyx_L1_error)</span>\n",
              "  <span class='refnanny'>__Pyx_GOTREF</span>(__pyx_t_1);\n",
              "  if (<span class='py_c_api'>PyDict_SetItem</span>(__pyx_d, __pyx_n_s_average_cy2, __pyx_t_1) &lt; 0) <span class='error_goto'>__PYX_ERR(0, 4, __pyx_L1_error)</span>\n",
              "  <span class='pyx_macro_api'>__Pyx_DECREF</span>(__pyx_t_1); __pyx_t_1 = 0;\n",
              "</pre><pre class=\"cython line score-0\">&#xA0;<span class=\"\">5</span>:     <span class=\"k\">cdef</span> <span class=\"kt\">int</span> <span class=\"nf\">i</span></pre>\n",
              "<pre class=\"cython line score-0\" onclick=\"(function(s){s.display=s.display==='block'?'none':'block'})(this.nextElementSibling.style)\">+<span class=\"\">6</span>:     <span class=\"k\">cdef</span> <span class=\"kt\">float</span> <span class=\"nf\">s</span> <span class=\"o\">=</span> <span class=\"mf\">0</span></pre>\n",
              "<pre class='cython code score-0 '>  __pyx_v_s = 0.0;\n",
              "</pre><pre class=\"cython line score-0\" onclick=\"(function(s){s.display=s.display==='block'?'none':'block'})(this.nextElementSibling.style)\">+<span class=\"\">7</span>:     <span class=\"k\">for</span> <span class=\"n\">i</span> <span class=\"ow\">in</span> <span class=\"nb\">range</span><span class=\"p\">(</span><span class=\"n\">n</span><span class=\"p\">):</span></pre>\n",
              "<pre class='cython code score-0 '>  __pyx_t_1 = __pyx_v_n;\n",
              "  __pyx_t_2 = __pyx_t_1;\n",
              "  for (__pyx_t_3 = 0; __pyx_t_3 &lt; __pyx_t_2; __pyx_t_3+=1) {\n",
              "    __pyx_v_i = __pyx_t_3;\n",
              "</pre><pre class=\"cython line score-5\" onclick=\"(function(s){s.display=s.display==='block'?'none':'block'})(this.nextElementSibling.style)\">+<span class=\"\">8</span>:         <span class=\"n\">s</span> <span class=\"o\">+=</span> <span class=\"n\">rand</span><span class=\"p\">()</span> <span class=\"o\">/</span> <span class=\"n\">INT_MAX</span></pre>\n",
              "<pre class='cython code score-5 '>    __pyx_t_4 = rand();\n",
              "    if (unlikely(INT_MAX == 0)) {\n",
              "      <span class='py_c_api'>PyErr_SetString</span>(PyExc_ZeroDivisionError, \"float division\");\n",
              "      <span class='error_goto'>__PYX_ERR(0, 8, __pyx_L1_error)</span>\n",
              "    }\n",
              "    __pyx_v_s = (__pyx_v_s + (((double)__pyx_t_4) / ((double)INT_MAX)));\n",
              "  }\n",
              "</pre><pre class=\"cython line score-11\" onclick=\"(function(s){s.display=s.display==='block'?'none':'block'})(this.nextElementSibling.style)\">+<span class=\"\">9</span>:     <span class=\"k\">return</span> <span class=\"n\">s</span> <span class=\"o\">/</span> <span class=\"n\">n</span></pre>\n",
              "<pre class='cython code score-11 '>  <span class='pyx_macro_api'>__Pyx_XDECREF</span>(__pyx_r);\n",
              "  if (unlikely(__pyx_v_n == 0)) {\n",
              "    <span class='py_c_api'>PyErr_SetString</span>(PyExc_ZeroDivisionError, \"float division\");\n",
              "    <span class='error_goto'>__PYX_ERR(0, 9, __pyx_L1_error)</span>\n",
              "  }\n",
              "  __pyx_t_5 = <span class='py_c_api'>PyFloat_FromDouble</span>((__pyx_v_s / ((float)__pyx_v_n)));<span class='error_goto'> if (unlikely(!__pyx_t_5)) __PYX_ERR(0, 9, __pyx_L1_error)</span>\n",
              "  <span class='refnanny'>__Pyx_GOTREF</span>(__pyx_t_5);\n",
              "  __pyx_r = __pyx_t_5;\n",
              "  __pyx_t_5 = 0;\n",
              "  goto __pyx_L0;\n",
              "</pre></div></body></html>"
            ],
            "text/plain": [
              "<IPython.core.display.HTML object>"
            ]
          },
          "metadata": {
            "tags": []
          },
          "execution_count": 15
        }
      ]
    },
    {
      "cell_type": "code",
      "metadata": {
        "id": "jK3WiHPKoi5l",
        "colab_type": "code",
        "colab": {
          "base_uri": "https://localhost:8080/",
          "height": 69
        },
        "outputId": "d5a4153e-324e-47d4-fa08-20aac41f63d3"
      },
      "source": [
        "%time average_cy2(n)"
      ],
      "execution_count": 16,
      "outputs": [
        {
          "output_type": "stream",
          "text": [
            "CPU times: user 218 ms, sys: 0 ns, total: 218 ms\n",
            "Wall time: 221 ms\n"
          ],
          "name": "stdout"
        },
        {
          "output_type": "execute_result",
          "data": {
            "text/plain": [
              "0.5000253915786743"
            ]
          },
          "metadata": {
            "tags": []
          },
          "execution_count": 16
        }
      ]
    },
    {
      "cell_type": "code",
      "metadata": {
        "id": "P3gUk_a0oo_I",
        "colab_type": "code",
        "colab": {
          "base_uri": "https://localhost:8080/",
          "height": 69
        },
        "outputId": "9b1f0f83-1470-4485-f834-4131321f53e8"
      },
      "source": [
        "%time average_cy2(n)"
      ],
      "execution_count": 17,
      "outputs": [
        {
          "output_type": "stream",
          "text": [
            "CPU times: user 213 ms, sys: 1.99 ms, total: 215 ms\n",
            "Wall time: 218 ms\n"
          ],
          "name": "stdout"
        },
        {
          "output_type": "execute_result",
          "data": {
            "text/plain": [
              "0.5000430941581726"
            ]
          },
          "metadata": {
            "tags": []
          },
          "execution_count": 17
        }
      ]
    },
    {
      "cell_type": "markdown",
      "metadata": {
        "id": "VhvXlnMvo0Kz",
        "colab_type": "text"
      },
      "source": [
        "This further optimized Cython version, average_cy2() , is now a bit faster\n",
        "than the Numba version. However, the effort has also been a bit larger.\n",
        "Compared to the NumPy version, Cython also preserves the memory\n",
        "efficiency of the original loop-based implementation."
      ]
    },
    {
      "cell_type": "markdown",
      "metadata": {
        "id": "NAngkwwppIAj",
        "colab_type": "text"
      },
      "source": [
        "**Prime Numbers - Python**\n",
        "There are a number of algorithmic implementations available to test if\n",
        "numbers are prime. The following is a Python version that is not yet\n",
        "optimal from an algorithmic point of view but is already quite efficient. The\n",
        "execution time for the larger prime p2 , however, is long:"
      ]
    },
    {
      "cell_type": "code",
      "metadata": {
        "id": "dwSvMT2NopQg",
        "colab_type": "code",
        "colab": {}
      },
      "source": [
        "def is_prime(I):\n",
        "    if I%2 == 0:\n",
        "        return False\n",
        "    for i in range(3, int(I ** 0.5) + 1, 2):\n",
        "        if I % 2 == 0:\n",
        "            return False\n",
        "        return True"
      ],
      "execution_count": 18,
      "outputs": []
    },
    {
      "cell_type": "code",
      "metadata": {
        "id": "ovOWZeirpmfU",
        "colab_type": "code",
        "colab": {
          "base_uri": "https://localhost:8080/",
          "height": 69
        },
        "outputId": "596730e7-c367-4240-d559-f8ac663c11e9"
      },
      "source": [
        "n = int(1e8 + 3)\n",
        "%time is_prime(n)"
      ],
      "execution_count": 19,
      "outputs": [
        {
          "output_type": "stream",
          "text": [
            "CPU times: user 14 µs, sys: 1 µs, total: 15 µs\n",
            "Wall time: 37.4 µs\n"
          ],
          "name": "stdout"
        },
        {
          "output_type": "execute_result",
          "data": {
            "text/plain": [
              "True"
            ]
          },
          "metadata": {
            "tags": []
          },
          "execution_count": 19
        }
      ]
    },
    {
      "cell_type": "code",
      "metadata": {
        "id": "guk3dh3pptcT",
        "colab_type": "code",
        "colab": {
          "base_uri": "https://localhost:8080/",
          "height": 69
        },
        "outputId": "babb7147-d151-45f7-b984-5a1cc5e95f28"
      },
      "source": [
        "p1 = int(1e8 + 7)\n",
        "%time is_prime(p1)"
      ],
      "execution_count": 20,
      "outputs": [
        {
          "output_type": "stream",
          "text": [
            "CPU times: user 13 µs, sys: 1e+03 ns, total: 14 µs\n",
            "Wall time: 18.4 µs\n"
          ],
          "name": "stdout"
        },
        {
          "output_type": "execute_result",
          "data": {
            "text/plain": [
              "True"
            ]
          },
          "metadata": {
            "tags": []
          },
          "execution_count": 20
        }
      ]
    },
    {
      "cell_type": "code",
      "metadata": {
        "id": "4NiV2O7spzTf",
        "colab_type": "code",
        "colab": {
          "base_uri": "https://localhost:8080/",
          "height": 34
        },
        "outputId": "fb5487e9-5560-4e35-a214-424207b79a8a"
      },
      "source": [
        "p2 = 100109100129162907\n",
        "p2.bit_length()"
      ],
      "execution_count": 21,
      "outputs": [
        {
          "output_type": "execute_result",
          "data": {
            "text/plain": [
              "57"
            ]
          },
          "metadata": {
            "tags": []
          },
          "execution_count": 21
        }
      ]
    },
    {
      "cell_type": "code",
      "metadata": {
        "id": "CT5fMyZtp3qe",
        "colab_type": "code",
        "colab": {
          "base_uri": "https://localhost:8080/",
          "height": 69
        },
        "outputId": "83f1f575-c672-499a-c774-376b3683edc5"
      },
      "source": [
        "%time is_prime(p2)"
      ],
      "execution_count": 22,
      "outputs": [
        {
          "output_type": "stream",
          "text": [
            "CPU times: user 0 ns, sys: 29 µs, total: 29 µs\n",
            "Wall time: 41.2 µs\n"
          ],
          "name": "stdout"
        },
        {
          "output_type": "execute_result",
          "data": {
            "text/plain": [
              "True"
            ]
          },
          "metadata": {
            "tags": []
          },
          "execution_count": 22
        }
      ]
    },
    {
      "cell_type": "markdown",
      "metadata": {
        "id": "yJucOqjuqLOk",
        "colab_type": "text"
      },
      "source": [
        "***Numba -***"
      ]
    },
    {
      "cell_type": "code",
      "metadata": {
        "id": "PJmgCKu6p9e2",
        "colab_type": "code",
        "colab": {}
      },
      "source": [
        "is_prime_nb = numba.jit(is_prime)"
      ],
      "execution_count": 23,
      "outputs": []
    },
    {
      "cell_type": "code",
      "metadata": {
        "id": "lsM1Tap4rsT4",
        "colab_type": "code",
        "colab": {
          "base_uri": "https://localhost:8080/",
          "height": 69
        },
        "outputId": "be505de6-9f43-4b9c-95e3-f6aee591f318"
      },
      "source": [
        "%time is_prime_nb(n)"
      ],
      "execution_count": 24,
      "outputs": [
        {
          "output_type": "stream",
          "text": [
            "CPU times: user 94.8 ms, sys: 3.1 ms, total: 97.9 ms\n",
            "Wall time: 110 ms\n"
          ],
          "name": "stdout"
        },
        {
          "output_type": "execute_result",
          "data": {
            "text/plain": [
              "True"
            ]
          },
          "metadata": {
            "tags": []
          },
          "execution_count": 24
        }
      ]
    },
    {
      "cell_type": "code",
      "metadata": {
        "id": "Ob2dU02Srv74",
        "colab_type": "code",
        "colab": {
          "base_uri": "https://localhost:8080/",
          "height": 69
        },
        "outputId": "8ad4b01f-5caf-4592-cbbd-3d2944767143"
      },
      "source": [
        "%time is_prime_nb(n)"
      ],
      "execution_count": 25,
      "outputs": [
        {
          "output_type": "stream",
          "text": [
            "CPU times: user 10 µs, sys: 1 µs, total: 11 µs\n",
            "Wall time: 13.4 µs\n"
          ],
          "name": "stdout"
        },
        {
          "output_type": "execute_result",
          "data": {
            "text/plain": [
              "True"
            ]
          },
          "metadata": {
            "tags": []
          },
          "execution_count": 25
        }
      ]
    },
    {
      "cell_type": "code",
      "metadata": {
        "id": "46yHIE-wsDCe",
        "colab_type": "code",
        "colab": {
          "base_uri": "https://localhost:8080/",
          "height": 69
        },
        "outputId": "bb32cefa-1f40-4462-865f-cbaefe02fedd"
      },
      "source": [
        "%time is_prime_nb(p1)"
      ],
      "execution_count": 26,
      "outputs": [
        {
          "output_type": "stream",
          "text": [
            "CPU times: user 10 µs, sys: 0 ns, total: 10 µs\n",
            "Wall time: 14.5 µs\n"
          ],
          "name": "stdout"
        },
        {
          "output_type": "execute_result",
          "data": {
            "text/plain": [
              "True"
            ]
          },
          "metadata": {
            "tags": []
          },
          "execution_count": 26
        }
      ]
    },
    {
      "cell_type": "code",
      "metadata": {
        "id": "7_WKZxdmsHsj",
        "colab_type": "code",
        "colab": {
          "base_uri": "https://localhost:8080/",
          "height": 69
        },
        "outputId": "2d672a9d-7372-4424-9545-763439e1b367"
      },
      "source": [
        "%time is_prime_nb(p2)"
      ],
      "execution_count": 27,
      "outputs": [
        {
          "output_type": "stream",
          "text": [
            "CPU times: user 11 µs, sys: 0 ns, total: 11 µs\n",
            "Wall time: 15 µs\n"
          ],
          "name": "stdout"
        },
        {
          "output_type": "execute_result",
          "data": {
            "text/plain": [
              "True"
            ]
          },
          "metadata": {
            "tags": []
          },
          "execution_count": 27
        }
      ]
    },
    {
      "cell_type": "markdown",
      "metadata": {
        "id": "lxBxxzQCsi6t",
        "colab_type": "text"
      },
      "source": [
        "***Cython -***\n",
        "The application of Cython is straightforward as well. A plain Cython\n",
        "version without type declarations already speeds up the code significantly:"
      ]
    },
    {
      "cell_type": "code",
      "metadata": {
        "id": "XcYG08ptsIjh",
        "colab_type": "code",
        "colab": {}
      },
      "source": [
        "%%cython\n",
        "def is_prime_cy1(I):\n",
        "    if I % 2 == 0: return False\n",
        "    for i in range(3, int(I ** 0.5) + 1, 2):\n",
        "        if I % i == 0: return False\n",
        "    return True\n"
      ],
      "execution_count": 28,
      "outputs": []
    },
    {
      "cell_type": "code",
      "metadata": {
        "id": "WPGcXjKfs1pz",
        "colab_type": "code",
        "colab": {
          "base_uri": "https://localhost:8080/",
          "height": 34
        },
        "outputId": "14abde42-4c77-4adb-979a-55ddaee64c4f"
      },
      "source": [
        "%timeit is_prime_cy1(p1)"
      ],
      "execution_count": 29,
      "outputs": [
        {
          "output_type": "stream",
          "text": [
            "1000 loops, best of 3: 243 µs per loop\n"
          ],
          "name": "stdout"
        }
      ]
    },
    {
      "cell_type": "markdown",
      "metadata": {
        "id": "NP_lBEjKtNv6",
        "colab_type": "text"
      },
      "source": [
        "However, real improvements only materialize with the static type\n",
        "declarations. The Cython version then even is slightly faster than the Numba\n",
        "one:"
      ]
    },
    {
      "cell_type": "code",
      "metadata": {
        "id": "zh77xpRUtE8P",
        "colab_type": "code",
        "colab": {}
      },
      "source": [
        "%%cython\n",
        "def is_prime_cy2(long I):\n",
        "    cdef long i\n",
        "    if I % 2 == 0: return False\n",
        "    for i in range(3, int(I ** 0.5) + 1, 2):\n",
        "        if I % i == 0: return False\n",
        "    return True"
      ],
      "execution_count": 30,
      "outputs": []
    },
    {
      "cell_type": "code",
      "metadata": {
        "id": "t9KoCJIgtT3i",
        "colab_type": "code",
        "colab": {
          "base_uri": "https://localhost:8080/",
          "height": 34
        },
        "outputId": "75ce33b1-6885-4216-be2c-72e126886cbc"
      },
      "source": [
        "%timeit is_prime_cy2(p1)"
      ],
      "execution_count": 31,
      "outputs": [
        {
          "output_type": "stream",
          "text": [
            "10000 loops, best of 3: 56.4 µs per loop\n"
          ],
          "name": "stdout"
        }
      ]
    },
    {
      "cell_type": "code",
      "metadata": {
        "id": "kEjcBcpLtWY7",
        "colab_type": "code",
        "colab": {
          "base_uri": "https://localhost:8080/",
          "height": 69
        },
        "outputId": "5f239140-28b3-44b3-9697-986a1813d68d"
      },
      "source": [
        "%time is_prime_nb(p2)"
      ],
      "execution_count": 32,
      "outputs": [
        {
          "output_type": "stream",
          "text": [
            "CPU times: user 11 µs, sys: 0 ns, total: 11 µs\n",
            "Wall time: 14.5 µs\n"
          ],
          "name": "stdout"
        },
        {
          "output_type": "execute_result",
          "data": {
            "text/plain": [
              "True"
            ]
          },
          "metadata": {
            "tags": []
          },
          "execution_count": 32
        }
      ]
    },
    {
      "cell_type": "code",
      "metadata": {
        "id": "CX3aluuEtX9L",
        "colab_type": "code",
        "colab": {
          "base_uri": "https://localhost:8080/",
          "height": 69
        },
        "outputId": "f1772f8d-5328-4284-fa01-daee06398bd6"
      },
      "source": [
        "%time is_prime_cy2(p2)"
      ],
      "execution_count": 33,
      "outputs": [
        {
          "output_type": "stream",
          "text": [
            "CPU times: user 1.81 s, sys: 2.79 ms, total: 1.82 s\n",
            "Wall time: 1.81 s\n"
          ],
          "name": "stdout"
        },
        {
          "output_type": "execute_result",
          "data": {
            "text/plain": [
              "True"
            ]
          },
          "metadata": {
            "tags": []
          },
          "execution_count": 33
        }
      ]
    },
    {
      "cell_type": "markdown",
      "metadata": {
        "id": "Civ4OVufevI0",
        "colab_type": "text"
      },
      "source": [
        "The ***multiprocessing***\n",
        "module can help speed up the code execution further. It allows one to\n",
        "spawn multiple Python processes that run in parallel. The application is\n",
        "straightforward in the simple case at hand. First, an ***mp.Pool object*** is set up\n",
        "with multiple processes. Second, the function to be executed is mapped to\n",
        "the prime numbers to be checked"
      ]
    },
    {
      "cell_type": "code",
      "metadata": {
        "id": "TvtmrEtPtZTF",
        "colab_type": "code",
        "colab": {}
      },
      "source": [
        "import multiprocessing as mp\n",
        "#The mp.Pool object is instantiated with multiple processes.\n",
        "pool = mp.Pool(processes = 4)"
      ],
      "execution_count": 34,
      "outputs": []
    },
    {
      "cell_type": "code",
      "metadata": {
        "id": "twcKCyE4e97j",
        "colab_type": "code",
        "colab": {
          "base_uri": "https://localhost:8080/",
          "height": 69
        },
        "outputId": "2ef44f08-e5d3-4a3e-fa46-96e679bdd77a"
      },
      "source": [
        "#Then the respective function is mapped to a list object with prime numbers.\n",
        "%time pool.map(is_prime, 10 * [p1])"
      ],
      "execution_count": 35,
      "outputs": [
        {
          "output_type": "stream",
          "text": [
            "CPU times: user 1.94 ms, sys: 0 ns, total: 1.94 ms\n",
            "Wall time: 3.11 ms\n"
          ],
          "name": "stdout"
        },
        {
          "output_type": "execute_result",
          "data": {
            "text/plain": [
              "[True, True, True, True, True, True, True, True, True, True]"
            ]
          },
          "metadata": {
            "tags": []
          },
          "execution_count": 35
        }
      ]
    },
    {
      "cell_type": "code",
      "metadata": {
        "id": "9uMZ-w4OfIWJ",
        "colab_type": "code",
        "colab": {
          "base_uri": "https://localhost:8080/",
          "height": 69
        },
        "outputId": "5c4f72f8-1761-4912-8ea7-d8050e1b038b"
      },
      "source": [
        "%time pool.map(is_prime_nb, 10 * [p2])"
      ],
      "execution_count": 36,
      "outputs": [
        {
          "output_type": "stream",
          "text": [
            "CPU times: user 5.93 ms, sys: 2.01 ms, total: 7.94 ms\n",
            "Wall time: 768 ms\n"
          ],
          "name": "stdout"
        },
        {
          "output_type": "execute_result",
          "data": {
            "text/plain": [
              "[True, True, True, True, True, True, True, True, True, True]"
            ]
          },
          "metadata": {
            "tags": []
          },
          "execution_count": 36
        }
      ]
    },
    {
      "cell_type": "code",
      "metadata": {
        "id": "lYkN2wr0fYF7",
        "colab_type": "code",
        "colab": {
          "base_uri": "https://localhost:8080/",
          "height": 69
        },
        "outputId": "3039e9cc-5edb-48c0-e5e2-b614ad216f9e"
      },
      "source": [
        "%time pool.map(is_prime_cy2, 10 * [p2])"
      ],
      "execution_count": 37,
      "outputs": [
        {
          "output_type": "stream",
          "text": [
            "CPU times: user 16.3 ms, sys: 715 µs, total: 17 ms\n",
            "Wall time: 13.8 s\n"
          ],
          "name": "stdout"
        },
        {
          "output_type": "execute_result",
          "data": {
            "text/plain": [
              "[True, True, True, True, True, True, True, True, True, True]"
            ]
          },
          "metadata": {
            "tags": []
          },
          "execution_count": 37
        }
      ]
    },
    {
      "cell_type": "markdown",
      "metadata": {
        "id": "i2nByVNFfo6j",
        "colab_type": "text"
      },
      "source": [
        "The observed speedup is significant. The Python function is_prime() takes\n",
        "more than 20 seconds for the larger prime number p2 . Both the\n",
        "is_prime_nb() and the is_prime_cy2() functions take less than 10\n",
        "seconds for 10 times the prime number p2 when executed in parallel with\n",
        "four processes."
      ]
    },
    {
      "cell_type": "markdown",
      "metadata": {
        "id": "9oa05qcQgnzj",
        "colab_type": "text"
      },
      "source": [
        "***Fibonacci Numbers -***\n",
        "Recursive algorithm\n",
        "*Similar to regular Python loops, it is known that regular recursive function\n",
        "implementations are relatively slow with Python.* Such functions call\n",
        "themselves potentially a large number of times to come up with the final\n",
        "result. The function fib_rec_py1() presents such an implementation. In\n",
        "this case, Numba does not help at all with speeding up the execution.\n",
        "However, Cython shows significant speedups based on static type\n",
        "declarations only:\n",
        "\n"
      ]
    },
    {
      "cell_type": "code",
      "metadata": {
        "id": "0jLN2ihcfaaq",
        "colab_type": "code",
        "colab": {}
      },
      "source": [
        "def fib_rec_py1(n):\n",
        "    if n < 2:\n",
        "        return n\n",
        "    else: \n",
        "        return fib_rec_py1(n - 1) + fib_rec_py1(n - 2)"
      ],
      "execution_count": 38,
      "outputs": []
    },
    {
      "cell_type": "code",
      "metadata": {
        "id": "RFHZMonYhkQ0",
        "colab_type": "code",
        "colab": {
          "base_uri": "https://localhost:8080/",
          "height": 69
        },
        "outputId": "699fd5a2-82aa-4da4-af8b-2eda45c49eb3"
      },
      "source": [
        "%time fib_rec_py1(35)"
      ],
      "execution_count": 39,
      "outputs": [
        {
          "output_type": "stream",
          "text": [
            "CPU times: user 3.25 s, sys: 9.38 ms, total: 3.26 s\n",
            "Wall time: 3.26 s\n"
          ],
          "name": "stdout"
        },
        {
          "output_type": "execute_result",
          "data": {
            "text/plain": [
              "9227465"
            ]
          },
          "metadata": {
            "tags": []
          },
          "execution_count": 39
        }
      ]
    },
    {
      "cell_type": "code",
      "metadata": {
        "id": "AaYT9KMEhyH7",
        "colab_type": "code",
        "colab": {}
      },
      "source": [
        "%%cython\n",
        "def fib_rec_cy(n):\n",
        "    if n < 2:\n",
        "        return n\n",
        "    else: \n",
        "        return fib_rec_cy(n - 1) + fib_rec_cy(n - 2)"
      ],
      "execution_count": 40,
      "outputs": []
    },
    {
      "cell_type": "code",
      "metadata": {
        "id": "WY6yKFXYiL-o",
        "colab_type": "code",
        "colab": {
          "base_uri": "https://localhost:8080/",
          "height": 69
        },
        "outputId": "214294b0-a476-4c98-cdac-4b3792a49c08"
      },
      "source": [
        "%time fib_rec_cy(35)"
      ],
      "execution_count": 41,
      "outputs": [
        {
          "output_type": "stream",
          "text": [
            "CPU times: user 1.13 s, sys: 1 ms, total: 1.13 s\n",
            "Wall time: 1.13 s\n"
          ],
          "name": "stdout"
        },
        {
          "output_type": "execute_result",
          "data": {
            "text/plain": [
              "9227465"
            ]
          },
          "metadata": {
            "tags": []
          },
          "execution_count": 41
        }
      ]
    },
    {
      "cell_type": "markdown",
      "metadata": {
        "id": "Pevt2WTljbhi",
        "colab_type": "text"
      },
      "source": [
        "The major problem with the recursive algorithm is that intermediate results\n",
        "are not cached but rather recalculated. To avoid this particular problem, a\n",
        "decorator can be used that takes care of the ***caching of intermediate results.***\n",
        "This speeds up the execution by multiple orders of magnitude:"
      ]
    },
    {
      "cell_type": "code",
      "metadata": {
        "id": "LOct4fLriVFh",
        "colab_type": "code",
        "colab": {}
      },
      "source": [
        "from functools import lru_cache as cache\n",
        "#Caching intermediate results\n",
        "@cache(maxsize = None)\n",
        "def fib_rec_py2(n):\n",
        "    if n < 2:\n",
        "        return n\n",
        "    else:\n",
        "        return fib_rec_py2(n - 1) + fib_rec_py2(n - 2)"
      ],
      "execution_count": 42,
      "outputs": []
    },
    {
      "cell_type": "markdown",
      "metadata": {
        "id": "y9H_t1qsj_Jm",
        "colab_type": "text"
      },
      "source": [
        "Leads to tremendous speedups in this case."
      ]
    },
    {
      "cell_type": "code",
      "metadata": {
        "id": "0y5I5teAj5UC",
        "colab_type": "code",
        "colab": {
          "base_uri": "https://localhost:8080/",
          "height": 69
        },
        "outputId": "c53ba1cd-53a7-4ed3-a207-166c5b3ea30b"
      },
      "source": [
        "%time fib_rec_py2(35)"
      ],
      "execution_count": 43,
      "outputs": [
        {
          "output_type": "stream",
          "text": [
            "CPU times: user 52 µs, sys: 2 µs, total: 54 µs\n",
            "Wall time: 57.5 µs\n"
          ],
          "name": "stdout"
        },
        {
          "output_type": "execute_result",
          "data": {
            "text/plain": [
              "9227465"
            ]
          },
          "metadata": {
            "tags": []
          },
          "execution_count": 43
        }
      ]
    },
    {
      "cell_type": "code",
      "metadata": {
        "id": "6bH2HD7DkD8x",
        "colab_type": "code",
        "colab": {
          "base_uri": "https://localhost:8080/",
          "height": 69
        },
        "outputId": "6c008d9d-b647-4416-8231-d2724206d386"
      },
      "source": [
        "%time fib_rec_py2(80)"
      ],
      "execution_count": 44,
      "outputs": [
        {
          "output_type": "stream",
          "text": [
            "CPU times: user 60 µs, sys: 2 µs, total: 62 µs\n",
            "Wall time: 67.2 µs\n"
          ],
          "name": "stdout"
        },
        {
          "output_type": "execute_result",
          "data": {
            "text/plain": [
              "23416728348467685"
            ]
          },
          "metadata": {
            "tags": []
          },
          "execution_count": 44
        }
      ]
    },
    {
      "cell_type": "markdown",
      "metadata": {
        "id": "Az0UKARckbyk",
        "colab_type": "text"
      },
      "source": [
        "Iterative algorithm : \n",
        "Although the algorithm to calculate the nth Fibonacci number can be\n",
        "implemented recursively, it doesn’t have to be. The following presents an\n",
        "***iterative implementation which is even in pure Python faster than the\n",
        "cached variant of the recursive implementation.*** This is also the terrain\n",
        "where Numba leads to further improvements. However, the Cython version\n",
        "comes out as the winner:"
      ]
    },
    {
      "cell_type": "code",
      "metadata": {
        "id": "xLh21K1rkTo8",
        "colab_type": "code",
        "colab": {}
      },
      "source": [
        "def fib_it_py(n):\n",
        "    x, y = 0, 1\n",
        "    for i in range(1, n + 1):\n",
        "        x, y = y, x + y\n",
        "    return x"
      ],
      "execution_count": 45,
      "outputs": []
    },
    {
      "cell_type": "code",
      "metadata": {
        "id": "-3xEscFQk2GB",
        "colab_type": "code",
        "colab": {
          "base_uri": "https://localhost:8080/",
          "height": 69
        },
        "outputId": "2daa735f-d289-4071-8d6c-232fdabcb5ea"
      },
      "source": [
        "%time fib_it_py(80)"
      ],
      "execution_count": 46,
      "outputs": [
        {
          "output_type": "stream",
          "text": [
            "CPU times: user 15 µs, sys: 1e+03 ns, total: 16 µs\n",
            "Wall time: 19.3 µs\n"
          ],
          "name": "stdout"
        },
        {
          "output_type": "execute_result",
          "data": {
            "text/plain": [
              "23416728348467685"
            ]
          },
          "metadata": {
            "tags": []
          },
          "execution_count": 46
        }
      ]
    },
    {
      "cell_type": "code",
      "metadata": {
        "id": "sRSnbiUkk4vt",
        "colab_type": "code",
        "colab": {
          "base_uri": "https://localhost:8080/",
          "height": 69
        },
        "outputId": "49d372b6-408d-4da4-cbb2-5f0b911e7b0f"
      },
      "source": [
        "fib_it_nb = numba.jit(fib_it_py)\n",
        "%time fib_it_nb(80)"
      ],
      "execution_count": 47,
      "outputs": [
        {
          "output_type": "stream",
          "text": [
            "CPU times: user 170 ms, sys: 13 ms, total: 183 ms\n",
            "Wall time: 191 ms\n"
          ],
          "name": "stdout"
        },
        {
          "output_type": "execute_result",
          "data": {
            "text/plain": [
              "23416728348467685"
            ]
          },
          "metadata": {
            "tags": []
          },
          "execution_count": 47
        }
      ]
    },
    {
      "cell_type": "code",
      "metadata": {
        "id": "Y-1t40cElF1s",
        "colab_type": "code",
        "colab": {
          "base_uri": "https://localhost:8080/",
          "height": 69
        },
        "outputId": "2bc3a2a6-8694-4211-fe81-ce795136eaf9"
      },
      "source": [
        "%time fib_it_nb(80)"
      ],
      "execution_count": 48,
      "outputs": [
        {
          "output_type": "stream",
          "text": [
            "CPU times: user 8 µs, sys: 0 ns, total: 8 µs\n",
            "Wall time: 11.9 µs\n"
          ],
          "name": "stdout"
        },
        {
          "output_type": "execute_result",
          "data": {
            "text/plain": [
              "23416728348467685"
            ]
          },
          "metadata": {
            "tags": []
          },
          "execution_count": 48
        }
      ]
    },
    {
      "cell_type": "code",
      "metadata": {
        "id": "K0NtQpVjlQCH",
        "colab_type": "code",
        "colab": {}
      },
      "source": [
        "%%cython\n",
        "def fib_it_cy1(int n):\n",
        "    cdef long i\n",
        "    cdef long x = 0, y = 1\n",
        "    for i in range(1, n + 1):\n",
        "        x, y = x, x + y\n",
        "    return x"
      ],
      "execution_count": 49,
      "outputs": []
    },
    {
      "cell_type": "code",
      "metadata": {
        "id": "Jirl_dH1mblE",
        "colab_type": "code",
        "colab": {
          "base_uri": "https://localhost:8080/",
          "height": 69
        },
        "outputId": "1b26d5be-23a8-47c2-9446-86392de203db"
      },
      "source": [
        "%time fib_it_cy1(80)"
      ],
      "execution_count": 50,
      "outputs": [
        {
          "output_type": "stream",
          "text": [
            "CPU times: user 6 µs, sys: 0 ns, total: 6 µs\n",
            "Wall time: 8.34 µs\n"
          ],
          "name": "stdout"
        },
        {
          "output_type": "execute_result",
          "data": {
            "text/plain": [
              "0"
            ]
          },
          "metadata": {
            "tags": []
          },
          "execution_count": 50
        }
      ]
    },
    {
      "cell_type": "markdown",
      "metadata": {
        "id": "bvCH6WeamoOm",
        "colab_type": "text"
      },
      "source": [
        "Now that everything is so fast, one might wonder why we’re just\n",
        "calculating the 80th Fibonacci number and not the 150th, for instance. The\n",
        "problem is with the available data types. ***While Python can basically handle\n",
        "arbitrarily large numbers (see “Basic Data Types”), this is not true in\n",
        "general for the compiled languages. With Cython one can, however, rely on\n",
        "a special data type to allow for numbers larger than the double float object\n",
        "with 64 bits allows for***:"
      ]
    },
    {
      "cell_type": "code",
      "metadata": {
        "id": "FiW4vBRzmfEX",
        "colab_type": "code",
        "colab": {
          "base_uri": "https://localhost:8080/",
          "height": 69
        },
        "outputId": "28286ac6-9c2c-43ac-fb1c-bcd4398e3fa3"
      },
      "source": [
        "%%time\n",
        "#The Python version is fast and correct.\n",
        "fn = fib_rec_py2(150)\n",
        "print (fn)"
      ],
      "execution_count": 51,
      "outputs": [
        {
          "output_type": "stream",
          "text": [
            "9969216677189303386214405760200\n",
            "CPU times: user 233 µs, sys: 0 ns, total: 233 µs\n",
            "Wall time: 211 µs\n"
          ],
          "name": "stdout"
        }
      ]
    },
    {
      "cell_type": "code",
      "metadata": {
        "id": "MdrrVHHfnoNH",
        "colab_type": "code",
        "colab": {
          "base_uri": "https://localhost:8080/",
          "height": 34
        },
        "outputId": "42013664-33f8-49b2-cadc-138b85329e0f"
      },
      "source": [
        "fn.bit_length()"
      ],
      "execution_count": 52,
      "outputs": [
        {
          "output_type": "execute_result",
          "data": {
            "text/plain": [
              "103"
            ]
          },
          "metadata": {
            "tags": []
          },
          "execution_count": 52
        }
      ]
    },
    {
      "cell_type": "code",
      "metadata": {
        "id": "nQRBu3mOnrDs",
        "colab_type": "code",
        "colab": {
          "base_uri": "https://localhost:8080/",
          "height": 69
        },
        "outputId": "ebbd4f03-07a9-4d6a-9858-0e31cd3c3590"
      },
      "source": [
        "%%time \n",
        "#The Numba and Cython versions are faster but incorrect.\n",
        "fn = fib_it_nb(150)\n",
        "print (fn)"
      ],
      "execution_count": 53,
      "outputs": [
        {
          "output_type": "stream",
          "text": [
            "6792540214324356296\n",
            "CPU times: user 162 µs, sys: 7 µs, total: 169 µs\n",
            "Wall time: 126 µs\n"
          ],
          "name": "stdout"
        }
      ]
    },
    {
      "cell_type": "code",
      "metadata": {
        "id": "qXYAivYmo50C",
        "colab_type": "code",
        "colab": {
          "base_uri": "https://localhost:8080/",
          "height": 69
        },
        "outputId": "3650d94f-da8a-4924-f61c-983be8760099"
      },
      "source": [
        "%time fib_it_nb(150)"
      ],
      "execution_count": 54,
      "outputs": [
        {
          "output_type": "stream",
          "text": [
            "CPU times: user 11 µs, sys: 0 ns, total: 11 µs\n",
            "Wall time: 15.5 µs\n"
          ],
          "name": "stdout"
        },
        {
          "output_type": "execute_result",
          "data": {
            "text/plain": [
              "6792540214324356296"
            ]
          },
          "metadata": {
            "tags": []
          },
          "execution_count": 54
        }
      ]
    },
    {
      "cell_type": "code",
      "metadata": {
        "id": "4HG683NUn2rr",
        "colab_type": "code",
        "colab": {
          "base_uri": "https://localhost:8080/",
          "height": 34
        },
        "outputId": "74ffc105-8e92-4427-9127-1dc5c1d26366"
      },
      "source": [
        "#They suffer from an overflow issue due to the restriction to 64-bit int objects.\n",
        "fn.bit_length()"
      ],
      "execution_count": 55,
      "outputs": [
        {
          "output_type": "execute_result",
          "data": {
            "text/plain": [
              "63"
            ]
          },
          "metadata": {
            "tags": []
          },
          "execution_count": 55
        }
      ]
    },
    {
      "cell_type": "code",
      "metadata": {
        "id": "kEjsJUuAoBmZ",
        "colab_type": "code",
        "colab": {
          "base_uri": "https://localhost:8080/",
          "height": 69
        },
        "outputId": "b90e475a-aca6-4dd0-c317-f7a06db208c6"
      },
      "source": [
        "%%time \n",
        "fn = fib_it_cy1(150)\n",
        "print (fn)"
      ],
      "execution_count": 56,
      "outputs": [
        {
          "output_type": "stream",
          "text": [
            "0\n",
            "CPU times: user 596 µs, sys: 0 ns, total: 596 µs\n",
            "Wall time: 605 µs\n"
          ],
          "name": "stdout"
        }
      ]
    },
    {
      "cell_type": "code",
      "metadata": {
        "id": "RTRbPvVnoJ-i",
        "colab_type": "code",
        "colab": {
          "base_uri": "https://localhost:8080/",
          "height": 34
        },
        "outputId": "12270988-20d2-423a-fd29-25af84229786"
      },
      "source": [
        "fn.bit_length()"
      ],
      "execution_count": 57,
      "outputs": [
        {
          "output_type": "execute_result",
          "data": {
            "text/plain": [
              "0"
            ]
          },
          "metadata": {
            "tags": []
          },
          "execution_count": 57
        }
      ]
    },
    {
      "cell_type": "code",
      "metadata": {
        "id": "DG_fHIHlsMxj",
        "colab_type": "code",
        "colab": {}
      },
      "source": [
        "%%cython\n",
        "cdef extern from *:\n",
        "#Imports the special 128-bit int object type and uses it.\n",
        "    ctypedef int int128 '__int128_t'\n",
        "def fib_it_cy2(int n):\n",
        "    cdef int128 i\n",
        "    cdef int128 x = 0, y = 1\n",
        "    for i in range(1, n + 1):\n",
        "        x, y = y, x + y\n",
        "    return x    "
      ],
      "execution_count": 58,
      "outputs": []
    },
    {
      "cell_type": "code",
      "metadata": {
        "id": "_6TjVlDhv1wz",
        "colab_type": "code",
        "colab": {
          "base_uri": "https://localhost:8080/",
          "height": 69
        },
        "outputId": "74183a0b-ff44-4053-f4b5-f493797f6b9f"
      },
      "source": [
        "%%time\n",
        "fn = fib_it_cy2(150)\n",
        "print(fn)"
      ],
      "execution_count": 59,
      "outputs": [
        {
          "output_type": "stream",
          "text": [
            "9969216677189303386214405760200\n",
            "CPU times: user 99 µs, sys: 5 µs, total: 104 µs\n",
            "Wall time: 109 µs\n"
          ],
          "name": "stdout"
        }
      ]
    },
    {
      "cell_type": "markdown",
      "metadata": {
        "id": "NYjKoquRwDqD",
        "colab_type": "text"
      },
      "source": [
        "***Monte Carlo simulation –***\n",
        "based algorithm to derive digits for the number pi (π). The idea of the\n",
        "algorithm is to simulate random points with coordinate values (x, y), with x,\n",
        "y ∈ [–1, 1]. The area of an origin-centered square with side length of 2 is\n",
        "exactly 4. The area of the origin-centered unit circle is a fraction of the area\n",
        "of such a square. This fraction can be estimated by Monte Carlo simulation:\n",
        "count all the points in the square, then count all the points in the circle, and\n",
        "divide the number of points in the circle by the number of points in the\n",
        "square."
      ]
    },
    {
      "cell_type": "code",
      "metadata": {
        "id": "2Tn1wVy2v6l6",
        "colab_type": "code",
        "colab": {}
      },
      "source": [
        "import random\n",
        "import numpy as np\n",
        "from pylab import mpl, plt\n",
        "plt.style.use('seaborn')\n",
        "mpl.rcParams['font.family'] = 'serif'\n",
        "%matplotlib inline"
      ],
      "execution_count": 60,
      "outputs": []
    },
    {
      "cell_type": "code",
      "metadata": {
        "id": "WutTpbOUwoHd",
        "colab_type": "code",
        "colab": {
          "base_uri": "https://localhost:8080/",
          "height": 86
        },
        "outputId": "4225cf3c-ad01-465a-8d4f-c3852a1a6df3"
      },
      "source": [
        "rn = [(random.random() * 2 - 1, random.random() * 2 - 1) for _ in range(500)]\n",
        "rn = np.array(rn)\n",
        "rn[:4]"
      ],
      "execution_count": 61,
      "outputs": [
        {
          "output_type": "execute_result",
          "data": {
            "text/plain": [
              "array([[-0.85376096,  0.28974818],\n",
              "       [-0.0023339 ,  0.08359993],\n",
              "       [ 0.52325537,  0.92672948],\n",
              "       [ 0.49843649, -0.15115421]])"
            ]
          },
          "metadata": {
            "tags": []
          },
          "execution_count": 61
        }
      ]
    },
    {
      "cell_type": "code",
      "metadata": {
        "id": "w6oZsPd2xBTk",
        "colab_type": "code",
        "colab": {
          "base_uri": "https://localhost:8080/",
          "height": 444
        },
        "outputId": "d1dc18a8-351a-418b-8c86-f887fe6c6603"
      },
      "source": [
        "fig = plt.figure(figsize = (7, 7))\n",
        "ax = fig.add_subplot(1, 1, 1)\n",
        "circ = plt.Circle((0, 0), radius = 1, edgecolor = 'g', lw = '2.0', facecolor = 'None')\n",
        "box = plt.Rectangle((-1, -1), 2, 2, edgecolor = 'b', alpha = 0.3)\n",
        "ax.add_patch(circ)\n",
        "ax.add_patch(box)\n",
        "plt.plot(rn[:, 0], rn[:, 1], 'r.')\n",
        "plt.ylim(-1.1, 1.1)\n",
        "plt.xlim(-1.1, 1.1)"
      ],
      "execution_count": 62,
      "outputs": [
        {
          "output_type": "execute_result",
          "data": {
            "text/plain": [
              "(-1.1, 1.1)"
            ]
          },
          "metadata": {
            "tags": []
          },
          "execution_count": 62
        },
        {
          "output_type": "display_data",
          "data": {
            "image/png": "[encoded data removed]",
            "text/plain": [
              "<Figure size 504x504 with 1 Axes>"
            ]
          },
          "metadata": {
            "tags": [],
            "needs_background": "light"
          }
        }
      ]
    },
    {
      "cell_type": "markdown",
      "metadata": {
        "id": "GjwTimhvydvw",
        "colab_type": "text"
      },
      "source": [
        "A ***NumPy implementation*** of this algorithm is rather concise but also memory-\n",
        "intensive. Total execution time given the parameterization is about one\n",
        "second:"
      ]
    },
    {
      "cell_type": "code",
      "metadata": {
        "id": "18VZU9HgyFzH",
        "colab_type": "code",
        "colab": {
          "base_uri": "https://localhost:8080/",
          "height": 52
        },
        "outputId": "58414ed0-9786-4bfc-9673-ab8cf419b8ef"
      },
      "source": [
        "n = int(1e7)\n",
        "%time rn = np.random.random((n, 2)) * 2 - 1"
      ],
      "execution_count": 63,
      "outputs": [
        {
          "output_type": "stream",
          "text": [
            "CPU times: user 231 ms, sys: 114 ms, total: 345 ms\n",
            "Wall time: 354 ms\n"
          ],
          "name": "stdout"
        }
      ]
    },
    {
      "cell_type": "code",
      "metadata": {
        "id": "_kPOqXaw08QL",
        "colab_type": "code",
        "colab": {
          "base_uri": "https://localhost:8080/",
          "height": 34
        },
        "outputId": "528cee47-e7f6-4a25-95a5-97425cb7b916"
      },
      "source": [
        "rn.nbytes"
      ],
      "execution_count": 64,
      "outputs": [
        {
          "output_type": "execute_result",
          "data": {
            "text/plain": [
              "160000000"
            ]
          },
          "metadata": {
            "tags": []
          },
          "execution_count": 64
        }
      ]
    },
    {
      "cell_type": "code",
      "metadata": {
        "id": "Px6czRiH0920",
        "colab_type": "code",
        "colab": {
          "base_uri": "https://localhost:8080/",
          "height": 69
        },
        "outputId": "83e0d7b7-38b7-4c4b-d657-5d76b714017b"
      },
      "source": [
        "%time distance = np.sqrt((rn ** 2).sum(axis = 1))\n",
        "distance[:8].round(3)"
      ],
      "execution_count": 65,
      "outputs": [
        {
          "output_type": "stream",
          "text": [
            "CPU times: user 192 ms, sys: 123 ms, total: 315 ms\n",
            "Wall time: 322 ms\n"
          ],
          "name": "stdout"
        },
        {
          "output_type": "execute_result",
          "data": {
            "text/plain": [
              "array([0.877, 0.614, 0.296, 0.744, 0.994, 1.09 , 1.106, 1.224])"
            ]
          },
          "metadata": {
            "tags": []
          },
          "execution_count": 65
        }
      ]
    },
    {
      "cell_type": "code",
      "metadata": {
        "id": "2bUwW8c51SGd",
        "colab_type": "code",
        "colab": {
          "base_uri": "https://localhost:8080/",
          "height": 52
        },
        "outputId": "0383a65c-b3ec-4aec-c3c1-cc4bcd3c9a87"
      },
      "source": [
        "%time frac = (distance <= 1.0).sum() / len(distance)"
      ],
      "execution_count": 66,
      "outputs": [
        {
          "output_type": "stream",
          "text": [
            "CPU times: user 22.5 ms, sys: 22 µs, total: 22.5 ms\n",
            "Wall time: 23.6 ms\n"
          ],
          "name": "stdout"
        }
      ]
    },
    {
      "cell_type": "code",
      "metadata": {
        "id": "-nu9lcdA1pX4",
        "colab_type": "code",
        "colab": {
          "base_uri": "https://localhost:8080/",
          "height": 34
        },
        "outputId": "7ab6af31-bab4-4bbc-b9cf-5b212f09de28"
      },
      "source": [
        "pi_mcs = frac * 4\n",
        "pi_mcs"
      ],
      "execution_count": 67,
      "outputs": [
        {
          "output_type": "execute_result",
          "data": {
            "text/plain": [
              "3.1431036"
            ]
          },
          "metadata": {
            "tags": []
          },
          "execution_count": 67
        }
      ]
    },
    {
      "cell_type": "markdown",
      "metadata": {
        "id": "MldVs8mZ13e1",
        "colab_type": "text"
      },
      "source": [
        "Python function using a for loop and implementing the\n",
        "Monte Carlo simulation in a memory-efficient manner. Note that the random\n",
        "numbers are not scaled in this case. The execution time is longer than with\n",
        "the NumPy version, but the Numba version is faster than NumPy in this case:"
      ]
    },
    {
      "cell_type": "code",
      "metadata": {
        "id": "5yRmVkZP1uW3",
        "colab_type": "code",
        "colab": {}
      },
      "source": [
        "def mcs_pi_py(n):\n",
        "    circle = 0\n",
        "    for _ in range(n):\n",
        "        x, y = random.random(), random.random()\n",
        "        if (x ** 2 + y ** 2) ** 0.5 <= 1:\n",
        "            circle += 1\n",
        "    return (4 * circle) / n"
      ],
      "execution_count": 68,
      "outputs": []
    },
    {
      "cell_type": "code",
      "metadata": {
        "id": "i1_2p9AR4Esg",
        "colab_type": "code",
        "colab": {
          "base_uri": "https://localhost:8080/",
          "height": 69
        },
        "outputId": "cef9a039-7d27-4ee3-c8b0-8496d75870d1"
      },
      "source": [
        "%time mcs_pi_py(n)"
      ],
      "execution_count": 69,
      "outputs": [
        {
          "output_type": "stream",
          "text": [
            "CPU times: user 5.34 s, sys: 7.12 ms, total: 5.35 s\n",
            "Wall time: 5.36 s\n"
          ],
          "name": "stdout"
        },
        {
          "output_type": "execute_result",
          "data": {
            "text/plain": [
              "3.1412316"
            ]
          },
          "metadata": {
            "tags": []
          },
          "execution_count": 69
        }
      ]
    },
    {
      "cell_type": "code",
      "metadata": {
        "id": "LHXRfkpi4VwA",
        "colab_type": "code",
        "colab": {
          "base_uri": "https://localhost:8080/",
          "height": 69
        },
        "outputId": "7107fc24-aa12-4a0a-c9b3-6b1598439154"
      },
      "source": [
        "mcs_pi_np = numba.jit(mcs_pi_py)\n",
        "%time mcs_pi_np(n)"
      ],
      "execution_count": 70,
      "outputs": [
        {
          "output_type": "stream",
          "text": [
            "CPU times: user 362 ms, sys: 5.08 ms, total: 367 ms\n",
            "Wall time: 371 ms\n"
          ],
          "name": "stdout"
        },
        {
          "output_type": "execute_result",
          "data": {
            "text/plain": [
              "3.1418464"
            ]
          },
          "metadata": {
            "tags": []
          },
          "execution_count": 70
        }
      ]
    },
    {
      "cell_type": "code",
      "metadata": {
        "id": "71XFGOpV4f67",
        "colab_type": "code",
        "colab": {
          "base_uri": "https://localhost:8080/",
          "height": 69
        },
        "outputId": "45bb4539-877b-4fef-ff8b-1477fecad97b"
      },
      "source": [
        "%time mcs_pi_np(n)"
      ],
      "execution_count": 71,
      "outputs": [
        {
          "output_type": "stream",
          "text": [
            "CPU times: user 153 ms, sys: 0 ns, total: 153 ms\n",
            "Wall time: 159 ms\n"
          ],
          "name": "stdout"
        },
        {
          "output_type": "execute_result",
          "data": {
            "text/plain": [
              "3.1417852"
            ]
          },
          "metadata": {
            "tags": []
          },
          "execution_count": 71
        }
      ]
    },
    {
      "cell_type": "markdown",
      "metadata": {
        "id": "puHd6iva4uSA",
        "colab_type": "text"
      },
      "source": [
        "A plain Cython version with static type declarations only does not perform\n",
        "that much faster than the Python version. However, relying again on the\n",
        "random number generation capabilities of C further speeds up the calculation\n",
        "considerably:"
      ]
    },
    {
      "cell_type": "code",
      "metadata": {
        "id": "Tpdwc_Lu4kCn",
        "colab_type": "code",
        "colab": {
          "base_uri": "https://localhost:8080/",
          "height": 243
        },
        "outputId": "3713357f-8f0a-4426-8063-bef4d943cc2a"
      },
      "source": [
        "%%cython -a\n",
        "import random\n",
        "def mcs_pi_cy1(int n):\n",
        "    cdef int i, circle = 0\n",
        "    cdef float x, y\n",
        "    for i in range(n):\n",
        "        x, y = random.random(), random.random()\n",
        "        if (x ** 2 + y ** 2) ** 0.5 <= 1:\n",
        "            circle += 1\n",
        "        return (4 * circle) / n"
      ],
      "execution_count": 72,
      "outputs": [
        {
          "output_type": "execute_result",
          "data": {
            "text/html": [
              "<!DOCTYPE html>\n",
              "<!-- Generated by Cython 0.29.21 -->\n",
              "<html>\n",
              "<head>\n",
              "    <meta http-equiv=\"Content-Type\" content=\"text/html; charset=utf-8\" />\n",
              "    <title>Cython: _cython_magic_7685416966ebce70ea6d0057aa0455f6.pyx</title>\n",
              "    <style type=\"text/css\">\n",
              "    \n",
              "body.cython { font-family: courier; font-size: 12; }\n",
              "\n",
              ".cython.tag  {  }\n",
              ".cython.line { margin: 0em }\n",
              ".cython.code { font-size: 9; color: #444444; display: none; margin: 0px 0px 0px 8px; border-left: 8px none; }\n",
              "\n",
              ".cython.line .run { background-color: #B0FFB0; }\n",
              ".cython.line .mis { background-color: #FFB0B0; }\n",
              ".cython.code.run  { border-left: 8px solid #B0FFB0; }\n",
              ".cython.code.mis  { border-left: 8px solid #FFB0B0; }\n",
              "\n",
              ".cython.code .py_c_api  { color: red; }\n",
              ".cython.code .py_macro_api  { color: #FF7000; }\n",
              ".cython.code .pyx_c_api  { color: #FF3000; }\n",
              ".cython.code .pyx_macro_api  { color: #FF7000; }\n",
              ".cython.code .refnanny  { color: #FFA000; }\n",
              ".cython.code .trace  { color: #FFA000; }\n",
              ".cython.code .error_goto  { color: #FFA000; }\n",
              "\n",
              ".cython.code .coerce  { color: #008000; border: 1px dotted #008000 }\n",
              ".cython.code .py_attr { color: #FF0000; font-weight: bold; }\n",
              ".cython.code .c_attr  { color: #0000FF; }\n",
              ".cython.code .py_call { color: #FF0000; font-weight: bold; }\n",
              ".cython.code .c_call  { color: #0000FF; }\n",
              "\n",
              ".cython.score-0 {background-color: #FFFFff;}\n",
              ".cython.score-1 {background-color: #FFFFe7;}\n",
              ".cython.score-2 {background-color: #FFFFd4;}\n",
              ".cython.score-3 {background-color: #FFFFc4;}\n",
              ".cython.score-4 {background-color: #FFFFb6;}\n",
              ".cython.score-5 {background-color: #FFFFaa;}\n",
              ".cython.score-6 {background-color: #FFFF9f;}\n",
              ".cython.score-7 {background-color: #FFFF96;}\n",
              ".cython.score-8 {background-color: #FFFF8d;}\n",
              ".cython.score-9 {background-color: #FFFF86;}\n",
              ".cython.score-10 {background-color: #FFFF7f;}\n",
              ".cython.score-11 {background-color: #FFFF79;}\n",
              ".cython.score-12 {background-color: #FFFF73;}\n",
              ".cython.score-13 {background-color: #FFFF6e;}\n",
              ".cython.score-14 {background-color: #FFFF6a;}\n",
              ".cython.score-15 {background-color: #FFFF66;}\n",
              ".cython.score-16 {background-color: #FFFF62;}\n",
              ".cython.score-17 {background-color: #FFFF5e;}\n",
              ".cython.score-18 {background-color: #FFFF5b;}\n",
              ".cython.score-19 {background-color: #FFFF57;}\n",
              ".cython.score-20 {background-color: #FFFF55;}\n",
              ".cython.score-21 {background-color: #FFFF52;}\n",
              ".cython.score-22 {background-color: #FFFF4f;}\n",
              ".cython.score-23 {background-color: #FFFF4d;}\n",
              ".cython.score-24 {background-color: #FFFF4b;}\n",
              ".cython.score-25 {background-color: #FFFF48;}\n",
              ".cython.score-26 {background-color: #FFFF46;}\n",
              ".cython.score-27 {background-color: #FFFF44;}\n",
              ".cython.score-28 {background-color: #FFFF43;}\n",
              ".cython.score-29 {background-color: #FFFF41;}\n",
              ".cython.score-30 {background-color: #FFFF3f;}\n",
              ".cython.score-31 {background-color: #FFFF3e;}\n",
              ".cython.score-32 {background-color: #FFFF3c;}\n",
              ".cython.score-33 {background-color: #FFFF3b;}\n",
              ".cython.score-34 {background-color: #FFFF39;}\n",
              ".cython.score-35 {background-color: #FFFF38;}\n",
              ".cython.score-36 {background-color: #FFFF37;}\n",
              ".cython.score-37 {background-color: #FFFF36;}\n",
              ".cython.score-38 {background-color: #FFFF35;}\n",
              ".cython.score-39 {background-color: #FFFF34;}\n",
              ".cython.score-40 {background-color: #FFFF33;}\n",
              ".cython.score-41 {background-color: #FFFF32;}\n",
              ".cython.score-42 {background-color: #FFFF31;}\n",
              ".cython.score-43 {background-color: #FFFF30;}\n",
              ".cython.score-44 {background-color: #FFFF2f;}\n",
              ".cython.score-45 {background-color: #FFFF2e;}\n",
              ".cython.score-46 {background-color: #FFFF2d;}\n",
              ".cython.score-47 {background-color: #FFFF2c;}\n",
              ".cython.score-48 {background-color: #FFFF2b;}\n",
              ".cython.score-49 {background-color: #FFFF2b;}\n",
              ".cython.score-50 {background-color: #FFFF2a;}\n",
              ".cython.score-51 {background-color: #FFFF29;}\n",
              ".cython.score-52 {background-color: #FFFF29;}\n",
              ".cython.score-53 {background-color: #FFFF28;}\n",
              ".cython.score-54 {background-color: #FFFF27;}\n",
              ".cython.score-55 {background-color: #FFFF27;}\n",
              ".cython.score-56 {background-color: #FFFF26;}\n",
              ".cython.score-57 {background-color: #FFFF26;}\n",
              ".cython.score-58 {background-color: #FFFF25;}\n",
              ".cython.score-59 {background-color: #FFFF24;}\n",
              ".cython.score-60 {background-color: #FFFF24;}\n",
              ".cython.score-61 {background-color: #FFFF23;}\n",
              ".cython.score-62 {background-color: #FFFF23;}\n",
              ".cython.score-63 {background-color: #FFFF22;}\n",
              ".cython.score-64 {background-color: #FFFF22;}\n",
              ".cython.score-65 {background-color: #FFFF22;}\n",
              ".cython.score-66 {background-color: #FFFF21;}\n",
              ".cython.score-67 {background-color: #FFFF21;}\n",
              ".cython.score-68 {background-color: #FFFF20;}\n",
              ".cython.score-69 {background-color: #FFFF20;}\n",
              ".cython.score-70 {background-color: #FFFF1f;}\n",
              ".cython.score-71 {background-color: #FFFF1f;}\n",
              ".cython.score-72 {background-color: #FFFF1f;}\n",
              ".cython.score-73 {background-color: #FFFF1e;}\n",
              ".cython.score-74 {background-color: #FFFF1e;}\n",
              ".cython.score-75 {background-color: #FFFF1e;}\n",
              ".cython.score-76 {background-color: #FFFF1d;}\n",
              ".cython.score-77 {background-color: #FFFF1d;}\n",
              ".cython.score-78 {background-color: #FFFF1c;}\n",
              ".cython.score-79 {background-color: #FFFF1c;}\n",
              ".cython.score-80 {background-color: #FFFF1c;}\n",
              ".cython.score-81 {background-color: #FFFF1c;}\n",
              ".cython.score-82 {background-color: #FFFF1b;}\n",
              ".cython.score-83 {background-color: #FFFF1b;}\n",
              ".cython.score-84 {background-color: #FFFF1b;}\n",
              ".cython.score-85 {background-color: #FFFF1a;}\n",
              ".cython.score-86 {background-color: #FFFF1a;}\n",
              ".cython.score-87 {background-color: #FFFF1a;}\n",
              ".cython.score-88 {background-color: #FFFF1a;}\n",
              ".cython.score-89 {background-color: #FFFF19;}\n",
              ".cython.score-90 {background-color: #FFFF19;}\n",
              ".cython.score-91 {background-color: #FFFF19;}\n",
              ".cython.score-92 {background-color: #FFFF19;}\n",
              ".cython.score-93 {background-color: #FFFF18;}\n",
              ".cython.score-94 {background-color: #FFFF18;}\n",
              ".cython.score-95 {background-color: #FFFF18;}\n",
              ".cython.score-96 {background-color: #FFFF18;}\n",
              ".cython.score-97 {background-color: #FFFF17;}\n",
              ".cython.score-98 {background-color: #FFFF17;}\n",
              ".cython.score-99 {background-color: #FFFF17;}\n",
              ".cython.score-100 {background-color: #FFFF17;}\n",
              ".cython.score-101 {background-color: #FFFF16;}\n",
              ".cython.score-102 {background-color: #FFFF16;}\n",
              ".cython.score-103 {background-color: #FFFF16;}\n",
              ".cython.score-104 {background-color: #FFFF16;}\n",
              ".cython.score-105 {background-color: #FFFF16;}\n",
              ".cython.score-106 {background-color: #FFFF15;}\n",
              ".cython.score-107 {background-color: #FFFF15;}\n",
              ".cython.score-108 {background-color: #FFFF15;}\n",
              ".cython.score-109 {background-color: #FFFF15;}\n",
              ".cython.score-110 {background-color: #FFFF15;}\n",
              ".cython.score-111 {background-color: #FFFF15;}\n",
              ".cython.score-112 {background-color: #FFFF14;}\n",
              ".cython.score-113 {background-color: #FFFF14;}\n",
              ".cython.score-114 {background-color: #FFFF14;}\n",
              ".cython.score-115 {background-color: #FFFF14;}\n",
              ".cython.score-116 {background-color: #FFFF14;}\n",
              ".cython.score-117 {background-color: #FFFF14;}\n",
              ".cython.score-118 {background-color: #FFFF13;}\n",
              ".cython.score-119 {background-color: #FFFF13;}\n",
              ".cython.score-120 {background-color: #FFFF13;}\n",
              ".cython.score-121 {background-color: #FFFF13;}\n",
              ".cython.score-122 {background-color: #FFFF13;}\n",
              ".cython.score-123 {background-color: #FFFF13;}\n",
              ".cython.score-124 {background-color: #FFFF13;}\n",
              ".cython.score-125 {background-color: #FFFF12;}\n",
              ".cython.score-126 {background-color: #FFFF12;}\n",
              ".cython.score-127 {background-color: #FFFF12;}\n",
              ".cython.score-128 {background-color: #FFFF12;}\n",
              ".cython.score-129 {background-color: #FFFF12;}\n",
              ".cython.score-130 {background-color: #FFFF12;}\n",
              ".cython.score-131 {background-color: #FFFF12;}\n",
              ".cython.score-132 {background-color: #FFFF11;}\n",
              ".cython.score-133 {background-color: #FFFF11;}\n",
              ".cython.score-134 {background-color: #FFFF11;}\n",
              ".cython.score-135 {background-color: #FFFF11;}\n",
              ".cython.score-136 {background-color: #FFFF11;}\n",
              ".cython.score-137 {background-color: #FFFF11;}\n",
              ".cython.score-138 {background-color: #FFFF11;}\n",
              ".cython.score-139 {background-color: #FFFF11;}\n",
              ".cython.score-140 {background-color: #FFFF11;}\n",
              ".cython.score-141 {background-color: #FFFF10;}\n",
              ".cython.score-142 {background-color: #FFFF10;}\n",
              ".cython.score-143 {background-color: #FFFF10;}\n",
              ".cython.score-144 {background-color: #FFFF10;}\n",
              ".cython.score-145 {background-color: #FFFF10;}\n",
              ".cython.score-146 {background-color: #FFFF10;}\n",
              ".cython.score-147 {background-color: #FFFF10;}\n",
              ".cython.score-148 {background-color: #FFFF10;}\n",
              ".cython.score-149 {background-color: #FFFF10;}\n",
              ".cython.score-150 {background-color: #FFFF0f;}\n",
              ".cython.score-151 {background-color: #FFFF0f;}\n",
              ".cython.score-152 {background-color: #FFFF0f;}\n",
              ".cython.score-153 {background-color: #FFFF0f;}\n",
              ".cython.score-154 {background-color: #FFFF0f;}\n",
              ".cython.score-155 {background-color: #FFFF0f;}\n",
              ".cython.score-156 {background-color: #FFFF0f;}\n",
              ".cython.score-157 {background-color: #FFFF0f;}\n",
              ".cython.score-158 {background-color: #FFFF0f;}\n",
              ".cython.score-159 {background-color: #FFFF0f;}\n",
              ".cython.score-160 {background-color: #FFFF0f;}\n",
              ".cython.score-161 {background-color: #FFFF0e;}\n",
              ".cython.score-162 {background-color: #FFFF0e;}\n",
              ".cython.score-163 {background-color: #FFFF0e;}\n",
              ".cython.score-164 {background-color: #FFFF0e;}\n",
              ".cython.score-165 {background-color: #FFFF0e;}\n",
              ".cython.score-166 {background-color: #FFFF0e;}\n",
              ".cython.score-167 {background-color: #FFFF0e;}\n",
              ".cython.score-168 {background-color: #FFFF0e;}\n",
              ".cython.score-169 {background-color: #FFFF0e;}\n",
              ".cython.score-170 {background-color: #FFFF0e;}\n",
              ".cython.score-171 {background-color: #FFFF0e;}\n",
              ".cython.score-172 {background-color: #FFFF0e;}\n",
              ".cython.score-173 {background-color: #FFFF0d;}\n",
              ".cython.score-174 {background-color: #FFFF0d;}\n",
              ".cython.score-175 {background-color: #FFFF0d;}\n",
              ".cython.score-176 {background-color: #FFFF0d;}\n",
              ".cython.score-177 {background-color: #FFFF0d;}\n",
              ".cython.score-178 {background-color: #FFFF0d;}\n",
              ".cython.score-179 {background-color: #FFFF0d;}\n",
              ".cython.score-180 {background-color: #FFFF0d;}\n",
              ".cython.score-181 {background-color: #FFFF0d;}\n",
              ".cython.score-182 {background-color: #FFFF0d;}\n",
              ".cython.score-183 {background-color: #FFFF0d;}\n",
              ".cython.score-184 {background-color: #FFFF0d;}\n",
              ".cython.score-185 {background-color: #FFFF0d;}\n",
              ".cython.score-186 {background-color: #FFFF0d;}\n",
              ".cython.score-187 {background-color: #FFFF0c;}\n",
              ".cython.score-188 {background-color: #FFFF0c;}\n",
              ".cython.score-189 {background-color: #FFFF0c;}\n",
              ".cython.score-190 {background-color: #FFFF0c;}\n",
              ".cython.score-191 {background-color: #FFFF0c;}\n",
              ".cython.score-192 {background-color: #FFFF0c;}\n",
              ".cython.score-193 {background-color: #FFFF0c;}\n",
              ".cython.score-194 {background-color: #FFFF0c;}\n",
              ".cython.score-195 {background-color: #FFFF0c;}\n",
              ".cython.score-196 {background-color: #FFFF0c;}\n",
              ".cython.score-197 {background-color: #FFFF0c;}\n",
              ".cython.score-198 {background-color: #FFFF0c;}\n",
              ".cython.score-199 {background-color: #FFFF0c;}\n",
              ".cython.score-200 {background-color: #FFFF0c;}\n",
              ".cython.score-201 {background-color: #FFFF0c;}\n",
              ".cython.score-202 {background-color: #FFFF0c;}\n",
              ".cython.score-203 {background-color: #FFFF0b;}\n",
              ".cython.score-204 {background-color: #FFFF0b;}\n",
              ".cython.score-205 {background-color: #FFFF0b;}\n",
              ".cython.score-206 {background-color: #FFFF0b;}\n",
              ".cython.score-207 {background-color: #FFFF0b;}\n",
              ".cython.score-208 {background-color: #FFFF0b;}\n",
              ".cython.score-209 {background-color: #FFFF0b;}\n",
              ".cython.score-210 {background-color: #FFFF0b;}\n",
              ".cython.score-211 {background-color: #FFFF0b;}\n",
              ".cython.score-212 {background-color: #FFFF0b;}\n",
              ".cython.score-213 {background-color: #FFFF0b;}\n",
              ".cython.score-214 {background-color: #FFFF0b;}\n",
              ".cython.score-215 {background-color: #FFFF0b;}\n",
              ".cython.score-216 {background-color: #FFFF0b;}\n",
              ".cython.score-217 {background-color: #FFFF0b;}\n",
              ".cython.score-218 {background-color: #FFFF0b;}\n",
              ".cython.score-219 {background-color: #FFFF0b;}\n",
              ".cython.score-220 {background-color: #FFFF0b;}\n",
              ".cython.score-221 {background-color: #FFFF0b;}\n",
              ".cython.score-222 {background-color: #FFFF0a;}\n",
              ".cython.score-223 {background-color: #FFFF0a;}\n",
              ".cython.score-224 {background-color: #FFFF0a;}\n",
              ".cython.score-225 {background-color: #FFFF0a;}\n",
              ".cython.score-226 {background-color: #FFFF0a;}\n",
              ".cython.score-227 {background-color: #FFFF0a;}\n",
              ".cython.score-228 {background-color: #FFFF0a;}\n",
              ".cython.score-229 {background-color: #FFFF0a;}\n",
              ".cython.score-230 {background-color: #FFFF0a;}\n",
              ".cython.score-231 {background-color: #FFFF0a;}\n",
              ".cython.score-232 {background-color: #FFFF0a;}\n",
              ".cython.score-233 {background-color: #FFFF0a;}\n",
              ".cython.score-234 {background-color: #FFFF0a;}\n",
              ".cython.score-235 {background-color: #FFFF0a;}\n",
              ".cython.score-236 {background-color: #FFFF0a;}\n",
              ".cython.score-237 {background-color: #FFFF0a;}\n",
              ".cython.score-238 {background-color: #FFFF0a;}\n",
              ".cython.score-239 {background-color: #FFFF0a;}\n",
              ".cython.score-240 {background-color: #FFFF0a;}\n",
              ".cython.score-241 {background-color: #FFFF0a;}\n",
              ".cython.score-242 {background-color: #FFFF0a;}\n",
              ".cython.score-243 {background-color: #FFFF0a;}\n",
              ".cython.score-244 {background-color: #FFFF0a;}\n",
              ".cython.score-245 {background-color: #FFFF0a;}\n",
              ".cython.score-246 {background-color: #FFFF09;}\n",
              ".cython.score-247 {background-color: #FFFF09;}\n",
              ".cython.score-248 {background-color: #FFFF09;}\n",
              ".cython.score-249 {background-color: #FFFF09;}\n",
              ".cython.score-250 {background-color: #FFFF09;}\n",
              ".cython.score-251 {background-color: #FFFF09;}\n",
              ".cython.score-252 {background-color: #FFFF09;}\n",
              ".cython.score-253 {background-color: #FFFF09;}\n",
              ".cython.score-254 {background-color: #FFFF09;}\n",
              ".cython .hll { background-color: #ffffcc }\n",
              ".cython  { background: #f8f8f8; }\n",
              ".cython .c { color: #408080; font-style: italic } /* Comment */\n",
              ".cython .err { border: 1px solid #FF0000 } /* Error */\n",
              ".cython .k { color: #008000; font-weight: bold } /* Keyword */\n",
              ".cython .o { color: #666666 } /* Operator */\n",
              ".cython .ch { color: #408080; font-style: italic } /* Comment.Hashbang */\n",
              ".cython .cm { color: #408080; font-style: italic } /* Comment.Multiline */\n",
              ".cython .cp { color: #BC7A00 } /* Comment.Preproc */\n",
              ".cython .cpf { color: #408080; font-style: italic } /* Comment.PreprocFile */\n",
              ".cython .c1 { color: #408080; font-style: italic } /* Comment.Single */\n",
              ".cython .cs { color: #408080; font-style: italic } /* Comment.Special */\n",
              ".cython .gd { color: #A00000 } /* Generic.Deleted */\n",
              ".cython .ge { font-style: italic } /* Generic.Emph */\n",
              ".cython .gr { color: #FF0000 } /* Generic.Error */\n",
              ".cython .gh { color: #000080; font-weight: bold } /* Generic.Heading */\n",
              ".cython .gi { color: #00A000 } /* Generic.Inserted */\n",
              ".cython .go { color: #888888 } /* Generic.Output */\n",
              ".cython .gp { color: #000080; font-weight: bold } /* Generic.Prompt */\n",
              ".cython .gs { font-weight: bold } /* Generic.Strong */\n",
              ".cython .gu { color: #800080; font-weight: bold } /* Generic.Subheading */\n",
              ".cython .gt { color: #0044DD } /* Generic.Traceback */\n",
              ".cython .kc { color: #008000; font-weight: bold } /* Keyword.Constant */\n",
              ".cython .kd { color: #008000; font-weight: bold } /* Keyword.Declaration */\n",
              ".cython .kn { color: #008000; font-weight: bold } /* Keyword.Namespace */\n",
              ".cython .kp { color: #008000 } /* Keyword.Pseudo */\n",
              ".cython .kr { color: #008000; font-weight: bold } /* Keyword.Reserved */\n",
              ".cython .kt { color: #B00040 } /* Keyword.Type */\n",
              ".cython .m { color: #666666 } /* Literal.Number */\n",
              ".cython .s { color: #BA2121 } /* Literal.String */\n",
              ".cython .na { color: #7D9029 } /* Name.Attribute */\n",
              ".cython .nb { color: #008000 } /* Name.Builtin */\n",
              ".cython .nc { color: #0000FF; font-weight: bold } /* Name.Class */\n",
              ".cython .no { color: #880000 } /* Name.Constant */\n",
              ".cython .nd { color: #AA22FF } /* Name.Decorator */\n",
              ".cython .ni { color: #999999; font-weight: bold } /* Name.Entity */\n",
              ".cython .ne { color: #D2413A; font-weight: bold } /* Name.Exception */\n",
              ".cython .nf { color: #0000FF } /* Name.Function */\n",
              ".cython .nl { color: #A0A000 } /* Name.Label */\n",
              ".cython .nn { color: #0000FF; font-weight: bold } /* Name.Namespace */\n",
              ".cython .nt { color: #008000; font-weight: bold } /* Name.Tag */\n",
              ".cython .nv { color: #19177C } /* Name.Variable */\n",
              ".cython .ow { color: #AA22FF; font-weight: bold } /* Operator.Word */\n",
              ".cython .w { color: #bbbbbb } /* Text.Whitespace */\n",
              ".cython .mb { color: #666666 } /* Literal.Number.Bin */\n",
              ".cython .mf { color: #666666 } /* Literal.Number.Float */\n",
              ".cython .mh { color: #666666 } /* Literal.Number.Hex */\n",
              ".cython .mi { color: #666666 } /* Literal.Number.Integer */\n",
              ".cython .mo { color: #666666 } /* Literal.Number.Oct */\n",
              ".cython .sb { color: #BA2121 } /* Literal.String.Backtick */\n",
              ".cython .sc { color: #BA2121 } /* Literal.String.Char */\n",
              ".cython .sd { color: #BA2121; font-style: italic } /* Literal.String.Doc */\n",
              ".cython .s2 { color: #BA2121 } /* Literal.String.Double */\n",
              ".cython .se { color: #BB6622; font-weight: bold } /* Literal.String.Escape */\n",
              ".cython .sh { color: #BA2121 } /* Literal.String.Heredoc */\n",
              ".cython .si { color: #BB6688; font-weight: bold } /* Literal.String.Interpol */\n",
              ".cython .sx { color: #008000 } /* Literal.String.Other */\n",
              ".cython .sr { color: #BB6688 } /* Literal.String.Regex */\n",
              ".cython .s1 { color: #BA2121 } /* Literal.String.Single */\n",
              ".cython .ss { color: #19177C } /* Literal.String.Symbol */\n",
              ".cython .bp { color: #008000 } /* Name.Builtin.Pseudo */\n",
              ".cython .vc { color: #19177C } /* Name.Variable.Class */\n",
              ".cython .vg { color: #19177C } /* Name.Variable.Global */\n",
              ".cython .vi { color: #19177C } /* Name.Variable.Instance */\n",
              ".cython .il { color: #666666 } /* Literal.Number.Integer.Long */\n",
              "    </style>\n",
              "</head>\n",
              "<body class=\"cython\">\n",
              "<p><span style=\"border-bottom: solid 1px grey;\">Generated by Cython 0.29.21</span></p>\n",
              "<p>\n",
              "    <span style=\"background-color: #FFFF00\">Yellow lines</span> hint at Python interaction.<br />\n",
              "    Click on a line that starts with a \"<code>+</code>\" to see the C code that Cython generated for it.\n",
              "</p>\n",
              "<div class=\"cython\"><pre class=\"cython line score-8\" onclick=\"(function(s){s.display=s.display==='block'?'none':'block'})(this.nextElementSibling.style)\">+<span class=\"\">1</span>: <span class=\"k\">import</span> <span class=\"nn\">random</span></pre>\n",
              "<pre class='cython code score-8 '>  __pyx_t_1 = <span class='pyx_c_api'>__Pyx_Import</span>(__pyx_n_s_random, 0, 0);<span class='error_goto'> if (unlikely(!__pyx_t_1)) __PYX_ERR(0, 1, __pyx_L1_error)</span>\n",
              "  <span class='refnanny'>__Pyx_GOTREF</span>(__pyx_t_1);\n",
              "  if (<span class='py_c_api'>PyDict_SetItem</span>(__pyx_d, __pyx_n_s_random, __pyx_t_1) &lt; 0) <span class='error_goto'>__PYX_ERR(0, 1, __pyx_L1_error)</span>\n",
              "  <span class='pyx_macro_api'>__Pyx_DECREF</span>(__pyx_t_1); __pyx_t_1 = 0;\n",
              "</pre><pre class=\"cython line score-26\" onclick=\"(function(s){s.display=s.display==='block'?'none':'block'})(this.nextElementSibling.style)\">+<span class=\"\">2</span>: <span class=\"k\">def</span> <span class=\"nf\">mcs_pi_cy1</span><span class=\"p\">(</span><span class=\"nb\">int</span> <span class=\"n\">n</span><span class=\"p\">):</span></pre>\n",
              "<pre class='cython code score-26 '>/* Python wrapper */\n",
              "static PyObject *__pyx_pw_46_cython_magic_7685416966ebce70ea6d0057aa0455f6_1mcs_pi_cy1(PyObject *__pyx_self, PyObject *__pyx_arg_n); /*proto*/\n",
              "static PyMethodDef __pyx_mdef_46_cython_magic_7685416966ebce70ea6d0057aa0455f6_1mcs_pi_cy1 = {\"mcs_pi_cy1\", (PyCFunction)__pyx_pw_46_cython_magic_7685416966ebce70ea6d0057aa0455f6_1mcs_pi_cy1, METH_O, 0};\n",
              "static PyObject *__pyx_pw_46_cython_magic_7685416966ebce70ea6d0057aa0455f6_1mcs_pi_cy1(PyObject *__pyx_self, PyObject *__pyx_arg_n) {\n",
              "  int __pyx_v_n;\n",
              "  PyObject *__pyx_r = 0;\n",
              "  <span class='refnanny'>__Pyx_RefNannyDeclarations</span>\n",
              "  <span class='refnanny'>__Pyx_RefNannySetupContext</span>(\"mcs_pi_cy1 (wrapper)\", 0);\n",
              "  assert(__pyx_arg_n); {\n",
              "    __pyx_v_n = <span class='pyx_c_api'>__Pyx_PyInt_As_int</span>(__pyx_arg_n); if (unlikely((__pyx_v_n == (int)-1) &amp;&amp; <span class='py_c_api'>PyErr_Occurred</span>())) <span class='error_goto'>__PYX_ERR(0, 2, __pyx_L3_error)</span>\n",
              "  }\n",
              "  goto __pyx_L4_argument_unpacking_done;\n",
              "  __pyx_L3_error:;\n",
              "  <span class='pyx_c_api'>__Pyx_AddTraceback</span>(\"_cython_magic_7685416966ebce70ea6d0057aa0455f6.mcs_pi_cy1\", __pyx_clineno, __pyx_lineno, __pyx_filename);\n",
              "  <span class='refnanny'>__Pyx_RefNannyFinishContext</span>();\n",
              "  return NULL;\n",
              "  __pyx_L4_argument_unpacking_done:;\n",
              "  __pyx_r = __pyx_pf_46_cython_magic_7685416966ebce70ea6d0057aa0455f6_mcs_pi_cy1(__pyx_self, ((int)__pyx_v_n));\n",
              "  int __pyx_lineno = 0;\n",
              "  const char *__pyx_filename = NULL;\n",
              "  int __pyx_clineno = 0;\n",
              "\n",
              "  /* function exit code */\n",
              "  <span class='refnanny'>__Pyx_RefNannyFinishContext</span>();\n",
              "  return __pyx_r;\n",
              "}\n",
              "\n",
              "static PyObject *__pyx_pf_46_cython_magic_7685416966ebce70ea6d0057aa0455f6_mcs_pi_cy1(CYTHON_UNUSED PyObject *__pyx_self, int __pyx_v_n) {\n",
              "  CYTHON_UNUSED int __pyx_v_i;\n",
              "  int __pyx_v_circle;\n",
              "  float __pyx_v_x;\n",
              "  float __pyx_v_y;\n",
              "  PyObject *__pyx_r = NULL;\n",
              "  <span class='refnanny'>__Pyx_RefNannyDeclarations</span>\n",
              "  <span class='refnanny'>__Pyx_RefNannySetupContext</span>(\"mcs_pi_cy1\", 0);\n",
              "/* … */\n",
              "  /* function exit code */\n",
              "  __pyx_r = Py_None; <span class='pyx_macro_api'>__Pyx_INCREF</span>(Py_None);\n",
              "  goto __pyx_L0;\n",
              "  __pyx_L1_error:;\n",
              "  <span class='pyx_macro_api'>__Pyx_XDECREF</span>(__pyx_t_4);\n",
              "  <span class='pyx_macro_api'>__Pyx_XDECREF</span>(__pyx_t_5);\n",
              "  <span class='pyx_macro_api'>__Pyx_XDECREF</span>(__pyx_t_6);\n",
              "  <span class='pyx_c_api'>__Pyx_AddTraceback</span>(\"_cython_magic_7685416966ebce70ea6d0057aa0455f6.mcs_pi_cy1\", __pyx_clineno, __pyx_lineno, __pyx_filename);\n",
              "  __pyx_r = NULL;\n",
              "  __pyx_L0:;\n",
              "  <span class='refnanny'>__Pyx_XGIVEREF</span>(__pyx_r);\n",
              "  <span class='refnanny'>__Pyx_RefNannyFinishContext</span>();\n",
              "  return __pyx_r;\n",
              "}\n",
              "/* … */\n",
              "  __pyx_tuple_ = <span class='py_c_api'>PyTuple_Pack</span>(6, __pyx_n_s_n, __pyx_n_s_n, __pyx_n_s_i, __pyx_n_s_circle, __pyx_n_s_x, __pyx_n_s_y);<span class='error_goto'> if (unlikely(!__pyx_tuple_)) __PYX_ERR(0, 2, __pyx_L1_error)</span>\n",
              "  <span class='refnanny'>__Pyx_GOTREF</span>(__pyx_tuple_);\n",
              "  <span class='refnanny'>__Pyx_GIVEREF</span>(__pyx_tuple_);\n",
              "/* … */\n",
              "  __pyx_t_1 = PyCFunction_NewEx(&amp;__pyx_mdef_46_cython_magic_7685416966ebce70ea6d0057aa0455f6_1mcs_pi_cy1, NULL, __pyx_n_s_cython_magic_7685416966ebce70ea);<span class='error_goto'> if (unlikely(!__pyx_t_1)) __PYX_ERR(0, 2, __pyx_L1_error)</span>\n",
              "  <span class='refnanny'>__Pyx_GOTREF</span>(__pyx_t_1);\n",
              "  if (<span class='py_c_api'>PyDict_SetItem</span>(__pyx_d, __pyx_n_s_mcs_pi_cy1, __pyx_t_1) &lt; 0) <span class='error_goto'>__PYX_ERR(0, 2, __pyx_L1_error)</span>\n",
              "  <span class='pyx_macro_api'>__Pyx_DECREF</span>(__pyx_t_1); __pyx_t_1 = 0;\n",
              "</pre><pre class=\"cython line score-0\" onclick=\"(function(s){s.display=s.display==='block'?'none':'block'})(this.nextElementSibling.style)\">+<span class=\"\">3</span>:     <span class=\"k\">cdef</span> <span class=\"kt\">int</span> <span class=\"nf\">i</span><span class=\"p\">,</span> <span class=\"nf\">circle</span> <span class=\"o\">=</span> <span class=\"mf\">0</span></pre>\n",
              "<pre class='cython code score-0 '>  __pyx_v_circle = 0;\n",
              "</pre><pre class=\"cython line score-0\">&#xA0;<span class=\"\">4</span>:     <span class=\"k\">cdef</span> <span class=\"kt\">float</span> <span class=\"nf\">x</span><span class=\"p\">,</span> <span class=\"nf\">y</span></pre>\n",
              "<pre class=\"cython line score-0\" onclick=\"(function(s){s.display=s.display==='block'?'none':'block'})(this.nextElementSibling.style)\">+<span class=\"\">5</span>:     <span class=\"k\">for</span> <span class=\"n\">i</span> <span class=\"ow\">in</span> <span class=\"nb\">range</span><span class=\"p\">(</span><span class=\"n\">n</span><span class=\"p\">):</span></pre>\n",
              "<pre class='cython code score-0 '>  __pyx_t_1 = __pyx_v_n;\n",
              "  __pyx_t_2 = __pyx_t_1;\n",
              "  for (__pyx_t_3 = 0; __pyx_t_3 &lt; __pyx_t_2; __pyx_t_3+=1) {\n",
              "    __pyx_v_i = __pyx_t_3;\n",
              "</pre><pre class=\"cython line score-64\" onclick=\"(function(s){s.display=s.display==='block'?'none':'block'})(this.nextElementSibling.style)\">+<span class=\"\">6</span>:         <span class=\"n\">x</span><span class=\"p\">,</span> <span class=\"n\">y</span> <span class=\"o\">=</span> <span class=\"n\">random</span><span class=\"o\">.</span><span class=\"n\">random</span><span class=\"p\">(),</span> <span class=\"n\">random</span><span class=\"o\">.</span><span class=\"n\">random</span><span class=\"p\">()</span></pre>\n",
              "<pre class='cython code score-64 '>    <span class='pyx_c_api'>__Pyx_GetModuleGlobalName</span>(__pyx_t_5, __pyx_n_s_random);<span class='error_goto'> if (unlikely(!__pyx_t_5)) __PYX_ERR(0, 6, __pyx_L1_error)</span>\n",
              "    <span class='refnanny'>__Pyx_GOTREF</span>(__pyx_t_5);\n",
              "    __pyx_t_6 = <span class='pyx_c_api'>__Pyx_PyObject_GetAttrStr</span>(__pyx_t_5, __pyx_n_s_random);<span class='error_goto'> if (unlikely(!__pyx_t_6)) __PYX_ERR(0, 6, __pyx_L1_error)</span>\n",
              "    <span class='refnanny'>__Pyx_GOTREF</span>(__pyx_t_6);\n",
              "    <span class='pyx_macro_api'>__Pyx_DECREF</span>(__pyx_t_5); __pyx_t_5 = 0;\n",
              "    __pyx_t_5 = NULL;\n",
              "    if (CYTHON_UNPACK_METHODS &amp;&amp; unlikely(<span class='py_c_api'>PyMethod_Check</span>(__pyx_t_6))) {\n",
              "      __pyx_t_5 = <span class='py_macro_api'>PyMethod_GET_SELF</span>(__pyx_t_6);\n",
              "      if (likely(__pyx_t_5)) {\n",
              "        PyObject* function = <span class='py_macro_api'>PyMethod_GET_FUNCTION</span>(__pyx_t_6);\n",
              "        <span class='pyx_macro_api'>__Pyx_INCREF</span>(__pyx_t_5);\n",
              "        <span class='pyx_macro_api'>__Pyx_INCREF</span>(function);\n",
              "        <span class='pyx_macro_api'>__Pyx_DECREF_SET</span>(__pyx_t_6, function);\n",
              "      }\n",
              "    }\n",
              "    __pyx_t_4 = (__pyx_t_5) ? <span class='pyx_c_api'>__Pyx_PyObject_CallOneArg</span>(__pyx_t_6, __pyx_t_5) : <span class='pyx_c_api'>__Pyx_PyObject_CallNoArg</span>(__pyx_t_6);\n",
              "    <span class='pyx_macro_api'>__Pyx_XDECREF</span>(__pyx_t_5); __pyx_t_5 = 0;\n",
              "    if (unlikely(!__pyx_t_4)) <span class='error_goto'>__PYX_ERR(0, 6, __pyx_L1_error)</span>\n",
              "    <span class='refnanny'>__Pyx_GOTREF</span>(__pyx_t_4);\n",
              "    <span class='pyx_macro_api'>__Pyx_DECREF</span>(__pyx_t_6); __pyx_t_6 = 0;\n",
              "    __pyx_t_7 = __pyx_<span class='py_c_api'>PyFloat_AsFloat</span>(__pyx_t_4); if (unlikely((__pyx_t_7 == (float)-1) &amp;&amp; <span class='py_c_api'>PyErr_Occurred</span>())) <span class='error_goto'>__PYX_ERR(0, 6, __pyx_L1_error)</span>\n",
              "    <span class='pyx_macro_api'>__Pyx_DECREF</span>(__pyx_t_4); __pyx_t_4 = 0;\n",
              "    <span class='pyx_c_api'>__Pyx_GetModuleGlobalName</span>(__pyx_t_6, __pyx_n_s_random);<span class='error_goto'> if (unlikely(!__pyx_t_6)) __PYX_ERR(0, 6, __pyx_L1_error)</span>\n",
              "    <span class='refnanny'>__Pyx_GOTREF</span>(__pyx_t_6);\n",
              "    __pyx_t_5 = <span class='pyx_c_api'>__Pyx_PyObject_GetAttrStr</span>(__pyx_t_6, __pyx_n_s_random);<span class='error_goto'> if (unlikely(!__pyx_t_5)) __PYX_ERR(0, 6, __pyx_L1_error)</span>\n",
              "    <span class='refnanny'>__Pyx_GOTREF</span>(__pyx_t_5);\n",
              "    <span class='pyx_macro_api'>__Pyx_DECREF</span>(__pyx_t_6); __pyx_t_6 = 0;\n",
              "    __pyx_t_6 = NULL;\n",
              "    if (CYTHON_UNPACK_METHODS &amp;&amp; unlikely(<span class='py_c_api'>PyMethod_Check</span>(__pyx_t_5))) {\n",
              "      __pyx_t_6 = <span class='py_macro_api'>PyMethod_GET_SELF</span>(__pyx_t_5);\n",
              "      if (likely(__pyx_t_6)) {\n",
              "        PyObject* function = <span class='py_macro_api'>PyMethod_GET_FUNCTION</span>(__pyx_t_5);\n",
              "        <span class='pyx_macro_api'>__Pyx_INCREF</span>(__pyx_t_6);\n",
              "        <span class='pyx_macro_api'>__Pyx_INCREF</span>(function);\n",
              "        <span class='pyx_macro_api'>__Pyx_DECREF_SET</span>(__pyx_t_5, function);\n",
              "      }\n",
              "    }\n",
              "    __pyx_t_4 = (__pyx_t_6) ? <span class='pyx_c_api'>__Pyx_PyObject_CallOneArg</span>(__pyx_t_5, __pyx_t_6) : <span class='pyx_c_api'>__Pyx_PyObject_CallNoArg</span>(__pyx_t_5);\n",
              "    <span class='pyx_macro_api'>__Pyx_XDECREF</span>(__pyx_t_6); __pyx_t_6 = 0;\n",
              "    if (unlikely(!__pyx_t_4)) <span class='error_goto'>__PYX_ERR(0, 6, __pyx_L1_error)</span>\n",
              "    <span class='refnanny'>__Pyx_GOTREF</span>(__pyx_t_4);\n",
              "    <span class='pyx_macro_api'>__Pyx_DECREF</span>(__pyx_t_5); __pyx_t_5 = 0;\n",
              "    __pyx_t_8 = __pyx_<span class='py_c_api'>PyFloat_AsFloat</span>(__pyx_t_4); if (unlikely((__pyx_t_8 == (float)-1) &amp;&amp; <span class='py_c_api'>PyErr_Occurred</span>())) <span class='error_goto'>__PYX_ERR(0, 6, __pyx_L1_error)</span>\n",
              "    <span class='pyx_macro_api'>__Pyx_DECREF</span>(__pyx_t_4); __pyx_t_4 = 0;\n",
              "    __pyx_v_x = __pyx_t_7;\n",
              "    __pyx_v_y = __pyx_t_8;\n",
              "</pre><pre class=\"cython line score-0\" onclick=\"(function(s){s.display=s.display==='block'?'none':'block'})(this.nextElementSibling.style)\">+<span class=\"\">7</span>:         <span class=\"k\">if</span> <span class=\"p\">(</span><span class=\"n\">x</span> <span class=\"o\">**</span> <span class=\"mf\">2</span> <span class=\"o\">+</span> <span class=\"n\">y</span> <span class=\"o\">**</span> <span class=\"mf\">2</span><span class=\"p\">)</span> <span class=\"o\">**</span> <span class=\"mf\">0.5</span> <span class=\"o\">&lt;=</span> <span class=\"mf\">1</span><span class=\"p\">:</span></pre>\n",
              "<pre class='cython code score-0 '>    __pyx_t_9 = ((pow(((double)(powf(__pyx_v_x, 2.0) + powf(__pyx_v_y, 2.0))), 0.5) &lt;= 1.0) != 0);\n",
              "    if (__pyx_t_9) {\n",
              "/* … */\n",
              "    }\n",
              "</pre><pre class=\"cython line score-0\" onclick=\"(function(s){s.display=s.display==='block'?'none':'block'})(this.nextElementSibling.style)\">+<span class=\"\">8</span>:             <span class=\"n\">circle</span> <span class=\"o\">+=</span> <span class=\"mf\">1</span></pre>\n",
              "<pre class='cython code score-0 '>      __pyx_v_circle = (__pyx_v_circle + 1);\n",
              "</pre><pre class=\"cython line score-11\" onclick=\"(function(s){s.display=s.display==='block'?'none':'block'})(this.nextElementSibling.style)\">+<span class=\"\">9</span>:         <span class=\"k\">return</span> <span class=\"p\">(</span><span class=\"mf\">4</span> <span class=\"o\">*</span> <span class=\"n\">circle</span><span class=\"p\">)</span> <span class=\"o\">/</span> <span class=\"n\">n</span></pre>\n",
              "<pre class='cython code score-11 '>    <span class='pyx_macro_api'>__Pyx_XDECREF</span>(__pyx_r);\n",
              "    __pyx_t_10 = (4 * __pyx_v_circle);\n",
              "    if (unlikely(__pyx_v_n == 0)) {\n",
              "      <span class='py_c_api'>PyErr_SetString</span>(PyExc_ZeroDivisionError, \"float division\");\n",
              "      <span class='error_goto'>__PYX_ERR(0, 9, __pyx_L1_error)</span>\n",
              "    }\n",
              "    __pyx_t_4 = <span class='py_c_api'>PyFloat_FromDouble</span>((((double)__pyx_t_10) / ((double)__pyx_v_n)));<span class='error_goto'> if (unlikely(!__pyx_t_4)) __PYX_ERR(0, 9, __pyx_L1_error)</span>\n",
              "    <span class='refnanny'>__Pyx_GOTREF</span>(__pyx_t_4);\n",
              "    __pyx_r = __pyx_t_4;\n",
              "    __pyx_t_4 = 0;\n",
              "    goto __pyx_L0;\n",
              "  }\n",
              "</pre></div></body></html>"
            ],
            "text/plain": [
              "<IPython.core.display.HTML object>"
            ]
          },
          "metadata": {
            "tags": []
          },
          "execution_count": 72
        }
      ]
    },
    {
      "cell_type": "code",
      "metadata": {
        "id": "Hic5m2Gs4xB1",
        "colab_type": "code",
        "colab": {
          "base_uri": "https://localhost:8080/",
          "height": 69
        },
        "outputId": "e60da060-4488-43ff-d9b0-449f2be24805"
      },
      "source": [
        "%time mcs_pi_cy1(n)"
      ],
      "execution_count": 73,
      "outputs": [
        {
          "output_type": "stream",
          "text": [
            "CPU times: user 13 µs, sys: 1e+03 ns, total: 14 µs\n",
            "Wall time: 16.7 µs\n"
          ],
          "name": "stdout"
        },
        {
          "output_type": "execute_result",
          "data": {
            "text/plain": [
              "4e-07"
            ]
          },
          "metadata": {
            "tags": []
          },
          "execution_count": 73
        }
      ]
    },
    {
      "cell_type": "code",
      "metadata": {
        "id": "EvDBtDBd7F2t",
        "colab_type": "code",
        "colab": {
          "base_uri": "https://localhost:8080/",
          "height": 278
        },
        "outputId": "c22b2cfa-3f7e-4bcb-b44e-d4a57a730e7c"
      },
      "source": [
        "%%cython -a\n",
        "from libc.stdlib cimport rand\n",
        "cdef extern from 'limits.h':\n",
        "    int INT_MAX\n",
        "def mcs_pi_cy2(int n):\n",
        "    cdef int i, circle = 0\n",
        "    cdef float x, y\n",
        "    for i in range(n):\n",
        "        x, y = rand() / INT_MAX, rand() / INT_MAX\n",
        "        if (x ** 2 + y ** 2) ** 0.5 <= 1:\n",
        "            circle += 1\n",
        "    return (4 * circle) / n"
      ],
      "execution_count": 74,
      "outputs": [
        {
          "output_type": "execute_result",
          "data": {
            "text/html": [
              "<!DOCTYPE html>\n",
              "<!-- Generated by Cython 0.29.21 -->\n",
              "<html>\n",
              "<head>\n",
              "    <meta http-equiv=\"Content-Type\" content=\"text/html; charset=utf-8\" />\n",
              "    <title>Cython: _cython_magic_2516c94d65d00b07006a97b113267370.pyx</title>\n",
              "    <style type=\"text/css\">\n",
              "    \n",
              "body.cython { font-family: courier; font-size: 12; }\n",
              "\n",
              ".cython.tag  {  }\n",
              ".cython.line { margin: 0em }\n",
              ".cython.code { font-size: 9; color: #444444; display: none; margin: 0px 0px 0px 8px; border-left: 8px none; }\n",
              "\n",
              ".cython.line .run { background-color: #B0FFB0; }\n",
              ".cython.line .mis { background-color: #FFB0B0; }\n",
              ".cython.code.run  { border-left: 8px solid #B0FFB0; }\n",
              ".cython.code.mis  { border-left: 8px solid #FFB0B0; }\n",
              "\n",
              ".cython.code .py_c_api  { color: red; }\n",
              ".cython.code .py_macro_api  { color: #FF7000; }\n",
              ".cython.code .pyx_c_api  { color: #FF3000; }\n",
              ".cython.code .pyx_macro_api  { color: #FF7000; }\n",
              ".cython.code .refnanny  { color: #FFA000; }\n",
              ".cython.code .trace  { color: #FFA000; }\n",
              ".cython.code .error_goto  { color: #FFA000; }\n",
              "\n",
              ".cython.code .coerce  { color: #008000; border: 1px dotted #008000 }\n",
              ".cython.code .py_attr { color: #FF0000; font-weight: bold; }\n",
              ".cython.code .c_attr  { color: #0000FF; }\n",
              ".cython.code .py_call { color: #FF0000; font-weight: bold; }\n",
              ".cython.code .c_call  { color: #0000FF; }\n",
              "\n",
              ".cython.score-0 {background-color: #FFFFff;}\n",
              ".cython.score-1 {background-color: #FFFFe7;}\n",
              ".cython.score-2 {background-color: #FFFFd4;}\n",
              ".cython.score-3 {background-color: #FFFFc4;}\n",
              ".cython.score-4 {background-color: #FFFFb6;}\n",
              ".cython.score-5 {background-color: #FFFFaa;}\n",
              ".cython.score-6 {background-color: #FFFF9f;}\n",
              ".cython.score-7 {background-color: #FFFF96;}\n",
              ".cython.score-8 {background-color: #FFFF8d;}\n",
              ".cython.score-9 {background-color: #FFFF86;}\n",
              ".cython.score-10 {background-color: #FFFF7f;}\n",
              ".cython.score-11 {background-color: #FFFF79;}\n",
              ".cython.score-12 {background-color: #FFFF73;}\n",
              ".cython.score-13 {background-color: #FFFF6e;}\n",
              ".cython.score-14 {background-color: #FFFF6a;}\n",
              ".cython.score-15 {background-color: #FFFF66;}\n",
              ".cython.score-16 {background-color: #FFFF62;}\n",
              ".cython.score-17 {background-color: #FFFF5e;}\n",
              ".cython.score-18 {background-color: #FFFF5b;}\n",
              ".cython.score-19 {background-color: #FFFF57;}\n",
              ".cython.score-20 {background-color: #FFFF55;}\n",
              ".cython.score-21 {background-color: #FFFF52;}\n",
              ".cython.score-22 {background-color: #FFFF4f;}\n",
              ".cython.score-23 {background-color: #FFFF4d;}\n",
              ".cython.score-24 {background-color: #FFFF4b;}\n",
              ".cython.score-25 {background-color: #FFFF48;}\n",
              ".cython.score-26 {background-color: #FFFF46;}\n",
              ".cython.score-27 {background-color: #FFFF44;}\n",
              ".cython.score-28 {background-color: #FFFF43;}\n",
              ".cython.score-29 {background-color: #FFFF41;}\n",
              ".cython.score-30 {background-color: #FFFF3f;}\n",
              ".cython.score-31 {background-color: #FFFF3e;}\n",
              ".cython.score-32 {background-color: #FFFF3c;}\n",
              ".cython.score-33 {background-color: #FFFF3b;}\n",
              ".cython.score-34 {background-color: #FFFF39;}\n",
              ".cython.score-35 {background-color: #FFFF38;}\n",
              ".cython.score-36 {background-color: #FFFF37;}\n",
              ".cython.score-37 {background-color: #FFFF36;}\n",
              ".cython.score-38 {background-color: #FFFF35;}\n",
              ".cython.score-39 {background-color: #FFFF34;}\n",
              ".cython.score-40 {background-color: #FFFF33;}\n",
              ".cython.score-41 {background-color: #FFFF32;}\n",
              ".cython.score-42 {background-color: #FFFF31;}\n",
              ".cython.score-43 {background-color: #FFFF30;}\n",
              ".cython.score-44 {background-color: #FFFF2f;}\n",
              ".cython.score-45 {background-color: #FFFF2e;}\n",
              ".cython.score-46 {background-color: #FFFF2d;}\n",
              ".cython.score-47 {background-color: #FFFF2c;}\n",
              ".cython.score-48 {background-color: #FFFF2b;}\n",
              ".cython.score-49 {background-color: #FFFF2b;}\n",
              ".cython.score-50 {background-color: #FFFF2a;}\n",
              ".cython.score-51 {background-color: #FFFF29;}\n",
              ".cython.score-52 {background-color: #FFFF29;}\n",
              ".cython.score-53 {background-color: #FFFF28;}\n",
              ".cython.score-54 {background-color: #FFFF27;}\n",
              ".cython.score-55 {background-color: #FFFF27;}\n",
              ".cython.score-56 {background-color: #FFFF26;}\n",
              ".cython.score-57 {background-color: #FFFF26;}\n",
              ".cython.score-58 {background-color: #FFFF25;}\n",
              ".cython.score-59 {background-color: #FFFF24;}\n",
              ".cython.score-60 {background-color: #FFFF24;}\n",
              ".cython.score-61 {background-color: #FFFF23;}\n",
              ".cython.score-62 {background-color: #FFFF23;}\n",
              ".cython.score-63 {background-color: #FFFF22;}\n",
              ".cython.score-64 {background-color: #FFFF22;}\n",
              ".cython.score-65 {background-color: #FFFF22;}\n",
              ".cython.score-66 {background-color: #FFFF21;}\n",
              ".cython.score-67 {background-color: #FFFF21;}\n",
              ".cython.score-68 {background-color: #FFFF20;}\n",
              ".cython.score-69 {background-color: #FFFF20;}\n",
              ".cython.score-70 {background-color: #FFFF1f;}\n",
              ".cython.score-71 {background-color: #FFFF1f;}\n",
              ".cython.score-72 {background-color: #FFFF1f;}\n",
              ".cython.score-73 {background-color: #FFFF1e;}\n",
              ".cython.score-74 {background-color: #FFFF1e;}\n",
              ".cython.score-75 {background-color: #FFFF1e;}\n",
              ".cython.score-76 {background-color: #FFFF1d;}\n",
              ".cython.score-77 {background-color: #FFFF1d;}\n",
              ".cython.score-78 {background-color: #FFFF1c;}\n",
              ".cython.score-79 {background-color: #FFFF1c;}\n",
              ".cython.score-80 {background-color: #FFFF1c;}\n",
              ".cython.score-81 {background-color: #FFFF1c;}\n",
              ".cython.score-82 {background-color: #FFFF1b;}\n",
              ".cython.score-83 {background-color: #FFFF1b;}\n",
              ".cython.score-84 {background-color: #FFFF1b;}\n",
              ".cython.score-85 {background-color: #FFFF1a;}\n",
              ".cython.score-86 {background-color: #FFFF1a;}\n",
              ".cython.score-87 {background-color: #FFFF1a;}\n",
              ".cython.score-88 {background-color: #FFFF1a;}\n",
              ".cython.score-89 {background-color: #FFFF19;}\n",
              ".cython.score-90 {background-color: #FFFF19;}\n",
              ".cython.score-91 {background-color: #FFFF19;}\n",
              ".cython.score-92 {background-color: #FFFF19;}\n",
              ".cython.score-93 {background-color: #FFFF18;}\n",
              ".cython.score-94 {background-color: #FFFF18;}\n",
              ".cython.score-95 {background-color: #FFFF18;}\n",
              ".cython.score-96 {background-color: #FFFF18;}\n",
              ".cython.score-97 {background-color: #FFFF17;}\n",
              ".cython.score-98 {background-color: #FFFF17;}\n",
              ".cython.score-99 {background-color: #FFFF17;}\n",
              ".cython.score-100 {background-color: #FFFF17;}\n",
              ".cython.score-101 {background-color: #FFFF16;}\n",
              ".cython.score-102 {background-color: #FFFF16;}\n",
              ".cython.score-103 {background-color: #FFFF16;}\n",
              ".cython.score-104 {background-color: #FFFF16;}\n",
              ".cython.score-105 {background-color: #FFFF16;}\n",
              ".cython.score-106 {background-color: #FFFF15;}\n",
              ".cython.score-107 {background-color: #FFFF15;}\n",
              ".cython.score-108 {background-color: #FFFF15;}\n",
              ".cython.score-109 {background-color: #FFFF15;}\n",
              ".cython.score-110 {background-color: #FFFF15;}\n",
              ".cython.score-111 {background-color: #FFFF15;}\n",
              ".cython.score-112 {background-color: #FFFF14;}\n",
              ".cython.score-113 {background-color: #FFFF14;}\n",
              ".cython.score-114 {background-color: #FFFF14;}\n",
              ".cython.score-115 {background-color: #FFFF14;}\n",
              ".cython.score-116 {background-color: #FFFF14;}\n",
              ".cython.score-117 {background-color: #FFFF14;}\n",
              ".cython.score-118 {background-color: #FFFF13;}\n",
              ".cython.score-119 {background-color: #FFFF13;}\n",
              ".cython.score-120 {background-color: #FFFF13;}\n",
              ".cython.score-121 {background-color: #FFFF13;}\n",
              ".cython.score-122 {background-color: #FFFF13;}\n",
              ".cython.score-123 {background-color: #FFFF13;}\n",
              ".cython.score-124 {background-color: #FFFF13;}\n",
              ".cython.score-125 {background-color: #FFFF12;}\n",
              ".cython.score-126 {background-color: #FFFF12;}\n",
              ".cython.score-127 {background-color: #FFFF12;}\n",
              ".cython.score-128 {background-color: #FFFF12;}\n",
              ".cython.score-129 {background-color: #FFFF12;}\n",
              ".cython.score-130 {background-color: #FFFF12;}\n",
              ".cython.score-131 {background-color: #FFFF12;}\n",
              ".cython.score-132 {background-color: #FFFF11;}\n",
              ".cython.score-133 {background-color: #FFFF11;}\n",
              ".cython.score-134 {background-color: #FFFF11;}\n",
              ".cython.score-135 {background-color: #FFFF11;}\n",
              ".cython.score-136 {background-color: #FFFF11;}\n",
              ".cython.score-137 {background-color: #FFFF11;}\n",
              ".cython.score-138 {background-color: #FFFF11;}\n",
              ".cython.score-139 {background-color: #FFFF11;}\n",
              ".cython.score-140 {background-color: #FFFF11;}\n",
              ".cython.score-141 {background-color: #FFFF10;}\n",
              ".cython.score-142 {background-color: #FFFF10;}\n",
              ".cython.score-143 {background-color: #FFFF10;}\n",
              ".cython.score-144 {background-color: #FFFF10;}\n",
              ".cython.score-145 {background-color: #FFFF10;}\n",
              ".cython.score-146 {background-color: #FFFF10;}\n",
              ".cython.score-147 {background-color: #FFFF10;}\n",
              ".cython.score-148 {background-color: #FFFF10;}\n",
              ".cython.score-149 {background-color: #FFFF10;}\n",
              ".cython.score-150 {background-color: #FFFF0f;}\n",
              ".cython.score-151 {background-color: #FFFF0f;}\n",
              ".cython.score-152 {background-color: #FFFF0f;}\n",
              ".cython.score-153 {background-color: #FFFF0f;}\n",
              ".cython.score-154 {background-color: #FFFF0f;}\n",
              ".cython.score-155 {background-color: #FFFF0f;}\n",
              ".cython.score-156 {background-color: #FFFF0f;}\n",
              ".cython.score-157 {background-color: #FFFF0f;}\n",
              ".cython.score-158 {background-color: #FFFF0f;}\n",
              ".cython.score-159 {background-color: #FFFF0f;}\n",
              ".cython.score-160 {background-color: #FFFF0f;}\n",
              ".cython.score-161 {background-color: #FFFF0e;}\n",
              ".cython.score-162 {background-color: #FFFF0e;}\n",
              ".cython.score-163 {background-color: #FFFF0e;}\n",
              ".cython.score-164 {background-color: #FFFF0e;}\n",
              ".cython.score-165 {background-color: #FFFF0e;}\n",
              ".cython.score-166 {background-color: #FFFF0e;}\n",
              ".cython.score-167 {background-color: #FFFF0e;}\n",
              ".cython.score-168 {background-color: #FFFF0e;}\n",
              ".cython.score-169 {background-color: #FFFF0e;}\n",
              ".cython.score-170 {background-color: #FFFF0e;}\n",
              ".cython.score-171 {background-color: #FFFF0e;}\n",
              ".cython.score-172 {background-color: #FFFF0e;}\n",
              ".cython.score-173 {background-color: #FFFF0d;}\n",
              ".cython.score-174 {background-color: #FFFF0d;}\n",
              ".cython.score-175 {background-color: #FFFF0d;}\n",
              ".cython.score-176 {background-color: #FFFF0d;}\n",
              ".cython.score-177 {background-color: #FFFF0d;}\n",
              ".cython.score-178 {background-color: #FFFF0d;}\n",
              ".cython.score-179 {background-color: #FFFF0d;}\n",
              ".cython.score-180 {background-color: #FFFF0d;}\n",
              ".cython.score-181 {background-color: #FFFF0d;}\n",
              ".cython.score-182 {background-color: #FFFF0d;}\n",
              ".cython.score-183 {background-color: #FFFF0d;}\n",
              ".cython.score-184 {background-color: #FFFF0d;}\n",
              ".cython.score-185 {background-color: #FFFF0d;}\n",
              ".cython.score-186 {background-color: #FFFF0d;}\n",
              ".cython.score-187 {background-color: #FFFF0c;}\n",
              ".cython.score-188 {background-color: #FFFF0c;}\n",
              ".cython.score-189 {background-color: #FFFF0c;}\n",
              ".cython.score-190 {background-color: #FFFF0c;}\n",
              ".cython.score-191 {background-color: #FFFF0c;}\n",
              ".cython.score-192 {background-color: #FFFF0c;}\n",
              ".cython.score-193 {background-color: #FFFF0c;}\n",
              ".cython.score-194 {background-color: #FFFF0c;}\n",
              ".cython.score-195 {background-color: #FFFF0c;}\n",
              ".cython.score-196 {background-color: #FFFF0c;}\n",
              ".cython.score-197 {background-color: #FFFF0c;}\n",
              ".cython.score-198 {background-color: #FFFF0c;}\n",
              ".cython.score-199 {background-color: #FFFF0c;}\n",
              ".cython.score-200 {background-color: #FFFF0c;}\n",
              ".cython.score-201 {background-color: #FFFF0c;}\n",
              ".cython.score-202 {background-color: #FFFF0c;}\n",
              ".cython.score-203 {background-color: #FFFF0b;}\n",
              ".cython.score-204 {background-color: #FFFF0b;}\n",
              ".cython.score-205 {background-color: #FFFF0b;}\n",
              ".cython.score-206 {background-color: #FFFF0b;}\n",
              ".cython.score-207 {background-color: #FFFF0b;}\n",
              ".cython.score-208 {background-color: #FFFF0b;}\n",
              ".cython.score-209 {background-color: #FFFF0b;}\n",
              ".cython.score-210 {background-color: #FFFF0b;}\n",
              ".cython.score-211 {background-color: #FFFF0b;}\n",
              ".cython.score-212 {background-color: #FFFF0b;}\n",
              ".cython.score-213 {background-color: #FFFF0b;}\n",
              ".cython.score-214 {background-color: #FFFF0b;}\n",
              ".cython.score-215 {background-color: #FFFF0b;}\n",
              ".cython.score-216 {background-color: #FFFF0b;}\n",
              ".cython.score-217 {background-color: #FFFF0b;}\n",
              ".cython.score-218 {background-color: #FFFF0b;}\n",
              ".cython.score-219 {background-color: #FFFF0b;}\n",
              ".cython.score-220 {background-color: #FFFF0b;}\n",
              ".cython.score-221 {background-color: #FFFF0b;}\n",
              ".cython.score-222 {background-color: #FFFF0a;}\n",
              ".cython.score-223 {background-color: #FFFF0a;}\n",
              ".cython.score-224 {background-color: #FFFF0a;}\n",
              ".cython.score-225 {background-color: #FFFF0a;}\n",
              ".cython.score-226 {background-color: #FFFF0a;}\n",
              ".cython.score-227 {background-color: #FFFF0a;}\n",
              ".cython.score-228 {background-color: #FFFF0a;}\n",
              ".cython.score-229 {background-color: #FFFF0a;}\n",
              ".cython.score-230 {background-color: #FFFF0a;}\n",
              ".cython.score-231 {background-color: #FFFF0a;}\n",
              ".cython.score-232 {background-color: #FFFF0a;}\n",
              ".cython.score-233 {background-color: #FFFF0a;}\n",
              ".cython.score-234 {background-color: #FFFF0a;}\n",
              ".cython.score-235 {background-color: #FFFF0a;}\n",
              ".cython.score-236 {background-color: #FFFF0a;}\n",
              ".cython.score-237 {background-color: #FFFF0a;}\n",
              ".cython.score-238 {background-color: #FFFF0a;}\n",
              ".cython.score-239 {background-color: #FFFF0a;}\n",
              ".cython.score-240 {background-color: #FFFF0a;}\n",
              ".cython.score-241 {background-color: #FFFF0a;}\n",
              ".cython.score-242 {background-color: #FFFF0a;}\n",
              ".cython.score-243 {background-color: #FFFF0a;}\n",
              ".cython.score-244 {background-color: #FFFF0a;}\n",
              ".cython.score-245 {background-color: #FFFF0a;}\n",
              ".cython.score-246 {background-color: #FFFF09;}\n",
              ".cython.score-247 {background-color: #FFFF09;}\n",
              ".cython.score-248 {background-color: #FFFF09;}\n",
              ".cython.score-249 {background-color: #FFFF09;}\n",
              ".cython.score-250 {background-color: #FFFF09;}\n",
              ".cython.score-251 {background-color: #FFFF09;}\n",
              ".cython.score-252 {background-color: #FFFF09;}\n",
              ".cython.score-253 {background-color: #FFFF09;}\n",
              ".cython.score-254 {background-color: #FFFF09;}\n",
              ".cython .hll { background-color: #ffffcc }\n",
              ".cython  { background: #f8f8f8; }\n",
              ".cython .c { color: #408080; font-style: italic } /* Comment */\n",
              ".cython .err { border: 1px solid #FF0000 } /* Error */\n",
              ".cython .k { color: #008000; font-weight: bold } /* Keyword */\n",
              ".cython .o { color: #666666 } /* Operator */\n",
              ".cython .ch { color: #408080; font-style: italic } /* Comment.Hashbang */\n",
              ".cython .cm { color: #408080; font-style: italic } /* Comment.Multiline */\n",
              ".cython .cp { color: #BC7A00 } /* Comment.Preproc */\n",
              ".cython .cpf { color: #408080; font-style: italic } /* Comment.PreprocFile */\n",
              ".cython .c1 { color: #408080; font-style: italic } /* Comment.Single */\n",
              ".cython .cs { color: #408080; font-style: italic } /* Comment.Special */\n",
              ".cython .gd { color: #A00000 } /* Generic.Deleted */\n",
              ".cython .ge { font-style: italic } /* Generic.Emph */\n",
              ".cython .gr { color: #FF0000 } /* Generic.Error */\n",
              ".cython .gh { color: #000080; font-weight: bold } /* Generic.Heading */\n",
              ".cython .gi { color: #00A000 } /* Generic.Inserted */\n",
              ".cython .go { color: #888888 } /* Generic.Output */\n",
              ".cython .gp { color: #000080; font-weight: bold } /* Generic.Prompt */\n",
              ".cython .gs { font-weight: bold } /* Generic.Strong */\n",
              ".cython .gu { color: #800080; font-weight: bold } /* Generic.Subheading */\n",
              ".cython .gt { color: #0044DD } /* Generic.Traceback */\n",
              ".cython .kc { color: #008000; font-weight: bold } /* Keyword.Constant */\n",
              ".cython .kd { color: #008000; font-weight: bold } /* Keyword.Declaration */\n",
              ".cython .kn { color: #008000; font-weight: bold } /* Keyword.Namespace */\n",
              ".cython .kp { color: #008000 } /* Keyword.Pseudo */\n",
              ".cython .kr { color: #008000; font-weight: bold } /* Keyword.Reserved */\n",
              ".cython .kt { color: #B00040 } /* Keyword.Type */\n",
              ".cython .m { color: #666666 } /* Literal.Number */\n",
              ".cython .s { color: #BA2121 } /* Literal.String */\n",
              ".cython .na { color: #7D9029 } /* Name.Attribute */\n",
              ".cython .nb { color: #008000 } /* Name.Builtin */\n",
              ".cython .nc { color: #0000FF; font-weight: bold } /* Name.Class */\n",
              ".cython .no { color: #880000 } /* Name.Constant */\n",
              ".cython .nd { color: #AA22FF } /* Name.Decorator */\n",
              ".cython .ni { color: #999999; font-weight: bold } /* Name.Entity */\n",
              ".cython .ne { color: #D2413A; font-weight: bold } /* Name.Exception */\n",
              ".cython .nf { color: #0000FF } /* Name.Function */\n",
              ".cython .nl { color: #A0A000 } /* Name.Label */\n",
              ".cython .nn { color: #0000FF; font-weight: bold } /* Name.Namespace */\n",
              ".cython .nt { color: #008000; font-weight: bold } /* Name.Tag */\n",
              ".cython .nv { color: #19177C } /* Name.Variable */\n",
              ".cython .ow { color: #AA22FF; font-weight: bold } /* Operator.Word */\n",
              ".cython .w { color: #bbbbbb } /* Text.Whitespace */\n",
              ".cython .mb { color: #666666 } /* Literal.Number.Bin */\n",
              ".cython .mf { color: #666666 } /* Literal.Number.Float */\n",
              ".cython .mh { color: #666666 } /* Literal.Number.Hex */\n",
              ".cython .mi { color: #666666 } /* Literal.Number.Integer */\n",
              ".cython .mo { color: #666666 } /* Literal.Number.Oct */\n",
              ".cython .sb { color: #BA2121 } /* Literal.String.Backtick */\n",
              ".cython .sc { color: #BA2121 } /* Literal.String.Char */\n",
              ".cython .sd { color: #BA2121; font-style: italic } /* Literal.String.Doc */\n",
              ".cython .s2 { color: #BA2121 } /* Literal.String.Double */\n",
              ".cython .se { color: #BB6622; font-weight: bold } /* Literal.String.Escape */\n",
              ".cython .sh { color: #BA2121 } /* Literal.String.Heredoc */\n",
              ".cython .si { color: #BB6688; font-weight: bold } /* Literal.String.Interpol */\n",
              ".cython .sx { color: #008000 } /* Literal.String.Other */\n",
              ".cython .sr { color: #BB6688 } /* Literal.String.Regex */\n",
              ".cython .s1 { color: #BA2121 } /* Literal.String.Single */\n",
              ".cython .ss { color: #19177C } /* Literal.String.Symbol */\n",
              ".cython .bp { color: #008000 } /* Name.Builtin.Pseudo */\n",
              ".cython .vc { color: #19177C } /* Name.Variable.Class */\n",
              ".cython .vg { color: #19177C } /* Name.Variable.Global */\n",
              ".cython .vi { color: #19177C } /* Name.Variable.Instance */\n",
              ".cython .il { color: #666666 } /* Literal.Number.Integer.Long */\n",
              "    </style>\n",
              "</head>\n",
              "<body class=\"cython\">\n",
              "<p><span style=\"border-bottom: solid 1px grey;\">Generated by Cython 0.29.21</span></p>\n",
              "<p>\n",
              "    <span style=\"background-color: #FFFF00\">Yellow lines</span> hint at Python interaction.<br />\n",
              "    Click on a line that starts with a \"<code>+</code>\" to see the C code that Cython generated for it.\n",
              "</p>\n",
              "<div class=\"cython\"><pre class=\"cython line score-0\">&#xA0;<span class=\"\">01</span>: <span class=\"k\">from</span> <span class=\"nn\">libc.stdlib</span> <span class=\"k\">cimport</span> <span class=\"n\">rand</span></pre>\n",
              "<pre class=\"cython line score-0\">&#xA0;<span class=\"\">02</span>: <span class=\"k\">cdef</span> <span class=\"kr\">extern</span> <span class=\"k\">from</span> <span class=\"s\">&#39;limits.h&#39;</span><span class=\"p\">:</span></pre>\n",
              "<pre class=\"cython line score-0\">&#xA0;<span class=\"\">03</span>:     <span class=\"nb\">int</span> <span class=\"n\">INT_MAX</span></pre>\n",
              "<pre class=\"cython line score-23\" onclick=\"(function(s){s.display=s.display==='block'?'none':'block'})(this.nextElementSibling.style)\">+<span class=\"\">04</span>: <span class=\"k\">def</span> <span class=\"nf\">mcs_pi_cy2</span><span class=\"p\">(</span><span class=\"nb\">int</span> <span class=\"n\">n</span><span class=\"p\">):</span></pre>\n",
              "<pre class='cython code score-23 '>/* Python wrapper */\n",
              "static PyObject *__pyx_pw_46_cython_magic_2516c94d65d00b07006a97b113267370_1mcs_pi_cy2(PyObject *__pyx_self, PyObject *__pyx_arg_n); /*proto*/\n",
              "static PyMethodDef __pyx_mdef_46_cython_magic_2516c94d65d00b07006a97b113267370_1mcs_pi_cy2 = {\"mcs_pi_cy2\", (PyCFunction)__pyx_pw_46_cython_magic_2516c94d65d00b07006a97b113267370_1mcs_pi_cy2, METH_O, 0};\n",
              "static PyObject *__pyx_pw_46_cython_magic_2516c94d65d00b07006a97b113267370_1mcs_pi_cy2(PyObject *__pyx_self, PyObject *__pyx_arg_n) {\n",
              "  int __pyx_v_n;\n",
              "  PyObject *__pyx_r = 0;\n",
              "  <span class='refnanny'>__Pyx_RefNannyDeclarations</span>\n",
              "  <span class='refnanny'>__Pyx_RefNannySetupContext</span>(\"mcs_pi_cy2 (wrapper)\", 0);\n",
              "  assert(__pyx_arg_n); {\n",
              "    __pyx_v_n = <span class='pyx_c_api'>__Pyx_PyInt_As_int</span>(__pyx_arg_n); if (unlikely((__pyx_v_n == (int)-1) &amp;&amp; <span class='py_c_api'>PyErr_Occurred</span>())) <span class='error_goto'>__PYX_ERR(0, 4, __pyx_L3_error)</span>\n",
              "  }\n",
              "  goto __pyx_L4_argument_unpacking_done;\n",
              "  __pyx_L3_error:;\n",
              "  <span class='pyx_c_api'>__Pyx_AddTraceback</span>(\"_cython_magic_2516c94d65d00b07006a97b113267370.mcs_pi_cy2\", __pyx_clineno, __pyx_lineno, __pyx_filename);\n",
              "  <span class='refnanny'>__Pyx_RefNannyFinishContext</span>();\n",
              "  return NULL;\n",
              "  __pyx_L4_argument_unpacking_done:;\n",
              "  __pyx_r = __pyx_pf_46_cython_magic_2516c94d65d00b07006a97b113267370_mcs_pi_cy2(__pyx_self, ((int)__pyx_v_n));\n",
              "  int __pyx_lineno = 0;\n",
              "  const char *__pyx_filename = NULL;\n",
              "  int __pyx_clineno = 0;\n",
              "\n",
              "  /* function exit code */\n",
              "  <span class='refnanny'>__Pyx_RefNannyFinishContext</span>();\n",
              "  return __pyx_r;\n",
              "}\n",
              "\n",
              "static PyObject *__pyx_pf_46_cython_magic_2516c94d65d00b07006a97b113267370_mcs_pi_cy2(CYTHON_UNUSED PyObject *__pyx_self, int __pyx_v_n) {\n",
              "  CYTHON_UNUSED int __pyx_v_i;\n",
              "  int __pyx_v_circle;\n",
              "  float __pyx_v_x;\n",
              "  float __pyx_v_y;\n",
              "  PyObject *__pyx_r = NULL;\n",
              "  <span class='refnanny'>__Pyx_RefNannyDeclarations</span>\n",
              "  <span class='refnanny'>__Pyx_RefNannySetupContext</span>(\"mcs_pi_cy2\", 0);\n",
              "/* … */\n",
              "  /* function exit code */\n",
              "  __pyx_L1_error:;\n",
              "  <span class='pyx_macro_api'>__Pyx_XDECREF</span>(__pyx_t_9);\n",
              "  <span class='pyx_c_api'>__Pyx_AddTraceback</span>(\"_cython_magic_2516c94d65d00b07006a97b113267370.mcs_pi_cy2\", __pyx_clineno, __pyx_lineno, __pyx_filename);\n",
              "  __pyx_r = NULL;\n",
              "  __pyx_L0:;\n",
              "  <span class='refnanny'>__Pyx_XGIVEREF</span>(__pyx_r);\n",
              "  <span class='refnanny'>__Pyx_RefNannyFinishContext</span>();\n",
              "  return __pyx_r;\n",
              "}\n",
              "/* … */\n",
              "  __pyx_tuple_ = <span class='py_c_api'>PyTuple_Pack</span>(6, __pyx_n_s_n, __pyx_n_s_n, __pyx_n_s_i, __pyx_n_s_circle, __pyx_n_s_x, __pyx_n_s_y);<span class='error_goto'> if (unlikely(!__pyx_tuple_)) __PYX_ERR(0, 4, __pyx_L1_error)</span>\n",
              "  <span class='refnanny'>__Pyx_GOTREF</span>(__pyx_tuple_);\n",
              "  <span class='refnanny'>__Pyx_GIVEREF</span>(__pyx_tuple_);\n",
              "/* … */\n",
              "  __pyx_t_1 = PyCFunction_NewEx(&amp;__pyx_mdef_46_cython_magic_2516c94d65d00b07006a97b113267370_1mcs_pi_cy2, NULL, __pyx_n_s_cython_magic_2516c94d65d00b0700);<span class='error_goto'> if (unlikely(!__pyx_t_1)) __PYX_ERR(0, 4, __pyx_L1_error)</span>\n",
              "  <span class='refnanny'>__Pyx_GOTREF</span>(__pyx_t_1);\n",
              "  if (<span class='py_c_api'>PyDict_SetItem</span>(__pyx_d, __pyx_n_s_mcs_pi_cy2, __pyx_t_1) &lt; 0) <span class='error_goto'>__PYX_ERR(0, 4, __pyx_L1_error)</span>\n",
              "  <span class='pyx_macro_api'>__Pyx_DECREF</span>(__pyx_t_1); __pyx_t_1 = 0;\n",
              "</pre><pre class=\"cython line score-0\" onclick=\"(function(s){s.display=s.display==='block'?'none':'block'})(this.nextElementSibling.style)\">+<span class=\"\">05</span>:     <span class=\"k\">cdef</span> <span class=\"kt\">int</span> <span class=\"nf\">i</span><span class=\"p\">,</span> <span class=\"nf\">circle</span> <span class=\"o\">=</span> <span class=\"mf\">0</span></pre>\n",
              "<pre class='cython code score-0 '>  __pyx_v_circle = 0;\n",
              "</pre><pre class=\"cython line score-0\">&#xA0;<span class=\"\">06</span>:     <span class=\"k\">cdef</span> <span class=\"kt\">float</span> <span class=\"nf\">x</span><span class=\"p\">,</span> <span class=\"nf\">y</span></pre>\n",
              "<pre class=\"cython line score-0\" onclick=\"(function(s){s.display=s.display==='block'?'none':'block'})(this.nextElementSibling.style)\">+<span class=\"\">07</span>:     <span class=\"k\">for</span> <span class=\"n\">i</span> <span class=\"ow\">in</span> <span class=\"nb\">range</span><span class=\"p\">(</span><span class=\"n\">n</span><span class=\"p\">):</span></pre>\n",
              "<pre class='cython code score-0 '>  __pyx_t_1 = __pyx_v_n;\n",
              "  __pyx_t_2 = __pyx_t_1;\n",
              "  for (__pyx_t_3 = 0; __pyx_t_3 &lt; __pyx_t_2; __pyx_t_3+=1) {\n",
              "    __pyx_v_i = __pyx_t_3;\n",
              "</pre><pre class=\"cython line score-10\" onclick=\"(function(s){s.display=s.display==='block'?'none':'block'})(this.nextElementSibling.style)\">+<span class=\"\">08</span>:         <span class=\"n\">x</span><span class=\"p\">,</span> <span class=\"n\">y</span> <span class=\"o\">=</span> <span class=\"n\">rand</span><span class=\"p\">()</span> <span class=\"o\">/</span> <span class=\"n\">INT_MAX</span><span class=\"p\">,</span> <span class=\"n\">rand</span><span class=\"p\">()</span> <span class=\"o\">/</span> <span class=\"n\">INT_MAX</span></pre>\n",
              "<pre class='cython code score-10 '>    __pyx_t_4 = rand();\n",
              "    if (unlikely(INT_MAX == 0)) {\n",
              "      <span class='py_c_api'>PyErr_SetString</span>(PyExc_ZeroDivisionError, \"float division\");\n",
              "      <span class='error_goto'>__PYX_ERR(0, 8, __pyx_L1_error)</span>\n",
              "    }\n",
              "    __pyx_t_5 = (((double)__pyx_t_4) / ((double)INT_MAX));\n",
              "    __pyx_t_4 = rand();\n",
              "    if (unlikely(INT_MAX == 0)) {\n",
              "      <span class='py_c_api'>PyErr_SetString</span>(PyExc_ZeroDivisionError, \"float division\");\n",
              "      <span class='error_goto'>__PYX_ERR(0, 8, __pyx_L1_error)</span>\n",
              "    }\n",
              "    __pyx_t_6 = (((double)__pyx_t_4) / ((double)INT_MAX));\n",
              "    __pyx_v_x = __pyx_t_5;\n",
              "    __pyx_v_y = __pyx_t_6;\n",
              "</pre><pre class=\"cython line score-0\" onclick=\"(function(s){s.display=s.display==='block'?'none':'block'})(this.nextElementSibling.style)\">+<span class=\"\">09</span>:         <span class=\"k\">if</span> <span class=\"p\">(</span><span class=\"n\">x</span> <span class=\"o\">**</span> <span class=\"mf\">2</span> <span class=\"o\">+</span> <span class=\"n\">y</span> <span class=\"o\">**</span> <span class=\"mf\">2</span><span class=\"p\">)</span> <span class=\"o\">**</span> <span class=\"mf\">0.5</span> <span class=\"o\">&lt;=</span> <span class=\"mf\">1</span><span class=\"p\">:</span></pre>\n",
              "<pre class='cython code score-0 '>    __pyx_t_7 = ((pow(((double)(powf(__pyx_v_x, 2.0) + powf(__pyx_v_y, 2.0))), 0.5) &lt;= 1.0) != 0);\n",
              "    if (__pyx_t_7) {\n",
              "/* … */\n",
              "    }\n",
              "  }\n",
              "</pre><pre class=\"cython line score-0\" onclick=\"(function(s){s.display=s.display==='block'?'none':'block'})(this.nextElementSibling.style)\">+<span class=\"\">10</span>:             <span class=\"n\">circle</span> <span class=\"o\">+=</span> <span class=\"mf\">1</span></pre>\n",
              "<pre class='cython code score-0 '>      __pyx_v_circle = (__pyx_v_circle + 1);\n",
              "</pre><pre class=\"cython line score-11\" onclick=\"(function(s){s.display=s.display==='block'?'none':'block'})(this.nextElementSibling.style)\">+<span class=\"\">11</span>:     <span class=\"k\">return</span> <span class=\"p\">(</span><span class=\"mf\">4</span> <span class=\"o\">*</span> <span class=\"n\">circle</span><span class=\"p\">)</span> <span class=\"o\">/</span> <span class=\"n\">n</span></pre>\n",
              "<pre class='cython code score-11 '>  <span class='pyx_macro_api'>__Pyx_XDECREF</span>(__pyx_r);\n",
              "  __pyx_t_8 = (4 * __pyx_v_circle);\n",
              "  if (unlikely(__pyx_v_n == 0)) {\n",
              "    <span class='py_c_api'>PyErr_SetString</span>(PyExc_ZeroDivisionError, \"float division\");\n",
              "    <span class='error_goto'>__PYX_ERR(0, 11, __pyx_L1_error)</span>\n",
              "  }\n",
              "  __pyx_t_9 = <span class='py_c_api'>PyFloat_FromDouble</span>((((double)__pyx_t_8) / ((double)__pyx_v_n)));<span class='error_goto'> if (unlikely(!__pyx_t_9)) __PYX_ERR(0, 11, __pyx_L1_error)</span>\n",
              "  <span class='refnanny'>__Pyx_GOTREF</span>(__pyx_t_9);\n",
              "  __pyx_r = __pyx_t_9;\n",
              "  __pyx_t_9 = 0;\n",
              "  goto __pyx_L0;\n",
              "</pre></div></body></html>"
            ],
            "text/plain": [
              "<IPython.core.display.HTML object>"
            ]
          },
          "metadata": {
            "tags": []
          },
          "execution_count": 74
        }
      ]
    },
    {
      "cell_type": "code",
      "metadata": {
        "id": "a8h9bEMZ7Xao",
        "colab_type": "code",
        "colab": {
          "base_uri": "https://localhost:8080/",
          "height": 69
        },
        "outputId": "d9edd915-409a-4091-c537-bf559d7535fa"
      },
      "source": [
        "%time mcs_pi_cy2(n)"
      ],
      "execution_count": 75,
      "outputs": [
        {
          "output_type": "stream",
          "text": [
            "CPU times: user 1.18 s, sys: 3.82 ms, total: 1.18 s\n",
            "Wall time: 1.19 s\n"
          ],
          "name": "stdout"
        },
        {
          "output_type": "execute_result",
          "data": {
            "text/plain": [
              "3.14129"
            ]
          },
          "metadata": {
            "tags": []
          },
          "execution_count": 75
        }
      ]
    },
    {
      "cell_type": "markdown",
      "metadata": {
        "id": "oBwVT3NR9EhA",
        "colab_type": "text"
      },
      "source": [
        "***Binomial Trees -*** \n",
        "Python implementation that creates a\n",
        "recombining tree based on some fixed numerical parameters for the model:"
      ]
    },
    {
      "cell_type": "code",
      "metadata": {
        "id": "Dlw8El3z71Rg",
        "colab_type": "code",
        "colab": {}
      },
      "source": [
        "import math\n",
        "\n",
        "#Initial value of the risky asset.\n",
        "S0 = 36.\n",
        "#Time horizon for the binomial tree simulation.     \n",
        "T = 1.0\n",
        "#Constant short rate.\n",
        "r = 0.06\n",
        "#Constant volatility factor.\n",
        "sigma = 0.2 \n",
        "\n",
        "def simulate_tree(M):\n",
        "    #Length of the time intervals.\n",
        "    dt = T / M\n",
        "    #Factors for the upward and downward movements.\n",
        "    u = math.exp(sigma * math.sqrt(dt))\n",
        "    d = 1 / u\n",
        "    S = np.zeros((M + 1, M + 1))\n",
        "    S[0, 0] = S0\n",
        "    z = 1\n",
        "    for t in range(1, M + 1):\n",
        "        for i in range(z):\n",
        "            S[i, t] = S[i, t-1] * u\n",
        "            S[i+1, t] = S[i, t-1] * d\n",
        "        z += 1\n",
        "    return S"
      ],
      "execution_count": 76,
      "outputs": []
    },
    {
      "cell_type": "markdown",
      "metadata": {
        "id": "EyxLmRNOBfA3",
        "colab_type": "text"
      },
      "source": [
        "Contrary to what happens in typical tree plots, an upward movement is\n",
        "represented in the ndarray object as a sideways movement, which decreases the ndarray size considerably:"
      ]
    },
    {
      "cell_type": "code",
      "metadata": {
        "id": "kiJE0TslBI9m",
        "colab_type": "code",
        "colab": {
          "base_uri": "https://localhost:8080/",
          "height": 104
        },
        "outputId": "db20818d-552a-406e-9a1a-b5e48acba860"
      },
      "source": [
        "np.set_printoptions(formatter = {'float' : lambda x : '%6.2f' % x})\n",
        "#Tree with 4 time intervals\n",
        "simulate_tree(4)"
      ],
      "execution_count": 77,
      "outputs": [
        {
          "output_type": "execute_result",
          "data": {
            "text/plain": [
              "array([[ 36.00,  39.79,  43.97,  48.59,  53.71],\n",
              "       [  0.00,  32.57,  36.00,  39.79,  43.97],\n",
              "       [  0.00,   0.00,  29.47,  32.57,  36.00],\n",
              "       [  0.00,   0.00,   0.00,  26.67,  29.47],\n",
              "       [  0.00,   0.00,   0.00,   0.00,  24.13]])"
            ]
          },
          "metadata": {
            "tags": []
          },
          "execution_count": 77
        }
      ]
    },
    {
      "cell_type": "code",
      "metadata": {
        "id": "UR70Eys5Mktc",
        "colab_type": "code",
        "colab": {
          "base_uri": "https://localhost:8080/",
          "height": 173
        },
        "outputId": "e61321f9-8393-4adf-ffcc-d0885b1313ee"
      },
      "source": [
        "%time simulate_tree(500)"
      ],
      "execution_count": 78,
      "outputs": [
        {
          "output_type": "stream",
          "text": [
            "CPU times: user 131 ms, sys: 1.93 ms, total: 133 ms\n",
            "Wall time: 144 ms\n"
          ],
          "name": "stdout"
        },
        {
          "output_type": "execute_result",
          "data": {
            "text/plain": [
              "array([[ 36.00,  36.32,  36.65, ..., 3095.69, 3123.50, 3151.57],\n",
              "       [  0.00,  35.68,  36.00, ..., 3040.81, 3068.13, 3095.69],\n",
              "       [  0.00,   0.00,  35.36, ..., 2986.89, 3013.73, 3040.81],\n",
              "       ...,\n",
              "       [  0.00,   0.00,   0.00, ...,   0.42,   0.42,   0.43],\n",
              "       [  0.00,   0.00,   0.00, ...,   0.00,   0.41,   0.42],\n",
              "       [  0.00,   0.00,   0.00, ...,   0.00,   0.00,   0.41]])"
            ]
          },
          "metadata": {
            "tags": []
          },
          "execution_count": 78
        }
      ]
    },
    {
      "cell_type": "markdown",
      "metadata": {
        "id": "rQ8Mr64biiDH",
        "colab_type": "text"
      },
      "source": [
        "NumPy - \n",
        "With some trickery, such a binomial tree can be created with NumPy based\n",
        "on fully vectorized code:"
      ]
    },
    {
      "cell_type": "code",
      "metadata": {
        "id": "nayPdEzlicWL",
        "colab_type": "code",
        "colab": {
          "base_uri": "https://localhost:8080/",
          "height": 104
        },
        "outputId": "9c254e2e-a022-439b-dbf8-08d466ea0896"
      },
      "source": [
        "M = 4\n",
        "up = np.arange(M + 1)\n",
        "#ndarray object with gross upward movements.\n",
        "up = np.resize(up, (M + 1, M + 1))\n",
        "up"
      ],
      "execution_count": 79,
      "outputs": [
        {
          "output_type": "execute_result",
          "data": {
            "text/plain": [
              "array([[0, 1, 2, 3, 4],\n",
              "       [0, 1, 2, 3, 4],\n",
              "       [0, 1, 2, 3, 4],\n",
              "       [0, 1, 2, 3, 4],\n",
              "       [0, 1, 2, 3, 4]])"
            ]
          },
          "metadata": {
            "tags": []
          },
          "execution_count": 79
        }
      ]
    },
    {
      "cell_type": "code",
      "metadata": {
        "id": "FxsA-Lp4iuXx",
        "colab_type": "code",
        "colab": {
          "base_uri": "https://localhost:8080/",
          "height": 104
        },
        "outputId": "7025a231-3846-404c-9302-c83cd2f7611f"
      },
      "source": [
        "#ndarray object with gross downward movements.\n",
        "down = up.T * 2\n",
        "down"
      ],
      "execution_count": 80,
      "outputs": [
        {
          "output_type": "execute_result",
          "data": {
            "text/plain": [
              "array([[0, 0, 0, 0, 0],\n",
              "       [2, 2, 2, 2, 2],\n",
              "       [4, 4, 4, 4, 4],\n",
              "       [6, 6, 6, 6, 6],\n",
              "       [8, 8, 8, 8, 8]])"
            ]
          },
          "metadata": {
            "tags": []
          },
          "execution_count": 80
        }
      ]
    },
    {
      "cell_type": "code",
      "metadata": {
        "id": "qX6Ix-4ejK6n",
        "colab_type": "code",
        "colab": {
          "base_uri": "https://localhost:8080/",
          "height": 104
        },
        "outputId": "afc4bf94-6035-4dbf-c44b-512ae826339c"
      },
      "source": [
        "#ondarray bject with net upward (positive) and downward (negative) movements.\n",
        "up - down"
      ],
      "execution_count": 81,
      "outputs": [
        {
          "output_type": "execute_result",
          "data": {
            "text/plain": [
              "array([[ 0,  1,  2,  3,  4],\n",
              "       [-2, -1,  0,  1,  2],\n",
              "       [-4, -3, -2, -1,  0],\n",
              "       [-6, -5, -4, -3, -2],\n",
              "       [-8, -7, -6, -5, -4]])"
            ]
          },
          "metadata": {
            "tags": []
          },
          "execution_count": 81
        }
      ]
    },
    {
      "cell_type": "code",
      "metadata": {
        "id": "c5MJAPTYjPSt",
        "colab_type": "code",
        "colab": {
          "base_uri": "https://localhost:8080/",
          "height": 104
        },
        "outputId": "3af5c30a-9a72-41e9-ccc1-32edb6bb33e9"
      },
      "source": [
        "dt = T / M\n",
        "#Tree for four time intervals (upper-right triangle of values).\n",
        "S0 * np.exp(sigma * math.sqrt(dt) * (up - down))"
      ],
      "execution_count": 82,
      "outputs": [
        {
          "output_type": "execute_result",
          "data": {
            "text/plain": [
              "array([[ 36.00,  39.79,  43.97,  48.59,  53.71],\n",
              "       [ 29.47,  32.57,  36.00,  39.79,  43.97],\n",
              "       [ 24.13,  26.67,  29.47,  32.57,  36.00],\n",
              "       [ 19.76,  21.84,  24.13,  26.67,  29.47],\n",
              "       [ 16.18,  17.88,  19.76,  21.84,  24.13]])"
            ]
          },
          "metadata": {
            "tags": []
          },
          "execution_count": 82
        }
      ]
    },
    {
      "cell_type": "markdown",
      "metadata": {
        "id": "OQa2wZ1YlGyY",
        "colab_type": "text"
      },
      "source": [
        "In the NumPy case, the code is a bit more compact. However, more\n",
        "importantly, NumPy vectorization achieves a speedup of an order of\n",
        "magnitude while not using more memory:"
      ]
    },
    {
      "cell_type": "markdown",
      "metadata": {
        "id": "vQn582Vmxcvs",
        "colab_type": "text"
      },
      "source": [
        "***Monte Carlo Simulation -***\n",
        "First, a Python — or rather a hybrid — version, mcs_simulation_py() , that\n",
        "implements the Monte Carlo simulation according to Equation 10-2. It is\n",
        "hybrid since it implements Python loops on ndarray objects. As seen\n",
        "previously, this might make for a good basis to dynamically compile the\n",
        "code with Numba . As before, the execution time sets the benchmark. Based\n",
        "on the simulation, a European put option is valued:"
      ]
    },
    {
      "cell_type": "code",
      "metadata": {
        "id": "POBNNFihjk5y",
        "colab_type": "code",
        "colab": {}
      },
      "source": [
        "#The number of time intervals for discretization.\n",
        "M = 100\n",
        "#The number of paths to be simulated.\n",
        "I = 50000\n",
        "\n",
        "def mcs_simulation_py(p):\n",
        "    M, I = p\n",
        "    dt = T / M\n",
        "    S = np.zeros((M + 1, I))\n",
        "    S[0] = S0\n",
        "    rn = np.random.standard_normal(S.shape)\n",
        "    #The nested loop implementing the simulation based on the Euler scheme.\n",
        "    for t in range(1, M + 1):\n",
        "        for i in range(I):\n",
        "            S[t, i] = S[t - 1, i] * math.exp((r - sigma ** 2 / 2) * dt + sigma * math.sqrt(dt) * rn[t, i])\n",
        "    return S"
      ],
      "execution_count": 83,
      "outputs": []
    },
    {
      "cell_type": "code",
      "metadata": {
        "id": "WtHE1PBLzHsc",
        "colab_type": "code",
        "colab": {
          "base_uri": "https://localhost:8080/",
          "height": 52
        },
        "outputId": "d091cf64-24c4-43df-b94c-56ce65c5e857"
      },
      "source": [
        "%time S = mcs_simulation_py((M, I))"
      ],
      "execution_count": 84,
      "outputs": [
        {
          "output_type": "stream",
          "text": [
            "CPU times: user 6.81 s, sys: 3.67 ms, total: 6.81 s\n",
            "Wall time: 6.82 s\n"
          ],
          "name": "stdout"
        }
      ]
    },
    {
      "cell_type": "code",
      "metadata": {
        "id": "w6m_YX8izL13",
        "colab_type": "code",
        "colab": {
          "base_uri": "https://localhost:8080/",
          "height": 34
        },
        "outputId": "afa3360b-9ae0-4321-ec87-7fc22eb73d5e"
      },
      "source": [
        "#The mean end-of-period value based on the simulation.\n",
        "S[-1].mean()"
      ],
      "execution_count": 85,
      "outputs": [
        {
          "output_type": "execute_result",
          "data": {
            "text/plain": [
              "38.216252147024825"
            ]
          },
          "metadata": {
            "tags": []
          },
          "execution_count": 85
        }
      ]
    },
    {
      "cell_type": "code",
      "metadata": {
        "id": "QgCS4oDLzOXg",
        "colab_type": "code",
        "colab": {
          "base_uri": "https://localhost:8080/",
          "height": 34
        },
        "outputId": "9f500d84-d949-424c-899c-592e99787c74"
      },
      "source": [
        "#The theoretically expected end-of-period value.\n",
        "S0 * math.exp(r * T)"
      ],
      "execution_count": 86,
      "outputs": [
        {
          "output_type": "execute_result",
          "data": {
            "text/plain": [
              "38.22611567563295"
            ]
          },
          "metadata": {
            "tags": []
          },
          "execution_count": 86
        }
      ]
    },
    {
      "cell_type": "code",
      "metadata": {
        "id": "dzQ6HgsKzR87",
        "colab_type": "code",
        "colab": {}
      },
      "source": [
        "#The strike price of the European put option.\n",
        "K = 40."
      ],
      "execution_count": 87,
      "outputs": []
    },
    {
      "cell_type": "code",
      "metadata": {
        "id": "zqWgcsTQzhDj",
        "colab_type": "code",
        "colab": {}
      },
      "source": [
        "#The Monte Carlo estimator for the option\n",
        "C0 = math.exp(-r * T) * np.maximum(K - S[-1], 0).mean()"
      ],
      "execution_count": 88,
      "outputs": []
    },
    {
      "cell_type": "code",
      "metadata": {
        "id": "QTfzB6531erU",
        "colab_type": "code",
        "colab": {
          "base_uri": "https://localhost:8080/",
          "height": 34
        },
        "outputId": "e7cc9664-90e7-4519-b14d-e0483e1a7bd5"
      },
      "source": [
        "C0"
      ],
      "execution_count": 89,
      "outputs": [
        {
          "output_type": "execute_result",
          "data": {
            "text/plain": [
              "3.856940383669107"
            ]
          },
          "metadata": {
            "tags": []
          },
          "execution_count": 89
        }
      ]
    },
    {
      "cell_type": "code",
      "metadata": {
        "id": "GboQ9Xtl1fAV",
        "colab_type": "code",
        "colab": {
          "resources": {
            "http://localhost:8080/nbextensions/google.colab/files.js": {
              "data": "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",
              "ok": true,
              "headers": [
                [
                  "content-type",
                  "application/javascript"
                ]
              ],
              "status": 200,
              "status_text": "OK"
            }
          },
          "base_uri": "https://localhost:8080/",
          "height": 77
        },
        "outputId": "26c212d6-e6af-479c-9182-66a526d15ca1"
      },
      "source": [
        "from google.colab import files\n",
        "uploaded = files.upload()"
      ],
      "execution_count": 90,
      "outputs": [
        {
          "output_type": "display_data",
          "data": {
            "text/html": [
              "\n",
              "     <input type=\"file\" id=\"files-112c0180-04f8-4277-9a0c-24f252f78d8c\" name=\"files[]\" multiple disabled\n",
              "        style=\"border:none\" />\n",
              "     <output id=\"result-112c0180-04f8-4277-9a0c-24f252f78d8c\">\n",
              "      Upload widget is only available when the cell has been executed in the\n",
              "      current browser session. Please rerun this cell to enable.\n",
              "      </output>\n",
              "      <script src=\"/nbextensions/google.colab/files.js\"></script> "
            ],
            "text/plain": [
              "<IPython.core.display.HTML object>"
            ]
          },
          "metadata": {
            "tags": []
          }
        },
        {
          "output_type": "stream",
          "text": [
            "Saving tr_eikon_eod_data.csv to tr_eikon_eod_data.csv\n"
          ],
          "name": "stdout"
        }
      ]
    },
    {
      "cell_type": "code",
      "metadata": {
        "id": "zBnvpB8l53G9",
        "colab_type": "code",
        "colab": {}
      },
      "source": [
        "import pandas as pd\n",
        "import io\n",
        "#Specifies that the first column shall be handled as an index.\n",
        "#Specifies that the index values are of type datetime .\n",
        "sym = 'SPY'\n",
        "data = pd.DataFrame(pd.read_csv(io.BytesIO(uploaded['tr_eikon_eod_data.csv']), index_col = 0, parse_dates=True)[sym]).dropna()"
      ],
      "execution_count": 100,
      "outputs": []
    },
    {
      "cell_type": "markdown",
      "metadata": {
        "id": "Sbd3SNCN6Oic",
        "colab_type": "text"
      },
      "source": [
        "***Recursive pandas Algorithm -***\n",
        "This section addresses a somewhat special topic which is, however, an\n",
        "important one in financial analytics: the implementation of recursive\n",
        "functions on financial time series data stored in a pandas DataFrame object.\n",
        "While pandas allows for sophisticated vectorized operations on DataFrame\n",
        "objects, certain recursive algorithms are hard or impossible to vectorize,\n",
        "leaving the financial analyst with slowly executed Python loops on\n",
        "DataFrame objects. The examples that follow implement what is called the\n",
        "***exponentially weighted moving average (EWMA)***in a simple form."
      ]
    },
    {
      "cell_type": "markdown",
      "metadata": {
        "id": "sQLeduQD6QuM",
        "colab_type": "text"
      },
      "source": [
        "Consider first the Python version that iterates over the DatetimeIndex of a\n",
        "DataFrame object containing financial time series data for a single financial\n",
        "instrument. "
      ]
    },
    {
      "cell_type": "code",
      "metadata": {
        "id": "V7PLJul96G3v",
        "colab_type": "code",
        "colab": {}
      },
      "source": [
        "alpha = 0.25\n",
        "#Initializes the EWMA column.\n",
        "data['EWMA'] = data[sym]"
      ],
      "execution_count": 101,
      "outputs": []
    },
    {
      "cell_type": "code",
      "metadata": {
        "id": "dCqzfU2H74hn",
        "colab_type": "code",
        "colab": {
          "base_uri": "https://localhost:8080/",
          "height": 52
        },
        "outputId": "c4538494-06c7-4063-bc97-133beb5eb655"
      },
      "source": [
        "%%time\n",
        "for t in zip(data.index, data.index[1:]):\n",
        "    data.loc[t[1], 'EWMA'] = (alpha * data.loc[t[1], sym] + (1 - alpha) * data.loc[t[0], 'EWMA'])"
      ],
      "execution_count": 105,
      "outputs": [
        {
          "output_type": "stream",
          "text": [
            "CPU times: user 800 ms, sys: 38.9 ms, total: 839 ms\n",
            "Wall time: 784 ms\n"
          ],
          "name": "stdout"
        }
      ]
    },
    {
      "cell_type": "code",
      "metadata": {
        "id": "NOunX1C17UtJ",
        "colab_type": "code",
        "colab": {
          "base_uri": "https://localhost:8080/",
          "height": 237
        },
        "outputId": "0b02ab79-1978-45c0-e27c-82a9a23ebbef"
      },
      "source": [
        "data.head()"
      ],
      "execution_count": 106,
      "outputs": [
        {
          "output_type": "execute_result",
          "data": {
            "text/html": [
              "<div>\n",
              "<style scoped>\n",
              "    .dataframe tbody tr th:only-of-type {\n",
              "        vertical-align: middle;\n",
              "    }\n",
              "\n",
              "    .dataframe tbody tr th {\n",
              "        vertical-align: top;\n",
              "    }\n",
              "\n",
              "    .dataframe thead th {\n",
              "        text-align: right;\n",
              "    }\n",
              "</style>\n",
              "<table border=\"1\" class=\"dataframe\">\n",
              "  <thead>\n",
              "    <tr style=\"text-align: right;\">\n",
              "      <th></th>\n",
              "      <th>SPY</th>\n",
              "      <th>EWMA</th>\n",
              "    </tr>\n",
              "    <tr>\n",
              "      <th>Date</th>\n",
              "      <th></th>\n",
              "      <th></th>\n",
              "    </tr>\n",
              "  </thead>\n",
              "  <tbody>\n",
              "    <tr>\n",
              "      <th>2010-01-04</th>\n",
              "      <td>113.33</td>\n",
              "      <td>113.330000</td>\n",
              "    </tr>\n",
              "    <tr>\n",
              "      <th>2010-01-05</th>\n",
              "      <td>113.63</td>\n",
              "      <td>113.405000</td>\n",
              "    </tr>\n",
              "    <tr>\n",
              "      <th>2010-01-06</th>\n",
              "      <td>113.71</td>\n",
              "      <td>113.481250</td>\n",
              "    </tr>\n",
              "    <tr>\n",
              "      <th>2010-01-07</th>\n",
              "      <td>114.19</td>\n",
              "      <td>113.658438</td>\n",
              "    </tr>\n",
              "    <tr>\n",
              "      <th>2010-01-08</th>\n",
              "      <td>114.57</td>\n",
              "      <td>113.886328</td>\n",
              "    </tr>\n",
              "  </tbody>\n",
              "</table>\n",
              "</div>"
            ],
            "text/plain": [
              "               SPY        EWMA\n",
              "Date                          \n",
              "2010-01-04  113.33  113.330000\n",
              "2010-01-05  113.63  113.405000\n",
              "2010-01-06  113.71  113.481250\n",
              "2010-01-07  114.19  113.658438\n",
              "2010-01-08  114.57  113.886328"
            ]
          },
          "metadata": {
            "tags": []
          },
          "execution_count": 106
        }
      ]
    },
    {
      "cell_type": "code",
      "metadata": {
        "id": "oDV3wI2Q7nGd",
        "colab_type": "code",
        "colab": {
          "base_uri": "https://localhost:8080/",
          "height": 374
        },
        "outputId": "4de1fe82-5cf4-4615-b68f-ac4f32668e37"
      },
      "source": [
        "data[data.index > '2017-01-01'].plot(figsize = (10, 6));"
      ],
      "execution_count": 108,
      "outputs": [
        {
          "output_type": "display_data",
          "data": {
            "image/png": "[encoded data removed]",
            "text/plain": [
              "<Figure size 720x432 with 1 Axes>"
            ]
          },
          "metadata": {
            "tags": [],
            "needs_background": "light"
          }
        }
      ]
    },
    {
      "cell_type": "markdown",
      "metadata": {
        "id": "SFrGSPZAIsaE",
        "colab_type": "text"
      },
      "source": [
        "Now consider more general Python function ewma_py() . It can be applied\n",
        "directly on the column or the raw financial times series data in the form of\n",
        "an ndarray object:"
      ]
    },
    {
      "cell_type": "code",
      "metadata": {
        "id": "k2V_bxBL8Exw",
        "colab_type": "code",
        "colab": {}
      },
      "source": [
        "def ewma_py(x, alpha):\n",
        "    y = np.zeros_like(x)\n",
        "    y[0] = x[0]\n",
        "    for i in range(1, len(x)):\n",
        "        y[i] = alpha * x[i] + (1 - alpha) * y[i-1]\n",
        "    return y[i]"
      ],
      "execution_count": 109,
      "outputs": []
    },
    {
      "cell_type": "code",
      "metadata": {
        "id": "x8ZJLwW9JLM7",
        "colab_type": "code",
        "colab": {
          "base_uri": "https://localhost:8080/",
          "height": 52
        },
        "outputId": "c4e3f63c-dc0a-4e82-c0df-1ca42fc72e9c"
      },
      "source": [
        "#Applies the function to the Series object directly (i.e., the column).\n",
        "%time data['EWMA_PY'] = ewma_py(data[sym], alpha)"
      ],
      "execution_count": 110,
      "outputs": [
        {
          "output_type": "stream",
          "text": [
            "CPU times: user 49.6 ms, sys: 927 µs, total: 50.6 ms\n",
            "Wall time: 55.5 ms\n"
          ],
          "name": "stdout"
        }
      ]
    },
    {
      "cell_type": "code",
      "metadata": {
        "id": "06c0yBWCJQ5h",
        "colab_type": "code",
        "colab": {
          "base_uri": "https://localhost:8080/",
          "height": 52
        },
        "outputId": "4ae7f871-3bd3-46dd-abc1-c94733e926c6"
      },
      "source": [
        "#Applies the function to the ndarray object containing the raw data.\n",
        "%time data['EWMA_PY'] = ewma_py(data[sym].values, alpha)"
      ],
      "execution_count": 112,
      "outputs": [
        {
          "output_type": "stream",
          "text": [
            "CPU times: user 3.51 ms, sys: 0 ns, total: 3.51 ms\n",
            "Wall time: 4.08 ms\n"
          ],
          "name": "stdout"
        }
      ]
    },
    {
      "cell_type": "markdown",
      "metadata": {
        "id": "-ENHVOKmJfiI",
        "colab_type": "text"
      },
      "source": [
        "This approach already speeds up the code execution considerably — by a\n",
        "factor of from about 20 to more than 100\n",
        "\n",
        "Numba\n",
        "The very structure of this algorithm promises further speedups when\n",
        "applying Numba . And indeed, when the function ewma_nb() is applied to the\n",
        "ndarray version of the data, the speedup is again by an order of magnitude:"
      ]
    },
    {
      "cell_type": "code",
      "metadata": {
        "id": "jnv45J0OJUNr",
        "colab_type": "code",
        "colab": {}
      },
      "source": [
        "ewma_nb = numba.jit(ewma_py)"
      ],
      "execution_count": 113,
      "outputs": []
    },
    {
      "cell_type": "code",
      "metadata": {
        "id": "oyS_68_PJvmS",
        "colab_type": "code",
        "colab": {
          "base_uri": "https://localhost:8080/",
          "height": 34
        },
        "outputId": "45d9ebc2-1684-40ad-8f41-dff666865522"
      },
      "source": [
        "%timeit data['EWMA_NB'] = ewma_nb(data[sym], alpha)"
      ],
      "execution_count": 115,
      "outputs": [
        {
          "output_type": "stream",
          "text": [
            "10 loops, best of 3: 42.8 ms per loop\n"
          ],
          "name": "stdout"
        }
      ]
    },
    {
      "cell_type": "code",
      "metadata": {
        "id": "7KRQ59_vJwFD",
        "colab_type": "code",
        "colab": {
          "base_uri": "https://localhost:8080/",
          "height": 52
        },
        "outputId": "6f67545f-e1bc-4d34-8a73-7ce3a62b58a8"
      },
      "source": [
        "%time data['EWMA_NB'] = ewma_nb(data[sym].values, alpha)"
      ],
      "execution_count": 116,
      "outputs": [
        {
          "output_type": "stream",
          "text": [
            "CPU times: user 139 ms, sys: 3.83 ms, total: 143 ms\n",
            "Wall time: 142 ms\n"
          ],
          "name": "stdout"
        }
      ]
    },
    {
      "cell_type": "code",
      "metadata": {
        "id": "x54oK7DgJ-C9",
        "colab_type": "code",
        "colab": {
          "base_uri": "https://localhost:8080/",
          "height": 52
        },
        "outputId": "8321339b-2902-43d0-ec13-47a710c79df0"
      },
      "source": [
        "%timeit data['EWMA_NB'] = ewma_nb(data[sym].values, alpha)"
      ],
      "execution_count": 117,
      "outputs": [
        {
          "output_type": "stream",
          "text": [
            "The slowest run took 9.84 times longer than the fastest. This could mean that an intermediate result is being cached.\n",
            "10000 loops, best of 3: 129 µs per loop\n"
          ],
          "name": "stdout"
        }
      ]
    },
    {
      "cell_type": "markdown",
      "metadata": {
        "id": "s0yScx0YKCXJ",
        "colab_type": "text"
      },
      "source": [
        "Cython -\n",
        "The Cython version, ewma_cy() , also achieves considerable speed\n",
        "improvements but it is not as fast as the Numba version in this case:"
      ]
    },
    {
      "cell_type": "code",
      "metadata": {
        "id": "-1T_SjyRKAa_",
        "colab_type": "code",
        "colab": {}
      },
      "source": [
        "%%cython\n",
        "import numpy as np\n",
        "cimport cython\n",
        "@cython.boundscheck(False)\n",
        "@cython.wraparound(False)\n",
        "def ewma_cy(double[:] x, float alpha):\n",
        "    cdef int i\n",
        "    cdef double[:] y = np.empty_like(x)\n",
        "    y[0] = x[0]\n",
        "    for i in range(1, len(x)):\n",
        "        y[i] = alpha * x[i] + (1 - alpha) * y[i - 1]\n",
        "    return y"
      ],
      "execution_count": 118,
      "outputs": []
    },
    {
      "cell_type": "code",
      "metadata": {
        "id": "R3DP75zhKUBU",
        "colab_type": "code",
        "colab": {
          "base_uri": "https://localhost:8080/",
          "height": 52
        },
        "outputId": "5f2dd456-6725-41af-dae9-bee3ffc3df73"
      },
      "source": [
        "%time data['EWMA_CY'] = ewma_cy(data[sym].values, alpha)"
      ],
      "execution_count": 119,
      "outputs": [
        {
          "output_type": "stream",
          "text": [
            "CPU times: user 3.45 ms, sys: 22 µs, total: 3.47 ms\n",
            "Wall time: 3.41 ms\n"
          ],
          "name": "stdout"
        }
      ]
    },
    {
      "cell_type": "code",
      "metadata": {
        "id": "fVVv50lqKVzm",
        "colab_type": "code",
        "colab": {
          "base_uri": "https://localhost:8080/",
          "height": 34
        },
        "outputId": "a43dabcb-924e-43bb-9d51-b498cd1d0898"
      },
      "source": [
        "%timeit data['EWMA_CY'] = ewma_cy(data[sym].values, alpha)"
      ],
      "execution_count": 120,
      "outputs": [
        {
          "output_type": "stream",
          "text": [
            "1000 loops, best of 3: 615 µs per loop\n"
          ],
          "name": "stdout"
        }
      ]
    },
    {
      "cell_type": "markdown",
      "metadata": {
        "id": "EmTLkWEsKbgu",
        "colab_type": "text"
      },
      "source": [
        "The execution times in this example range from 0.1 ms to\n",
        "500 ms — a factor of 5,000 times\n",
        "\n",
        "It is easy in general to translate algorithms to the Python programming language.\n",
        "However, it is equally easy to implement algorithms in a way that is unnecessarily slow\n",
        "given the menu of performance options available. For interactive financial analytics, a\n",
        "first-best solution — i.e., one that does the trick but which might not be the fastest\n",
        "possible nor the most memory-efficient one — might be perfectly fine. For financial\n",
        "applications in production, one should strive to implement the best solution, even\n",
        "though this might involve a bit more research and some formal benchmarking."
      ]
    }
  ]
}